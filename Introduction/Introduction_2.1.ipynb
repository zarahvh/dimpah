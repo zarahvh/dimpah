{
 "cells": [
  {
   "cell_type": "markdown",
   "id": "retired-usage",
   "metadata": {},
   "source": [
    "# Introduction to Python 2.1"
   ]
  },
  {
   "cell_type": "code",
   "execution_count": 4,
   "id": "significant-department",
   "metadata": {},
   "outputs": [],
   "source": [
    "# introductions to interactive data analysis with Python\n",
    "# These should be four sessions to introduce Python and Pandas with some visualisation"
   ]
  },
  {
   "cell_type": "markdown",
   "id": "fifty-fraction",
   "metadata": {},
   "source": [
    "\n",
    "In this assignment we will explore and visualise real lige datasets using Python and Pandas\n",
    "Before we can explore real life datasets, we need to, however, first discuss some more advanced Python constructs.\n",
    "\n",
    "--> Lists? --> arrays\n",
    "--> Is matrix needed?\n",
    "\n",
    "\n",
    "\n",
    "Explanation arrays\n",
    "\n",
    "First import numpy\n",
    "\n",
    "Let's first create a vector by creating an array from 1 to 9 np.array(range(1,10)\n"
   ]
  },
  {
   "cell_type": "code",
   "execution_count": 5,
   "id": "careful-columbia",
   "metadata": {},
   "outputs": [],
   "source": [
    "import numpy as np\n",
    "import pandas as pd\n",
    "\n",
    "vec = np.array(range(1,10))"
   ]
  },
  {
   "cell_type": "markdown",
   "id": "differential-fancy",
   "metadata": {},
   "source": [
    "We will use the mtcars dataset. As the name tells you, it contains observations about cars. You can look at the first few observations/rows by typing in head(df). Contemplate a bit how cars are described here. The data frame is a good example of using features to describe observations."
   ]
  },
  {
   "cell_type": "code",
   "execution_count": 6,
   "id": "mounted-wisdom",
   "metadata": {},
   "outputs": [],
   "source": [
    "import statsmodels.api as sm"
   ]
  },
  {
   "cell_type": "code",
   "execution_count": 7,
   "id": "pleased-rapid",
   "metadata": {},
   "outputs": [],
   "source": [
    "mtcars = sm.datasets.get_rdataset(\"mtcars\", \"datasets\", cache=True).data\n",
    "df = pd.DataFrame(mtcars)"
   ]
  },
  {
   "cell_type": "markdown",
   "id": "apparent-cartridge",
   "metadata": {},
   "source": [
    "We will use the mtcars dataset. As the name tells you, it contains observations about cars. You can look at the first few observations/rows by typing in df.head(). Contemplate a bit how cars are described here. The data frame is a good example of using features to describe observations."
   ]
  },
  {
   "cell_type": "code",
   "execution_count": 8,
   "id": "brazilian-pregnancy",
   "metadata": {},
   "outputs": [
    {
     "data": {
      "text/html": [
       "<div>\n",
       "<style scoped>\n",
       "    .dataframe tbody tr th:only-of-type {\n",
       "        vertical-align: middle;\n",
       "    }\n",
       "\n",
       "    .dataframe tbody tr th {\n",
       "        vertical-align: top;\n",
       "    }\n",
       "\n",
       "    .dataframe thead th {\n",
       "        text-align: right;\n",
       "    }\n",
       "</style>\n",
       "<table border=\"1\" class=\"dataframe\">\n",
       "  <thead>\n",
       "    <tr style=\"text-align: right;\">\n",
       "      <th></th>\n",
       "      <th>mpg</th>\n",
       "      <th>cyl</th>\n",
       "      <th>disp</th>\n",
       "      <th>hp</th>\n",
       "      <th>drat</th>\n",
       "      <th>wt</th>\n",
       "      <th>qsec</th>\n",
       "      <th>vs</th>\n",
       "      <th>am</th>\n",
       "      <th>gear</th>\n",
       "      <th>carb</th>\n",
       "    </tr>\n",
       "  </thead>\n",
       "  <tbody>\n",
       "    <tr>\n",
       "      <th>Mazda RX4</th>\n",
       "      <td>21.0</td>\n",
       "      <td>6</td>\n",
       "      <td>160.0</td>\n",
       "      <td>110</td>\n",
       "      <td>3.90</td>\n",
       "      <td>2.620</td>\n",
       "      <td>16.46</td>\n",
       "      <td>0</td>\n",
       "      <td>1</td>\n",
       "      <td>4</td>\n",
       "      <td>4</td>\n",
       "    </tr>\n",
       "    <tr>\n",
       "      <th>Mazda RX4 Wag</th>\n",
       "      <td>21.0</td>\n",
       "      <td>6</td>\n",
       "      <td>160.0</td>\n",
       "      <td>110</td>\n",
       "      <td>3.90</td>\n",
       "      <td>2.875</td>\n",
       "      <td>17.02</td>\n",
       "      <td>0</td>\n",
       "      <td>1</td>\n",
       "      <td>4</td>\n",
       "      <td>4</td>\n",
       "    </tr>\n",
       "    <tr>\n",
       "      <th>Datsun 710</th>\n",
       "      <td>22.8</td>\n",
       "      <td>4</td>\n",
       "      <td>108.0</td>\n",
       "      <td>93</td>\n",
       "      <td>3.85</td>\n",
       "      <td>2.320</td>\n",
       "      <td>18.61</td>\n",
       "      <td>1</td>\n",
       "      <td>1</td>\n",
       "      <td>4</td>\n",
       "      <td>1</td>\n",
       "    </tr>\n",
       "    <tr>\n",
       "      <th>Hornet 4 Drive</th>\n",
       "      <td>21.4</td>\n",
       "      <td>6</td>\n",
       "      <td>258.0</td>\n",
       "      <td>110</td>\n",
       "      <td>3.08</td>\n",
       "      <td>3.215</td>\n",
       "      <td>19.44</td>\n",
       "      <td>1</td>\n",
       "      <td>0</td>\n",
       "      <td>3</td>\n",
       "      <td>1</td>\n",
       "    </tr>\n",
       "    <tr>\n",
       "      <th>Hornet Sportabout</th>\n",
       "      <td>18.7</td>\n",
       "      <td>8</td>\n",
       "      <td>360.0</td>\n",
       "      <td>175</td>\n",
       "      <td>3.15</td>\n",
       "      <td>3.440</td>\n",
       "      <td>17.02</td>\n",
       "      <td>0</td>\n",
       "      <td>0</td>\n",
       "      <td>3</td>\n",
       "      <td>2</td>\n",
       "    </tr>\n",
       "  </tbody>\n",
       "</table>\n",
       "</div>"
      ],
      "text/plain": [
       "                    mpg  cyl   disp   hp  drat     wt   qsec  vs  am  gear  \\\n",
       "Mazda RX4          21.0    6  160.0  110  3.90  2.620  16.46   0   1     4   \n",
       "Mazda RX4 Wag      21.0    6  160.0  110  3.90  2.875  17.02   0   1     4   \n",
       "Datsun 710         22.8    4  108.0   93  3.85  2.320  18.61   1   1     4   \n",
       "Hornet 4 Drive     21.4    6  258.0  110  3.08  3.215  19.44   1   0     3   \n",
       "Hornet Sportabout  18.7    8  360.0  175  3.15  3.440  17.02   0   0     3   \n",
       "\n",
       "                   carb  \n",
       "Mazda RX4             4  \n",
       "Mazda RX4 Wag         4  \n",
       "Datsun 710            1  \n",
       "Hornet 4 Drive        1  \n",
       "Hornet Sportabout     2  "
      ]
     },
     "execution_count": 8,
     "metadata": {},
     "output_type": "execute_result"
    }
   ],
   "source": [
    "df.head()"
   ]
  },
  {
   "cell_type": "markdown",
   "id": "coordinate-seller",
   "metadata": {},
   "source": [
    "Now select the first 10 rows of mtcars. Assign it to my_df"
   ]
  },
  {
   "cell_type": "code",
   "execution_count": 9,
   "id": "sonic-cleanup",
   "metadata": {},
   "outputs": [],
   "source": [
    "my_df = df.head(10)"
   ]
  },
  {
   "cell_type": "markdown",
   "id": "exterior-integrity",
   "metadata": {},
   "source": [
    "Finally, let’s collect the list, the matrix and the data frame in a list with my_list = [llist, my_df]"
   ]
  },
  {
   "cell_type": "code",
   "execution_count": 10,
   "id": "becoming-savage",
   "metadata": {},
   "outputs": [],
   "source": [
    "my_list = [vec, my_df]"
   ]
  },
  {
   "cell_type": "markdown",
   "id": "fourth-bumper",
   "metadata": {},
   "source": [
    "Print out my_list"
   ]
  },
  {
   "cell_type": "code",
   "execution_count": 11,
   "id": "included-plasma",
   "metadata": {},
   "outputs": [
    {
     "data": {
      "text/plain": [
       "[array([1, 2, 3, 4, 5, 6, 7, 8, 9]),\n",
       "                     mpg  cyl   disp   hp  drat     wt   qsec  vs  am  gear  \\\n",
       " Mazda RX4          21.0    6  160.0  110  3.90  2.620  16.46   0   1     4   \n",
       " Mazda RX4 Wag      21.0    6  160.0  110  3.90  2.875  17.02   0   1     4   \n",
       " Datsun 710         22.8    4  108.0   93  3.85  2.320  18.61   1   1     4   \n",
       " Hornet 4 Drive     21.4    6  258.0  110  3.08  3.215  19.44   1   0     3   \n",
       " Hornet Sportabout  18.7    8  360.0  175  3.15  3.440  17.02   0   0     3   \n",
       " Valiant            18.1    6  225.0  105  2.76  3.460  20.22   1   0     3   \n",
       " Duster 360         14.3    8  360.0  245  3.21  3.570  15.84   0   0     3   \n",
       " Merc 240D          24.4    4  146.7   62  3.69  3.190  20.00   1   0     4   \n",
       " Merc 230           22.8    4  140.8   95  3.92  3.150  22.90   1   0     4   \n",
       " Merc 280           19.2    6  167.6  123  3.92  3.440  18.30   1   0     4   \n",
       " \n",
       "                    carb  \n",
       " Mazda RX4             4  \n",
       " Mazda RX4 Wag         4  \n",
       " Datsun 710            1  \n",
       " Hornet 4 Drive        1  \n",
       " Hornet Sportabout     2  \n",
       " Valiant               1  \n",
       " Duster 360            4  \n",
       " Merc 240D             2  \n",
       " Merc 230              2  \n",
       " Merc 280              4  ]"
      ]
     },
     "execution_count": 11,
     "metadata": {},
     "output_type": "execute_result"
    }
   ],
   "source": [
    "my_list"
   ]
  },
  {
   "cell_type": "markdown",
   "id": "greatest-client",
   "metadata": {},
   "source": [
    "You now have a big collector with my_list! If you would like to access any element, you can use the double square brackets. For the first one, try my_list[[0]]"
   ]
  },
  {
   "cell_type": "code",
   "execution_count": 12,
   "id": "expanded-oxygen",
   "metadata": {},
   "outputs": [
    {
     "data": {
      "text/plain": [
       "array([1, 2, 3, 4, 5, 6, 7, 8, 9])"
      ]
     },
     "execution_count": 12,
     "metadata": {},
     "output_type": "execute_result"
    }
   ],
   "source": [
    "my_list[0]"
   ]
  },
  {
   "cell_type": "markdown",
   "id": "needed-serial",
   "metadata": {},
   "source": [
    "Let's create a vector containing months=np.array(['March', 'April', 'January', “'November', 'January', 'September', 'October', 'September', 'November', 'August', 'January', 'November', 'November', 'February', 'May', 'August', 'July', 'December', 'August', 'August', 'September', 'November', 'February', 'April']).\n",
    "\n"
   ]
  },
  {
   "cell_type": "code",
   "execution_count": 13,
   "id": "coordinated-tribute",
   "metadata": {},
   "outputs": [],
   "source": [
    "# No option in python to store array in factors\n",
    "months=np.array(['March', 'April', 'January', 'November', 'January', 'September', 'October', 'September', 'November', 'August', 'January', 'November', 'November', 'February', 'May', 'August', 'July', 'December', 'August', 'August', 'September', 'November', 'February', 'April']) "
   ]
  },
  {
   "cell_type": "code",
   "execution_count": 14,
   "id": "inclusive-nebraska",
   "metadata": {},
   "outputs": [
    {
     "data": {
      "text/plain": [
       "array(['March', 'April', 'January', 'November', 'January', 'September',\n",
       "       'October', 'September', 'November', 'August', 'January',\n",
       "       'November', 'November', 'February', 'May', 'August', 'July',\n",
       "       'December', 'August', 'August', 'September', 'November',\n",
       "       'February', 'April'], dtype='<U9')"
      ]
     },
     "execution_count": 14,
     "metadata": {},
     "output_type": "execute_result"
    }
   ],
   "source": [
    "months"
   ]
  },
  {
   "cell_type": "markdown",
   "id": "fossil-booking",
   "metadata": {},
   "source": [
    "Python Counter"
   ]
  },
  {
   "cell_type": "code",
   "execution_count": 15,
   "id": "chief-thinking",
   "metadata": {},
   "outputs": [
    {
     "data": {
      "text/plain": [
       "Counter({'March': 1,\n",
       "         'April': 2,\n",
       "         'January': 3,\n",
       "         'November': 5,\n",
       "         'September': 3,\n",
       "         'October': 1,\n",
       "         'August': 4,\n",
       "         'February': 2,\n",
       "         'May': 1,\n",
       "         'July': 1,\n",
       "         'December': 1})"
      ]
     },
     "execution_count": 15,
     "metadata": {},
     "output_type": "execute_result"
    }
   ],
   "source": [
    "from collections import Counter\n",
    "\n",
    "Counter(months)"
   ]
  },
  {
   "cell_type": "markdown",
   "id": "welcome-health",
   "metadata": {},
   "source": [
    "loops and control structures\n",
    "\n",
    "indenting\n",
    "\n",
    "\n",
    "Control structures execute a piece of code based on a condition. You can recognize them in most programming languages by the keyword if. In python they look like the following\n"
   ]
  },
  {
   "cell_type": "code",
   "execution_count": 16,
   "id": "heated-muscle",
   "metadata": {},
   "outputs": [
    {
     "name": "stdout",
     "output_type": "stream",
     "text": [
      "Showing LinkedIn information\n"
     ]
    }
   ],
   "source": [
    "medium = 'LinkedIn'\n",
    "\n",
    "if medium == 'LinkedIn':\n",
    "    print('Showing LinkedIn information')"
   ]
  },
  {
   "cell_type": "markdown",
   "id": "statutory-research",
   "metadata": {},
   "source": [
    "Now, also assign num_views = 14."
   ]
  },
  {
   "cell_type": "code",
   "execution_count": 17,
   "id": "medieval-process",
   "metadata": {},
   "outputs": [],
   "source": [
    "num_views = 14"
   ]
  },
  {
   "cell_type": "markdown",
   "id": "entertaining-verification",
   "metadata": {},
   "source": [
    "Let’s try to confirm whether we are popular with if num_views > 15 print 'You are very popular!'"
   ]
  },
  {
   "cell_type": "code",
   "execution_count": 18,
   "id": "wireless-leader",
   "metadata": {},
   "outputs": [],
   "source": [
    "if num_views > 15:\n",
    "    print('you are very popular!')"
   ]
  },
  {
   "cell_type": "markdown",
   "id": "recent-efficiency",
   "metadata": {},
   "source": [
    "You can combine both expressions also logically. and stands for a logical and, while or stands for the logical or. Try the logical and and type in if (num_views > 15 & medium == 'LinkedIn') print('You are popular on LinkedIn!') \n",
    "\n",
    "Explain the results!"
   ]
  },
  {
   "cell_type": "code",
   "execution_count": 19,
   "id": "respiratory-daniel",
   "metadata": {},
   "outputs": [],
   "source": [
    "if (num_views > 15 and medium == 'LinkedIn'):\n",
    "    print('You are popular on LinkedIn!')"
   ]
  },
  {
   "cell_type": "markdown",
   "id": "neither-bobby",
   "metadata": {},
   "source": [
    "Finally, you can also tell the computer to do other work if the condition is not fulfilled. You need to use the keyword else"
   ]
  },
  {
   "cell_type": "code",
   "execution_count": 20,
   "id": "electoral-billion",
   "metadata": {},
   "outputs": [
    {
     "name": "stdout",
     "output_type": "stream",
     "text": [
      "Try to be more visible!\n"
     ]
    }
   ],
   "source": [
    "if (num_views > 15 and medium == 'LinkedIn'):\n",
    "    print('You are popular on LinkedIn!')\n",
    "else:\n",
    "    print('Try to be more visible!')"
   ]
  },
  {
   "cell_type": "markdown",
   "id": "congressional-miniature",
   "metadata": {},
   "source": [
    "for loops"
   ]
  },
  {
   "cell_type": "code",
   "execution_count": 21,
   "id": "appointed-dream",
   "metadata": {},
   "outputs": [
    {
     "name": "stdout",
     "output_type": "stream",
     "text": [
      "l\n",
      "i\n",
      "n\n",
      "k\n",
      "e\n",
      "d\n",
      "i\n",
      "n\n"
     ]
    }
   ],
   "source": [
    "for letter in 'linkedin':\n",
    "    print(letter)"
   ]
  },
  {
   "cell_type": "markdown",
   "id": "inclusive-standing",
   "metadata": {},
   "source": [
    "For loops can be very useful to perform repeated operations on collections of data, which is something we often want to do. So, for instance, loops could be used to get the square root of each element in a vector or we could use them to calculate the average value of a numeric column in a data frame. However numpy has some easier functions to do so for the entire list or array at once (..)\n",
    "\n",
    "apply function similar to the numpy functions?\n",
    "\n",
    "Taking the square root of each element by doing to following:"
   ]
  },
  {
   "cell_type": "code",
   "execution_count": 22,
   "id": "massive-construction",
   "metadata": {},
   "outputs": [
    {
     "name": "stdout",
     "output_type": "stream",
     "text": [
      "1.0\n",
      "1.4142135623730951\n",
      "1.7320508075688772\n",
      "2.0\n",
      "2.23606797749979\n",
      "2.449489742783178\n",
      "2.6457513110645907\n",
      "2.8284271247461903\n",
      "3.0\n"
     ]
    }
   ],
   "source": [
    "import math\n",
    "\n",
    "for num in vec:\n",
    "    sqr = math.sqrt(num)\n",
    "    print(sqr)"
   ]
  },
  {
   "cell_type": "markdown",
   "id": "closed-joseph",
   "metadata": {},
   "source": [
    "We can replace it by the following shorter code using numpy"
   ]
  },
  {
   "cell_type": "code",
   "execution_count": 23,
   "id": "pursuant-continent",
   "metadata": {},
   "outputs": [
    {
     "data": {
      "text/plain": [
       "array([1.        , 1.41421356, 1.73205081, 2.        , 2.23606798,\n",
       "       2.44948974, 2.64575131, 2.82842712, 3.        ])"
      ]
     },
     "execution_count": 23,
     "metadata": {},
     "output_type": "execute_result"
    }
   ],
   "source": [
    "np.sqrt(vec)"
   ]
  },
  {
   "cell_type": "markdown",
   "id": "clean-encounter",
   "metadata": {},
   "source": [
    "Let's say we want to take the average of our linkdin and facebook views, using the following data:"
   ]
  },
  {
   "cell_type": "code",
   "execution_count": 24,
   "id": "painful-thanksgiving",
   "metadata": {},
   "outputs": [],
   "source": [
    "linkedin = np.array([16, 9, 13, 5, 2, 17, 14])\n",
    "facebook = np.array([17, 7, 5, 16, 8, 13, 14])"
   ]
  },
  {
   "cell_type": "code",
   "execution_count": 25,
   "id": "finite-telling",
   "metadata": {},
   "outputs": [
    {
     "name": "stdout",
     "output_type": "stream",
     "text": [
      "10.857142857142858\n",
      "11.428571428571429\n"
     ]
    }
   ],
   "source": [
    "print(np.average(linkedin))\n",
    "print(np.average(facebook))"
   ]
  },
  {
   "cell_type": "markdown",
   "id": "british-lebanon",
   "metadata": {},
   "source": [
    "You can also play with numpy's other functions such as np.char.str_len This counts the number of character for each entry in the days vector. "
   ]
  },
  {
   "cell_type": "code",
   "execution_count": 26,
   "id": "racial-affair",
   "metadata": {},
   "outputs": [],
   "source": [
    "days = (['Monday', 'Tuesday', 'Wednesday', 'Thursday', 'Friday', 'Saturday', 'Sunday'])"
   ]
  },
  {
   "cell_type": "code",
   "execution_count": 27,
   "id": "tropical-questionnaire",
   "metadata": {},
   "outputs": [
    {
     "data": {
      "text/plain": [
       "array([6, 7, 9, 8, 6, 8, 6])"
      ]
     },
     "execution_count": 27,
     "metadata": {},
     "output_type": "execute_result"
    }
   ],
   "source": [
    "np.char.str_len(days)"
   ]
  },
  {
   "cell_type": "markdown",
   "id": "discrete-detective",
   "metadata": {},
   "source": [
    "How about np.char.upper(days)?"
   ]
  },
  {
   "cell_type": "code",
   "execution_count": 28,
   "id": "mental-planner",
   "metadata": {},
   "outputs": [
    {
     "data": {
      "text/plain": [
       "array(['MONDAY', 'TUESDAY', 'WEDNESDAY', 'THURSDAY', 'FRIDAY', 'SATURDAY',\n",
       "       'SUNDAY'], dtype='<U9')"
      ]
     },
     "execution_count": 28,
     "metadata": {},
     "output_type": "execute_result"
    }
   ],
   "source": [
    "np.char.upper(days)"
   ]
  },
  {
   "cell_type": "markdown",
   "id": "asian-heading",
   "metadata": {},
   "source": [
    "For our final apply example, run np.size(days)"
   ]
  },
  {
   "cell_type": "code",
   "execution_count": 29,
   "id": "upper-amazon",
   "metadata": {},
   "outputs": [
    {
     "data": {
      "text/plain": [
       "7"
      ]
     },
     "execution_count": 29,
     "metadata": {},
     "output_type": "execute_result"
    }
   ],
   "source": [
    "np.size(days)"
   ]
  },
  {
   "cell_type": "code",
   "execution_count": 30,
   "id": "objective-cursor",
   "metadata": {},
   "outputs": [],
   "source": [
    "# In thhe original assigment these functions are used for size of a dataframe while numpy doesn't work for that,\n",
    "# but pandas does, should this be about pandas then instead of numpy? and then on operations for dataframes\n",
    "# But umpy functions do work on pandas dataframe columns\n",
    "# Not really a lapply sapply apply in python"
   ]
  },
  {
   "cell_type": "markdown",
   "id": "gothic-heading",
   "metadata": {},
   "source": [
    "Something about built ins in pandas? "
   ]
  },
  {
   "cell_type": "markdown",
   "id": "seventh-midwest",
   "metadata": {},
   "source": [
    "To add 2 to each element in a numpy array we simply type the name of the array + 2"
   ]
  },
  {
   "cell_type": "code",
   "execution_count": 31,
   "id": "spread-reason",
   "metadata": {},
   "outputs": [
    {
     "data": {
      "text/plain": [
       "array([19,  9,  7, 18, 10, 15, 16])"
      ]
     },
     "execution_count": 31,
     "metadata": {},
     "output_type": "execute_result"
    }
   ],
   "source": [
    "facebook + 2"
   ]
  },
  {
   "cell_type": "code",
   "execution_count": 32,
   "id": "maritime-nigeria",
   "metadata": {},
   "outputs": [
    {
     "data": {
      "text/plain": [
       "1"
      ]
     },
     "execution_count": 32,
     "metadata": {},
     "output_type": "execute_result"
    }
   ],
   "source": [
    "np.sum([-2,3])"
   ]
  },
  {
   "cell_type": "markdown",
   "id": "banner-costs",
   "metadata": {},
   "source": [
    "That’s it with regard to the basics of python. Next, we use our knowledge to analyse a real life social dataset about death penalties and explore how easy it is to plot data with python."
   ]
  },
  {
   "cell_type": "markdown",
   "id": "sustainable-chuck",
   "metadata": {},
   "source": [
    "We will work through a detailed example of data exploration and analyse the question of racism with regard to death penalties in the USA. Deathpenalty covers judgements of defendants in cases of multiple murders in Florida between 1976 and 1987. The cases all have features that (a) describe whether the death penalty was handed out (where 0 refers to no, 1 to yes), (b) the race of the defendant and (c) the race of the victim (black is referred as 0, white is 1). Check out the description at http://artax.karlin.mff.cuni.cz/r-help/library/catdata/html/deathpenalty.html\n",
    "\n"
   ]
  },
  {
   "cell_type": "code",
   "execution_count": 33,
   "id": "cooperative-aging",
   "metadata": {},
   "outputs": [],
   "source": [
    "df = pd.read_csv('deathpenalty-florida.csv')"
   ]
  },
  {
   "cell_type": "markdown",
   "id": "reflected-bridges",
   "metadata": {},
   "source": [
    "By typing in df.head(), we can see the first couple of cases/rows. What types of columns do you see?"
   ]
  },
  {
   "cell_type": "code",
   "execution_count": 34,
   "id": "drawn-olympus",
   "metadata": {},
   "outputs": [
    {
     "data": {
      "text/html": [
       "<div>\n",
       "<style scoped>\n",
       "    .dataframe tbody tr th:only-of-type {\n",
       "        vertical-align: middle;\n",
       "    }\n",
       "\n",
       "    .dataframe tbody tr th {\n",
       "        vertical-align: top;\n",
       "    }\n",
       "\n",
       "    .dataframe thead th {\n",
       "        text-align: right;\n",
       "    }\n",
       "</style>\n",
       "<table border=\"1\" class=\"dataframe\">\n",
       "  <thead>\n",
       "    <tr style=\"text-align: right;\">\n",
       "      <th></th>\n",
       "      <th>Unnamed: 0</th>\n",
       "      <th>DeathPenalty</th>\n",
       "      <th>VictimRace</th>\n",
       "      <th>DefendantRace</th>\n",
       "      <th>Freq</th>\n",
       "    </tr>\n",
       "  </thead>\n",
       "  <tbody>\n",
       "    <tr>\n",
       "      <th>0</th>\n",
       "      <td>1</td>\n",
       "      <td>0</td>\n",
       "      <td>0</td>\n",
       "      <td>0</td>\n",
       "      <td>139</td>\n",
       "    </tr>\n",
       "    <tr>\n",
       "      <th>1</th>\n",
       "      <td>2</td>\n",
       "      <td>1</td>\n",
       "      <td>0</td>\n",
       "      <td>0</td>\n",
       "      <td>4</td>\n",
       "    </tr>\n",
       "    <tr>\n",
       "      <th>2</th>\n",
       "      <td>3</td>\n",
       "      <td>0</td>\n",
       "      <td>1</td>\n",
       "      <td>0</td>\n",
       "      <td>37</td>\n",
       "    </tr>\n",
       "    <tr>\n",
       "      <th>3</th>\n",
       "      <td>4</td>\n",
       "      <td>1</td>\n",
       "      <td>1</td>\n",
       "      <td>0</td>\n",
       "      <td>11</td>\n",
       "    </tr>\n",
       "    <tr>\n",
       "      <th>4</th>\n",
       "      <td>5</td>\n",
       "      <td>0</td>\n",
       "      <td>0</td>\n",
       "      <td>1</td>\n",
       "      <td>16</td>\n",
       "    </tr>\n",
       "  </tbody>\n",
       "</table>\n",
       "</div>"
      ],
      "text/plain": [
       "   Unnamed: 0  DeathPenalty  VictimRace  DefendantRace  Freq\n",
       "0           1             0           0              0   139\n",
       "1           2             1           0              0     4\n",
       "2           3             0           1              0    37\n",
       "3           4             1           1              0    11\n",
       "4           5             0           0              1    16"
      ]
     },
     "execution_count": 34,
     "metadata": {},
     "output_type": "execute_result"
    }
   ],
   "source": [
    "df.head()"
   ]
  },
  {
   "cell_type": "markdown",
   "id": "fixed-collection",
   "metadata": {},
   "source": [
    "By entering df.tail(), we can see the last couple of cases/rows."
   ]
  },
  {
   "cell_type": "code",
   "execution_count": 35,
   "id": "educated-course",
   "metadata": {},
   "outputs": [
    {
     "data": {
      "text/html": [
       "<div>\n",
       "<style scoped>\n",
       "    .dataframe tbody tr th:only-of-type {\n",
       "        vertical-align: middle;\n",
       "    }\n",
       "\n",
       "    .dataframe tbody tr th {\n",
       "        vertical-align: top;\n",
       "    }\n",
       "\n",
       "    .dataframe thead th {\n",
       "        text-align: right;\n",
       "    }\n",
       "</style>\n",
       "<table border=\"1\" class=\"dataframe\">\n",
       "  <thead>\n",
       "    <tr style=\"text-align: right;\">\n",
       "      <th></th>\n",
       "      <th>Unnamed: 0</th>\n",
       "      <th>DeathPenalty</th>\n",
       "      <th>VictimRace</th>\n",
       "      <th>DefendantRace</th>\n",
       "      <th>Freq</th>\n",
       "    </tr>\n",
       "  </thead>\n",
       "  <tbody>\n",
       "    <tr>\n",
       "      <th>3</th>\n",
       "      <td>4</td>\n",
       "      <td>1</td>\n",
       "      <td>1</td>\n",
       "      <td>0</td>\n",
       "      <td>11</td>\n",
       "    </tr>\n",
       "    <tr>\n",
       "      <th>4</th>\n",
       "      <td>5</td>\n",
       "      <td>0</td>\n",
       "      <td>0</td>\n",
       "      <td>1</td>\n",
       "      <td>16</td>\n",
       "    </tr>\n",
       "    <tr>\n",
       "      <th>5</th>\n",
       "      <td>6</td>\n",
       "      <td>1</td>\n",
       "      <td>0</td>\n",
       "      <td>1</td>\n",
       "      <td>0</td>\n",
       "    </tr>\n",
       "    <tr>\n",
       "      <th>6</th>\n",
       "      <td>7</td>\n",
       "      <td>0</td>\n",
       "      <td>1</td>\n",
       "      <td>1</td>\n",
       "      <td>414</td>\n",
       "    </tr>\n",
       "    <tr>\n",
       "      <th>7</th>\n",
       "      <td>8</td>\n",
       "      <td>1</td>\n",
       "      <td>1</td>\n",
       "      <td>1</td>\n",
       "      <td>53</td>\n",
       "    </tr>\n",
       "  </tbody>\n",
       "</table>\n",
       "</div>"
      ],
      "text/plain": [
       "   Unnamed: 0  DeathPenalty  VictimRace  DefendantRace  Freq\n",
       "3           4             1           1              0    11\n",
       "4           5             0           0              1    16\n",
       "5           6             1           0              1     0\n",
       "6           7             0           1              1   414\n",
       "7           8             1           1              1    53"
      ]
     },
     "execution_count": 35,
     "metadata": {},
     "output_type": "execute_result"
    }
   ],
   "source": [
    "df.tail()"
   ]
  },
  {
   "cell_type": "markdown",
   "id": "changed-beaver",
   "metadata": {},
   "source": [
    "Next, we will try to ask the data a few simple questions. Sometimes the solution will be given. Otherwise, you will have to find it yourself.\n",
    "\n",
    "With the function np.mean() you can retrieve the average of each of the columns"
   ]
  },
  {
   "cell_type": "markdown",
   "id": "likely-costa",
   "metadata": {},
   "source": [
    "np.mean(df)"
   ]
  },
  {
   "cell_type": "markdown",
   "id": "correct-jewelry",
   "metadata": {},
   "source": [
    "We can also only do it for the deathpenalty frequency column by selecting it from the dataframe. You can thus answer what the average frequency of judgements would be by entering np.mean(df['Freq']). Try it."
   ]
  },
  {
   "cell_type": "code",
   "execution_count": 36,
   "id": "liked-xerox",
   "metadata": {},
   "outputs": [
    {
     "data": {
      "text/plain": [
       "84.25"
      ]
     },
     "execution_count": 36,
     "metadata": {},
     "output_type": "execute_result"
    }
   ],
   "source": [
    "np.mean(df['Freq'])"
   ]
  },
  {
   "cell_type": "markdown",
   "id": "handed-enzyme",
   "metadata": {},
   "source": [
    "mean is very useful to understand data. When something is deemed average, it falls somewhere between the extreme ends of the scale. An average student might have marks falling in the middle of his or her classmates; an average weight is neither unusually light nor heavy. An average item is typical, and not too unlike the others in the group. You might think of it as an exemplar.\n",
    "\n",
    "median is another function like mean that summarizes a whole dataset by delivering a central tendency. Like mean, it identifies a value that falls in the middle of a set of data. median splits the upper 50% of a data from the lower 50%. It thus delivers the value that occurs halfway through an ordered list of values. How do you get the median frequency of judgements?"
   ]
  },
  {
   "cell_type": "code",
   "execution_count": 37,
   "id": "serial-amazon",
   "metadata": {},
   "outputs": [
    {
     "data": {
      "text/plain": [
       "26.5"
      ]
     },
     "execution_count": 37,
     "metadata": {},
     "output_type": "execute_result"
    }
   ],
   "source": [
    "np.median(df['Freq'])"
   ]
  },
  {
   "cell_type": "markdown",
   "id": "stainless-romance",
   "metadata": {},
   "source": [
    "What is the lowest number of judgements (min)? Assign the value to min_freq, please."
   ]
  },
  {
   "cell_type": "code",
   "execution_count": 39,
   "id": "challenging-publication",
   "metadata": {},
   "outputs": [],
   "source": [
    "min_freq = np.min(df['Freq'])"
   ]
  },
  {
   "cell_type": "markdown",
   "id": "legislative-input",
   "metadata": {},
   "source": [
    "What is the highest number of judgements (max)? Assign the value to max_freq, please."
   ]
  },
  {
   "cell_type": "code",
   "execution_count": 40,
   "id": "recovered-market",
   "metadata": {},
   "outputs": [],
   "source": [
    "max_freq = np.max(df['Freq'])"
   ]
  },
  {
   "cell_type": "markdown",
   "id": "unauthorized-rabbit",
   "metadata": {},
   "source": [
    "What kind of case combinations had the lowest numbers of judgements? We can obtian these using functions that come with the pandas dataframe, to get the three rows with the smallest value for Freq, type df.nsmallest(1, 'Freq'). To create a subset, assign it to subset_small"
   ]
  },
  {
   "cell_type": "code",
   "execution_count": 49,
   "id": "adaptive-worry",
   "metadata": {},
   "outputs": [
    {
     "data": {
      "text/html": [
       "<div>\n",
       "<style scoped>\n",
       "    .dataframe tbody tr th:only-of-type {\n",
       "        vertical-align: middle;\n",
       "    }\n",
       "\n",
       "    .dataframe tbody tr th {\n",
       "        vertical-align: top;\n",
       "    }\n",
       "\n",
       "    .dataframe thead th {\n",
       "        text-align: right;\n",
       "    }\n",
       "</style>\n",
       "<table border=\"1\" class=\"dataframe\">\n",
       "  <thead>\n",
       "    <tr style=\"text-align: right;\">\n",
       "      <th></th>\n",
       "      <th>Unnamed: 0</th>\n",
       "      <th>DeathPenalty</th>\n",
       "      <th>VictimRace</th>\n",
       "      <th>DefendantRace</th>\n",
       "      <th>Freq</th>\n",
       "    </tr>\n",
       "  </thead>\n",
       "  <tbody>\n",
       "    <tr>\n",
       "      <th>5</th>\n",
       "      <td>6</td>\n",
       "      <td>1</td>\n",
       "      <td>0</td>\n",
       "      <td>1</td>\n",
       "      <td>0</td>\n",
       "    </tr>\n",
       "  </tbody>\n",
       "</table>\n",
       "</div>"
      ],
      "text/plain": [
       "   Unnamed: 0  DeathPenalty  VictimRace  DefendantRace  Freq\n",
       "5           6             1           0              1     0"
      ]
     },
     "execution_count": 49,
     "metadata": {},
     "output_type": "execute_result"
    }
   ],
   "source": [
    "df.loc[df['Freq']]\n",
    "df.nsmallest(1, 'Freq')"
   ]
  },
  {
   "cell_type": "markdown",
   "id": "failing-excess",
   "metadata": {},
   "source": [
    "Ok, then. Which case combinations had the highest number of judgements? You just need to change the function to nlargest"
   ]
  },
  {
   "cell_type": "code",
   "execution_count": 50,
   "id": "varying-wireless",
   "metadata": {},
   "outputs": [
    {
     "data": {
      "text/html": [
       "<div>\n",
       "<style scoped>\n",
       "    .dataframe tbody tr th:only-of-type {\n",
       "        vertical-align: middle;\n",
       "    }\n",
       "\n",
       "    .dataframe tbody tr th {\n",
       "        vertical-align: top;\n",
       "    }\n",
       "\n",
       "    .dataframe thead th {\n",
       "        text-align: right;\n",
       "    }\n",
       "</style>\n",
       "<table border=\"1\" class=\"dataframe\">\n",
       "  <thead>\n",
       "    <tr style=\"text-align: right;\">\n",
       "      <th></th>\n",
       "      <th>Unnamed: 0</th>\n",
       "      <th>DeathPenalty</th>\n",
       "      <th>VictimRace</th>\n",
       "      <th>DefendantRace</th>\n",
       "      <th>Freq</th>\n",
       "    </tr>\n",
       "  </thead>\n",
       "  <tbody>\n",
       "    <tr>\n",
       "      <th>6</th>\n",
       "      <td>7</td>\n",
       "      <td>0</td>\n",
       "      <td>1</td>\n",
       "      <td>1</td>\n",
       "      <td>414</td>\n",
       "    </tr>\n",
       "  </tbody>\n",
       "</table>\n",
       "</div>"
      ],
      "text/plain": [
       "   Unnamed: 0  DeathPenalty  VictimRace  DefendantRace  Freq\n",
       "6           7             0           1              1   414"
      ]
     },
     "execution_count": 50,
     "metadata": {},
     "output_type": "execute_result"
    }
   ],
   "source": [
    "df.nlargest(1, 'Freq')"
   ]
  },
  {
   "cell_type": "markdown",
   "id": "interested-terrorist",
   "metadata": {},
   "source": [
    "min and max are measures of the diversity or spread of data. Knowing about the spread provides a sense of the data’s highs and lows, and whether most values are like or unlike the mean and median. The span between the minimum and maximum value is known as the range. "
   ]
  },
  {
   "cell_type": "code",
   "execution_count": 51,
   "id": "hollow-assumption",
   "metadata": {},
   "outputs": [],
   "source": [
    "# Doesnt really exist in python"
   ]
  },
  {
   "cell_type": "markdown",
   "id": "binding-spanking",
   "metadata": {},
   "source": [
    "The range function returns both the minimum and maximum value. With the diff function you could get the absolute difference. Do you know how? The first and third quartiles, Q1 and Q3, refer to the value below or above which one quarter of the values are found. Along with the median (Q2), the quartiles divide a dataset into four portions, each with the same number of values. Check out np.quantile(df['Freq'], [0.25,0.5, 0.75, 1])"
   ]
  },
  {
   "cell_type": "code",
   "execution_count": 57,
   "id": "allied-logistics",
   "metadata": {},
   "outputs": [
    {
     "data": {
      "text/plain": [
       "array([  9.25,  26.5 ,  74.5 , 414.  ])"
      ]
     },
     "execution_count": 57,
     "metadata": {},
     "output_type": "execute_result"
    }
   ],
   "source": [
    "np.quantile(df['Freq'], [0.25,0.5, 0.75, 1])"
   ]
  },
  {
   "cell_type": "markdown",
   "id": "usual-tonight",
   "metadata": {},
   "source": [
    "There are two more really useful data exploration functions in Python. The first one is describe. Try df.describe() and describe what is returned."
   ]
  },
  {
   "cell_type": "code",
   "execution_count": 58,
   "id": "official-registrar",
   "metadata": {},
   "outputs": [
    {
     "data": {
      "text/html": [
       "<div>\n",
       "<style scoped>\n",
       "    .dataframe tbody tr th:only-of-type {\n",
       "        vertical-align: middle;\n",
       "    }\n",
       "\n",
       "    .dataframe tbody tr th {\n",
       "        vertical-align: top;\n",
       "    }\n",
       "\n",
       "    .dataframe thead th {\n",
       "        text-align: right;\n",
       "    }\n",
       "</style>\n",
       "<table border=\"1\" class=\"dataframe\">\n",
       "  <thead>\n",
       "    <tr style=\"text-align: right;\">\n",
       "      <th></th>\n",
       "      <th>Unnamed: 0</th>\n",
       "      <th>DeathPenalty</th>\n",
       "      <th>VictimRace</th>\n",
       "      <th>DefendantRace</th>\n",
       "      <th>Freq</th>\n",
       "    </tr>\n",
       "  </thead>\n",
       "  <tbody>\n",
       "    <tr>\n",
       "      <th>count</th>\n",
       "      <td>8.00000</td>\n",
       "      <td>8.000000</td>\n",
       "      <td>8.000000</td>\n",
       "      <td>8.000000</td>\n",
       "      <td>8.000000</td>\n",
       "    </tr>\n",
       "    <tr>\n",
       "      <th>mean</th>\n",
       "      <td>4.50000</td>\n",
       "      <td>0.500000</td>\n",
       "      <td>0.500000</td>\n",
       "      <td>0.500000</td>\n",
       "      <td>84.250000</td>\n",
       "    </tr>\n",
       "    <tr>\n",
       "      <th>std</th>\n",
       "      <td>2.44949</td>\n",
       "      <td>0.534522</td>\n",
       "      <td>0.534522</td>\n",
       "      <td>0.534522</td>\n",
       "      <td>140.663479</td>\n",
       "    </tr>\n",
       "    <tr>\n",
       "      <th>min</th>\n",
       "      <td>1.00000</td>\n",
       "      <td>0.000000</td>\n",
       "      <td>0.000000</td>\n",
       "      <td>0.000000</td>\n",
       "      <td>0.000000</td>\n",
       "    </tr>\n",
       "    <tr>\n",
       "      <th>25%</th>\n",
       "      <td>2.75000</td>\n",
       "      <td>0.000000</td>\n",
       "      <td>0.000000</td>\n",
       "      <td>0.000000</td>\n",
       "      <td>9.250000</td>\n",
       "    </tr>\n",
       "    <tr>\n",
       "      <th>50%</th>\n",
       "      <td>4.50000</td>\n",
       "      <td>0.500000</td>\n",
       "      <td>0.500000</td>\n",
       "      <td>0.500000</td>\n",
       "      <td>26.500000</td>\n",
       "    </tr>\n",
       "    <tr>\n",
       "      <th>75%</th>\n",
       "      <td>6.25000</td>\n",
       "      <td>1.000000</td>\n",
       "      <td>1.000000</td>\n",
       "      <td>1.000000</td>\n",
       "      <td>74.500000</td>\n",
       "    </tr>\n",
       "    <tr>\n",
       "      <th>max</th>\n",
       "      <td>8.00000</td>\n",
       "      <td>1.000000</td>\n",
       "      <td>1.000000</td>\n",
       "      <td>1.000000</td>\n",
       "      <td>414.000000</td>\n",
       "    </tr>\n",
       "  </tbody>\n",
       "</table>\n",
       "</div>"
      ],
      "text/plain": [
       "       Unnamed: 0  DeathPenalty  VictimRace  DefendantRace        Freq\n",
       "count     8.00000      8.000000    8.000000       8.000000    8.000000\n",
       "mean      4.50000      0.500000    0.500000       0.500000   84.250000\n",
       "std       2.44949      0.534522    0.534522       0.534522  140.663479\n",
       "min       1.00000      0.000000    0.000000       0.000000    0.000000\n",
       "25%       2.75000      0.000000    0.000000       0.000000    9.250000\n",
       "50%       4.50000      0.500000    0.500000       0.500000   26.500000\n",
       "75%       6.25000      1.000000    1.000000       1.000000   74.500000\n",
       "max       8.00000      1.000000    1.000000       1.000000  414.000000"
      ]
     },
     "execution_count": 58,
     "metadata": {},
     "output_type": "execute_result"
    }
   ],
   "source": [
    "df.describe()"
   ]
  },
  {
   "cell_type": "markdown",
   "id": "aware-maker",
   "metadata": {},
   "source": [
    "summary returns all those value you just tried to find yourself! Oh, well. There is another function data(), which returns the structure of a data frame. It is very useful to find out about columns and features of a dataset. Try df.info()."
   ]
  },
  {
   "cell_type": "code",
   "execution_count": 59,
   "id": "essential-indie",
   "metadata": {},
   "outputs": [
    {
     "name": "stdout",
     "output_type": "stream",
     "text": [
      "<class 'pandas.core.frame.DataFrame'>\n",
      "RangeIndex: 8 entries, 0 to 7\n",
      "Data columns (total 5 columns):\n",
      " #   Column         Non-Null Count  Dtype\n",
      "---  ------         --------------  -----\n",
      " 0   Unnamed: 0     8 non-null      int64\n",
      " 1   DeathPenalty   8 non-null      int64\n",
      " 2   VictimRace     8 non-null      int64\n",
      " 3   DefendantRace  8 non-null      int64\n",
      " 4   Freq           8 non-null      int64\n",
      "dtypes: int64(5)\n",
      "memory usage: 448.0 bytes\n"
     ]
    }
   ],
   "source": [
    "df.info()"
   ]
  },
  {
   "cell_type": "markdown",
   "id": "representative-wages",
   "metadata": {},
   "source": [
    "hese summary statistics work only with what in statistics is called numerical data, which is basically anything measured in numbers. Alternatively, if data is represented by a set of categories, it is called categorical or nominal. In our dataset, we do not really have exciting categorical data, because of the way the data set is constructed. In Python, we can compare categorical features by counting the values of for example the VictimRace to see how often each race occurs by typing df.value_counts('VictimRace') and you will see that both victim races are equally represented.."
   ]
  },
  {
   "cell_type": "code",
   "execution_count": 63,
   "id": "major-survival",
   "metadata": {},
   "outputs": [
    {
     "data": {
      "text/plain": [
       "VictimRace\n",
       "0    4\n",
       "1    4\n",
       "dtype: int64"
      ]
     },
     "execution_count": 63,
     "metadata": {},
     "output_type": "execute_result"
    }
   ],
   "source": [
    "df.value_counts('VictimRace')"
   ]
  },
  {
   "cell_type": "markdown",
   "id": "paperback-strike",
   "metadata": {},
   "source": [
    "We are only getting warm. Let’s make this all a little bit more complicated. We want to know how many black or white people received the death penalty. Remember that a black person is represented by 0 and a white by 1. A death penalty was handed out if DeathPenalty equals 1, with 0 otherwise. Let’s first create a new data frame black_and_deathpenalty, which contains black defendants who received the death penalty by usling df.loc[]. "
   ]
  },
  {
   "cell_type": "code",
   "execution_count": 77,
   "id": "frank-concern",
   "metadata": {},
   "outputs": [],
   "source": [
    "black_and_deathpenalty = df.loc[(df['DefendantRace'] == 0) & (df['DeathPenalty'] == 1)]"
   ]
  },
  {
   "cell_type": "markdown",
   "id": "inside-education",
   "metadata": {},
   "source": [
    "Similarly, we can get the white defendants who received the death penalty. Get the subset and assign it to white_and_deathpenalty."
   ]
  },
  {
   "cell_type": "code",
   "execution_count": 79,
   "id": "caroline-warehouse",
   "metadata": {},
   "outputs": [],
   "source": [
    "white_and_deathpenalty = df.loc[(df['DefendantRace'] == 1) & (df['DeathPenalty'] == 1)]"
   ]
  },
  {
   "cell_type": "markdown",
   "id": "latest-fleet",
   "metadata": {},
   "source": [
    "Overall, we want to compare the likelihood of white and black defendants to receive the death penalty. In order to achieve this, the next step is to find out about the overall number of black people who received the death penalty. You can get this with the sum function, which we have already met. Use n_black_deathpenalty "
   ]
  },
  {
   "cell_type": "code",
   "execution_count": 109,
   "id": "fifty-lucas",
   "metadata": {},
   "outputs": [
    {
     "data": {
      "text/plain": [
       "15"
      ]
     },
     "execution_count": 109,
     "metadata": {},
     "output_type": "execute_result"
    }
   ],
   "source": [
    "n_black_deathpenalty = black_and_deathpenalty['Freq'].sum()\n"
   ]
  },
  {
   "cell_type": "markdown",
   "id": "dimensional-cancellation",
   "metadata": {},
   "source": [
    "Next, find those whites, which were given a death penalty. Assign a new variable n_white_deathpenalty."
   ]
  },
  {
   "cell_type": "code",
   "execution_count": 118,
   "id": "located-stuff",
   "metadata": {},
   "outputs": [],
   "source": [
    "n_white_deathpenalty = white_and_deathpenalty['Freq'].sum()"
   ]
  },
  {
   "cell_type": "markdown",
   "id": "canadian-synthesis",
   "metadata": {},
   "source": [
    "What is therefore the proportion of black people receiving the death penalty? Remember you can get this by dividing the number of black defendants with the death penalty by the total number of defendants with the death penalty."
   ]
  },
  {
   "cell_type": "code",
   "execution_count": 115,
   "id": "micro-output",
   "metadata": {},
   "outputs": [
    {
     "data": {
      "text/plain": [
       "0.02177068214804064"
      ]
     },
     "execution_count": 115,
     "metadata": {},
     "output_type": "execute_result"
    }
   ],
   "source": [
    "n_black_deathpenalty / (n_black_deathpenalty + df['Freq'].sum())"
   ]
  },
  {
   "cell_type": "markdown",
   "id": "concerned-valuable",
   "metadata": {},
   "source": [
    "That’s quite a low percentage. Do we then not need to worry then about racial biases in the judgements? What other information do we need to come to such a conclusion? Let’s find out next.\n",
    "\n",
    "Proportionally, how many of the death penalties handed out to black people were for killing a white person? The expression black_and_deathpenalty.loc[(black_and_deathpenalty['VictimRace'] == 1)]['Freq'] / n_black_deathpenalty is a bit complicated but gets the right result"
   ]
  },
  {
   "cell_type": "code",
   "execution_count": 116,
   "id": "better-fighter",
   "metadata": {},
   "outputs": [
    {
     "data": {
      "text/plain": [
       "3    0.733333\n",
       "Name: Freq, dtype: float64"
      ]
     },
     "execution_count": 116,
     "metadata": {},
     "output_type": "execute_result"
    }
   ],
   "source": [
    "black_and_deathpenalty.loc[(black_and_deathpenalty['VictimRace'] == 1)]['Freq'] / n_black_deathpenalty"
   ]
  },
  {
   "cell_type": "markdown",
   "id": "modular-somewhere",
   "metadata": {},
   "source": [
    "Finally, how likely is it that a white person killing a black person will receive the death penalty?"
   ]
  },
  {
   "cell_type": "code",
   "execution_count": 119,
   "id": "robust-front",
   "metadata": {},
   "outputs": [
    {
     "data": {
      "text/plain": [
       "5    0.0\n",
       "Name: Freq, dtype: float64"
      ]
     },
     "execution_count": 119,
     "metadata": {},
     "output_type": "execute_result"
    }
   ],
   "source": [
    "white_and_deathpenalty.loc[(white_and_deathpenalty['VictimRace'] == 0)]['Freq'] / n_white_deathpenalty"
   ]
  },
  {
   "cell_type": "markdown",
   "id": "prescribed-ranking",
   "metadata": {},
   "source": [
    "Out of 15 death penalties for black people, 73% for for killing a white person. While none of the 53 death penalties for white people in Florida were given for killing a black person. I hope you can see that there are many powerful functions to explore data directly in Python. Another really good way to explore data is not to ask direct questions but to summarize it with graphs and visualisations. Visualisations and graphs are easy to do with Python.\n",
    "\n"
   ]
  },
  {
   "cell_type": "code",
   "execution_count": 124,
   "id": "reasonable-purple",
   "metadata": {},
   "outputs": [
    {
     "data": {
      "text/plain": [
       "<AxesSubplot:>"
      ]
     },
     "execution_count": 124,
     "metadata": {},
     "output_type": "execute_result"
    },
    {
     "data": {
      "image/png": "[encoded data removed]",
      "text/plain": [
       "<Figure size 432x288 with 1 Axes>"
      ]
     },
     "metadata": {
      "needs_background": "light"
     },
     "output_type": "display_data"
    }
   ],
   "source": [
    "df.plot.bar()"
   ]
  },
  {
   "cell_type": "markdown",
   "id": "declared-needle",
   "metadata": {},
   "source": [
    "Now, how about df.boxplot('Freq')? What do you see? Ask the Internet!"
   ]
  },
  {
   "cell_type": "code",
   "execution_count": 128,
   "id": "norman-multiple",
   "metadata": {},
   "outputs": [
    {
     "data": {
      "text/plain": [
       "<AxesSubplot:>"
      ]
     },
     "execution_count": 128,
     "metadata": {},
     "output_type": "execute_result"
    },
    {
     "data": {
      "image/png": "[encoded data removed]",
      "text/plain": [
       "<Figure size 432x288 with 1 Axes>"
      ]
     },
     "metadata": {
      "needs_background": "light"
     },
     "output_type": "display_data"
    }
   ],
   "source": [
    "df.boxplot('Freq')"
   ]
  },
  {
   "cell_type": "markdown",
   "id": "enhanced-percentage",
   "metadata": {},
   "source": [
    "The boxplot displays the centre and spread in a format that allows you to quickly obtain a sense of behaviour of the data. The median is denoted by the dark line while the box around it stands for the spread. The boxplot shows one outlier. Can you identify it in the dataset deathpenalty?"
   ]
  }
 ],
 "metadata": {
  "kernelspec": {
   "display_name": "Python 3",
   "language": "python",
   "name": "python3"
  },
  "language_info": {
   "codemirror_mode": {
    "name": "ipython",
    "version": 3
   },
   "file_extension": ".py",
   "mimetype": "text/x-python",
   "name": "python",
   "nbconvert_exporter": "python",
   "pygments_lexer": "ipython3",
   "version": "3.9.2"
  }
 },
 "nbformat": 4,
 "nbformat_minor": 5
}
