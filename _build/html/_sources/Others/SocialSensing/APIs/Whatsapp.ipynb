{
 "cells": [
  {
   "cell_type": "markdown",
   "id": "american-renaissance",
   "metadata": {},
   "source": [
    "# Whatsapp"
   ]
  },
  {
   "cell_type": "markdown",
   "id": "suited-bargain",
   "metadata": {},
   "source": [
    "There has been an interesting report recently on how WhatsApp data can be used in the study of radical networks: http://www.huffingtonpost.com/entry/german-study-finds-radicalized-muslims-have-little-actual-knowledge-of-islam_us_5967f362e4b03389bb163c58 \n",
    "\n",
    "A group of German scholars at the Universities of Bielefeld and Osnabrück analyzed 5,757 WhatsApp messages found on a phone seized by police following a terrorist attack in the spring of 2016. The messages were exchanged among 12 young men involved in the attack. The attack itself was not identified in the report. \n",
    "\n",
    "This tutorial is motivated by this study and shows another type of interaction with social media, where we can only download the data and not directly access it through an API."
   ]
  },
  {
   "cell_type": "markdown",
   "id": "rising-loading",
   "metadata": {},
   "source": [
    "In this tutorial, we construct the graph of distribution of messages over a given time period using your own Whatsapp data. Note that Whatsapp does not have an API (http://mashable.com/2015/03/25/whatsapp-developers-api/). But you can download your messages (or anybody else's) and analyse the download. This is an alternative method in order to work with data that you have no other access to. \n"
   ]
  },
  {
   "cell_type": "markdown",
   "id": "sufficient-child",
   "metadata": {},
   "source": [
    "We will use prepared sample data but you can also take a look at how to download your Whatsapp messages: https://www.whatsapp.com/faq/en/general/23753886"
   ]
  },
  {
   "cell_type": "code",
   "execution_count": 120,
   "id": "indoor-training",
   "metadata": {},
   "outputs": [
    {
     "data": {
      "text/html": [
       "<div>\n",
       "<style scoped>\n",
       "    .dataframe tbody tr th:only-of-type {\n",
       "        vertical-align: middle;\n",
       "    }\n",
       "\n",
       "    .dataframe tbody tr th {\n",
       "        vertical-align: top;\n",
       "    }\n",
       "\n",
       "    .dataframe thead th {\n",
       "        text-align: right;\n",
       "    }\n",
       "</style>\n",
       "<table border=\"1\" class=\"dataframe\">\n",
       "  <thead>\n",
       "    <tr style=\"text-align: right;\">\n",
       "      <th></th>\n",
       "      <th>SentenceNo</th>\n",
       "      <th>SequenceNo</th>\n",
       "      <th>Date</th>\n",
       "      <th>Time</th>\n",
       "      <th>Speaker</th>\n",
       "      <th>Text</th>\n",
       "    </tr>\n",
       "  </thead>\n",
       "  <tbody>\n",
       "    <tr>\n",
       "      <th>0</th>\n",
       "      <td>0</td>\n",
       "      <td>1</td>\n",
       "      <td>2/12/15</td>\n",
       "      <td>8:33:07 PM</td>\n",
       "      <td>MESSAGE</td>\n",
       "      <td>You created group “Just for Fun”</td>\n",
       "    </tr>\n",
       "    <tr>\n",
       "      <th>1</th>\n",
       "      <td>1</td>\n",
       "      <td>2</td>\n",
       "      <td>2/12/15</td>\n",
       "      <td>8:33:30 PM</td>\n",
       "      <td>GRT</td>\n",
       "      <td>What is sagnar phone no?</td>\n",
       "    </tr>\n",
       "    <tr>\n",
       "      <th>2</th>\n",
       "      <td>2</td>\n",
       "      <td>3</td>\n",
       "      <td>2/12/15</td>\n",
       "      <td>8:33:56 PM</td>\n",
       "      <td>GRT</td>\n",
       "      <td>You are also an admin bangThai.</td>\n",
       "    </tr>\n",
       "    <tr>\n",
       "      <th>3</th>\n",
       "      <td>3</td>\n",
       "      <td>4</td>\n",
       "      <td>2/12/15</td>\n",
       "      <td>8:36:14 PM</td>\n",
       "      <td>MESSAGE</td>\n",
       "      <td>You added SKM</td>\n",
       "    </tr>\n",
       "    <tr>\n",
       "      <th>4</th>\n",
       "      <td>4</td>\n",
       "      <td>5</td>\n",
       "      <td>2/12/15</td>\n",
       "      <td>8:36:14 PM</td>\n",
       "      <td>MESSAGE</td>\n",
       "      <td>You added YGR</td>\n",
       "    </tr>\n",
       "  </tbody>\n",
       "</table>\n",
       "</div>"
      ],
      "text/plain": [
       "   SentenceNo  SequenceNo     Date        Time  Speaker  \\\n",
       "0           0           1  2/12/15  8:33:07 PM  MESSAGE   \n",
       "1           1           2  2/12/15  8:33:30 PM      GRT   \n",
       "2           2           3  2/12/15  8:33:56 PM      GRT   \n",
       "3           3           4  2/12/15  8:36:14 PM  MESSAGE   \n",
       "4           4           5  2/12/15  8:36:14 PM  MESSAGE   \n",
       "\n",
       "                               Text  \n",
       "0  You created group “Just for Fun”  \n",
       "1          What is sagnar phone no?  \n",
       "2   You are also an admin bangThai.  \n",
       "3                     You added SKM  \n",
       "4                     You added YGR  "
      ]
     },
     "execution_count": 120,
     "metadata": {},
     "output_type": "execute_result"
    }
   ],
   "source": [
    "import matplotlib.pyplot as plt\n",
    "import pandas as pd\n",
    "\n",
    "whatsapp = pd.read_csv(\"whatsapp-output.csv\")\n",
    "whatsapp.head()"
   ]
  },
  {
   "cell_type": "code",
   "execution_count": 121,
   "id": "rubber-flower",
   "metadata": {},
   "outputs": [
    {
     "data": {
      "text/html": [
       "<div>\n",
       "<style scoped>\n",
       "    .dataframe tbody tr th:only-of-type {\n",
       "        vertical-align: middle;\n",
       "    }\n",
       "\n",
       "    .dataframe tbody tr th {\n",
       "        vertical-align: top;\n",
       "    }\n",
       "\n",
       "    .dataframe thead th {\n",
       "        text-align: right;\n",
       "    }\n",
       "</style>\n",
       "<table border=\"1\" class=\"dataframe\">\n",
       "  <thead>\n",
       "    <tr style=\"text-align: right;\">\n",
       "      <th></th>\n",
       "      <th>SentenceNo</th>\n",
       "      <th>SequenceNo</th>\n",
       "      <th>Date</th>\n",
       "      <th>Time</th>\n",
       "      <th>Speaker</th>\n",
       "      <th>Text</th>\n",
       "      <th>sender</th>\n",
       "    </tr>\n",
       "  </thead>\n",
       "  <tbody>\n",
       "    <tr>\n",
       "      <th>0</th>\n",
       "      <td>0</td>\n",
       "      <td>1</td>\n",
       "      <td>2/12/15</td>\n",
       "      <td>8:33:07 PM</td>\n",
       "      <td>MESSAGE</td>\n",
       "      <td>You created group “Just for Fun”</td>\n",
       "      <td>Her</td>\n",
       "    </tr>\n",
       "    <tr>\n",
       "      <th>1</th>\n",
       "      <td>1</td>\n",
       "      <td>2</td>\n",
       "      <td>2/12/15</td>\n",
       "      <td>8:33:30 PM</td>\n",
       "      <td>GRT</td>\n",
       "      <td>What is sagnar phone no?</td>\n",
       "      <td>Me</td>\n",
       "    </tr>\n",
       "    <tr>\n",
       "      <th>2</th>\n",
       "      <td>2</td>\n",
       "      <td>3</td>\n",
       "      <td>2/12/15</td>\n",
       "      <td>8:33:56 PM</td>\n",
       "      <td>GRT</td>\n",
       "      <td>You are also an admin bangThai.</td>\n",
       "      <td>Me</td>\n",
       "    </tr>\n",
       "    <tr>\n",
       "      <th>3</th>\n",
       "      <td>3</td>\n",
       "      <td>4</td>\n",
       "      <td>2/12/15</td>\n",
       "      <td>8:36:14 PM</td>\n",
       "      <td>MESSAGE</td>\n",
       "      <td>You added SKM</td>\n",
       "      <td>Her</td>\n",
       "    </tr>\n",
       "    <tr>\n",
       "      <th>4</th>\n",
       "      <td>4</td>\n",
       "      <td>5</td>\n",
       "      <td>2/12/15</td>\n",
       "      <td>8:36:14 PM</td>\n",
       "      <td>MESSAGE</td>\n",
       "      <td>You added YGR</td>\n",
       "      <td>Her</td>\n",
       "    </tr>\n",
       "  </tbody>\n",
       "</table>\n",
       "</div>"
      ],
      "text/plain": [
       "   SentenceNo  SequenceNo     Date        Time  Speaker  \\\n",
       "0           0           1  2/12/15  8:33:07 PM  MESSAGE   \n",
       "1           1           2  2/12/15  8:33:30 PM      GRT   \n",
       "2           2           3  2/12/15  8:33:56 PM      GRT   \n",
       "3           3           4  2/12/15  8:36:14 PM  MESSAGE   \n",
       "4           4           5  2/12/15  8:36:14 PM  MESSAGE   \n",
       "\n",
       "                               Text sender  \n",
       "0  You created group “Just for Fun”    Her  \n",
       "1          What is sagnar phone no?     Me  \n",
       "2   You are also an admin bangThai.     Me  \n",
       "3                     You added SKM    Her  \n",
       "4                     You added YGR    Her  "
      ]
     },
     "execution_count": 121,
     "metadata": {},
     "output_type": "execute_result"
    }
   ],
   "source": [
    "whatsapp.loc[whatsapp['Speaker'] == 'MESSAGE','sender'] = 'Her' \n",
    "whatsapp.loc[whatsapp['Speaker'] == 'GRT','sender'] = 'Me' \n",
    "whatsapp.head()"
   ]
  },
  {
   "cell_type": "code",
   "execution_count": 122,
   "id": "nuclear-banner",
   "metadata": {},
   "outputs": [
    {
     "data": {
      "text/html": [
       "<div>\n",
       "<style scoped>\n",
       "    .dataframe tbody tr th:only-of-type {\n",
       "        vertical-align: middle;\n",
       "    }\n",
       "\n",
       "    .dataframe tbody tr th {\n",
       "        vertical-align: top;\n",
       "    }\n",
       "\n",
       "    .dataframe thead th {\n",
       "        text-align: right;\n",
       "    }\n",
       "</style>\n",
       "<table border=\"1\" class=\"dataframe\">\n",
       "  <thead>\n",
       "    <tr style=\"text-align: right;\">\n",
       "      <th></th>\n",
       "      <th>Date</th>\n",
       "      <th>Time</th>\n",
       "      <th>Text</th>\n",
       "      <th>sender</th>\n",
       "    </tr>\n",
       "  </thead>\n",
       "  <tbody>\n",
       "    <tr>\n",
       "      <th>0</th>\n",
       "      <td>2/12/15</td>\n",
       "      <td>8:33:07 PM</td>\n",
       "      <td>You created group “Just for Fun”</td>\n",
       "      <td>Her</td>\n",
       "    </tr>\n",
       "    <tr>\n",
       "      <th>1</th>\n",
       "      <td>2/12/15</td>\n",
       "      <td>8:33:30 PM</td>\n",
       "      <td>What is sagnar phone no?</td>\n",
       "      <td>Me</td>\n",
       "    </tr>\n",
       "    <tr>\n",
       "      <th>2</th>\n",
       "      <td>2/12/15</td>\n",
       "      <td>8:33:56 PM</td>\n",
       "      <td>You are also an admin bangThai.</td>\n",
       "      <td>Me</td>\n",
       "    </tr>\n",
       "    <tr>\n",
       "      <th>3</th>\n",
       "      <td>2/12/15</td>\n",
       "      <td>8:36:14 PM</td>\n",
       "      <td>You added SKM</td>\n",
       "      <td>Her</td>\n",
       "    </tr>\n",
       "    <tr>\n",
       "      <th>4</th>\n",
       "      <td>2/12/15</td>\n",
       "      <td>8:36:14 PM</td>\n",
       "      <td>You added YGR</td>\n",
       "      <td>Her</td>\n",
       "    </tr>\n",
       "  </tbody>\n",
       "</table>\n",
       "</div>"
      ],
      "text/plain": [
       "      Date        Time                              Text sender\n",
       "0  2/12/15  8:33:07 PM  You created group “Just for Fun”    Her\n",
       "1  2/12/15  8:33:30 PM          What is sagnar phone no?     Me\n",
       "2  2/12/15  8:33:56 PM   You are also an admin bangThai.     Me\n",
       "3  2/12/15  8:36:14 PM                     You added SKM    Her\n",
       "4  2/12/15  8:36:14 PM                     You added YGR    Her"
      ]
     },
     "execution_count": 122,
     "metadata": {},
     "output_type": "execute_result"
    }
   ],
   "source": [
    "whatsapp = whatsapp.drop(columns=['Speaker', 'SentenceNo', 'SequenceNo'])\n",
    "whatsapp.head()"
   ]
  },
  {
   "cell_type": "markdown",
   "id": "retired-completion",
   "metadata": {},
   "source": [
    "Now let's plot two overlapping histograms to compare 'Her' and 'Me' sending messages."
   ]
  },
  {
   "cell_type": "code",
   "execution_count": 131,
   "id": "realistic-remains",
   "metadata": {},
   "outputs": [],
   "source": [
    "whatsapp['datetime'] = pd.to_datetime(whatsapp['Date'].astype(str) + ' ' +whatsapp['Time'].astype(str))\n",
    "whatsapp['datetime'] = whatsapp['datetime'].dt.floor('Min')"
   ]
  },
  {
   "cell_type": "code",
   "execution_count": 146,
   "id": "complete-treaty",
   "metadata": {},
   "outputs": [
    {
     "data": {
      "image/png": "[encoded data removed]",
      "text/plain": [
       "<Figure size 432x288 with 1 Axes>"
      ]
     },
     "metadata": {
      "needs_background": "light"
     },
     "output_type": "display_data"
    }
   ],
   "source": [
    "her = whatsapp.loc[whatsapp['sender'] == 'Her']\n",
    "me = whatsapp.loc[whatsapp['sender'] == 'Me']\n",
    "\n",
    "herplot = her.plot(kind='bar', x='datetime', y='message_length', color='blue', position=1, label='Her')\n",
    "me.plot(kind='bar', x='datetime', y='message_length', color='red', ax=herplot, position=0, label='Me')\n",
    "\n",
    "plt.show()"
   ]
  },
  {
   "cell_type": "markdown",
   "id": "detailed-kennedy",
   "metadata": {},
   "source": [
    "That's it. Blue is 'Her' sending whatsapp messages, red is 'Me'. It seems that 'Me' is chatting much more ..."
   ]
  }
 ],
 "metadata": {
  "kernelspec": {
   "display_name": "Python 3",
   "language": "python",
   "name": "python3"
  },
  "language_info": {
   "codemirror_mode": {
    "name": "ipython",
    "version": 3
   },
   "file_extension": ".py",
   "mimetype": "text/x-python",
   "name": "python",
   "nbconvert_exporter": "python",
   "pygments_lexer": "ipython3",
   "version": "3.9.2"
  }
 },
 "nbformat": 4,
 "nbformat_minor": 5
}
