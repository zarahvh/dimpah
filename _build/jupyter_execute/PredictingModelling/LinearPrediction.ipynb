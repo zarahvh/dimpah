{
 "cells": [
  {
   "cell_type": "markdown",
   "id": "necessary-garage",
   "metadata": {},
   "source": [
    "# Linear Regression Prediction\n",
    "\n",
    "In a very simple linear regression prediction, we predict numerical values of one variable using the values of a second numerical variable. Here, we have 21 days of Facebook page views and would like to predict how many views we will have in the next three days."
   ]
  },
  {
   "cell_type": "code",
   "execution_count": 1,
   "id": "unauthorized-transaction",
   "metadata": {},
   "outputs": [],
   "source": [
    "import numpy as np\n",
    "\n",
    "facebook = np.array([5, 7, 4, 9, 11, 10, 14, 17, 13, 11, 18, 17, 21, 21, 24, 23, 28, 35, 21, 27, 23])\n",
    "days = np.array(range(0,21))"
   ]
  },
  {
   "cell_type": "code",
   "execution_count": 2,
   "id": "angry-pension",
   "metadata": {},
   "outputs": [
    {
     "data": {
      "text/plain": [
       "array([ 0,  1,  2,  3,  4,  5,  6,  7,  8,  9, 10, 11, 12, 13, 14, 15, 16,\n",
       "       17, 18, 19, 20])"
      ]
     },
     "execution_count": 2,
     "metadata": {},
     "output_type": "execute_result"
    }
   ],
   "source": [
    "days"
   ]
  },
  {
   "cell_type": "code",
   "execution_count": 3,
   "id": "naked-satin",
   "metadata": {},
   "outputs": [],
   "source": [
    "import numpy as np\n",
    "from sklearn.linear_model import LinearRegression\n",
    "\n",
    "x = days.reshape((-1,1))\n",
    "y = facebook\n",
    "\n",
    "model = LinearRegression()\n",
    "model.fit(x, y)\n",
    "model = LinearRegression().fit(x, y)\n"
   ]
  },
  {
   "cell_type": "markdown",
   "id": "frozen-aside",
   "metadata": {},
   "source": [
    "The future days are days 21, 22 and 23"
   ]
  },
  {
   "cell_type": "code",
   "execution_count": 4,
   "id": "coupled-islam",
   "metadata": {},
   "outputs": [],
   "source": [
    "ftd = np.array(range(21,24))\n",
    "future_days = ftd.reshape((-1,1))"
   ]
  },
  {
   "cell_type": "markdown",
   "id": "industrial-return",
   "metadata": {},
   "source": [
    "To predict the next days, we use the predict function"
   ]
  },
  {
   "cell_type": "code",
   "execution_count": 5,
   "id": "divine-mason",
   "metadata": {},
   "outputs": [],
   "source": [
    "y_pred = model.predict(future_days)"
   ]
  },
  {
   "cell_type": "code",
   "execution_count": 6,
   "id": "enhanced-belief",
   "metadata": {},
   "outputs": [
    {
     "data": {
      "text/plain": [
       "array([30.22380952, 31.41731602, 32.61082251])"
      ]
     },
     "execution_count": 6,
     "metadata": {},
     "output_type": "execute_result"
    }
   ],
   "source": [
    "y_pred"
   ]
  },
  {
   "cell_type": "markdown",
   "id": "together-district",
   "metadata": {},
   "source": [
    "Finally, we plot our results including a blue regression line and predicted views in red."
   ]
  },
  {
   "cell_type": "code",
   "execution_count": 7,
   "id": "opening-founder",
   "metadata": {},
   "outputs": [
    {
     "data": {
      "image/png": "[encoded data removed]",
      "text/plain": [
       "<Figure size 432x288 with 1 Axes>"
      ]
     },
     "metadata": {
      "filenames": {
       "image/png": "/Users/Zarah/Documents/dimpah/_build/jupyter_execute/PredictingModelling/LinearPrediction_10_0.png"
      },
      "needs_background": "light"
     },
     "output_type": "display_data"
    }
   ],
   "source": [
    "import matplotlib.pyplot as plt\n",
    "from numpy.polynomial.polynomial import polyfit\n",
    "\n",
    "# Needed to prolong the line, but is this needed?\n",
    "f = list(facebook)\n",
    "yp = list(y_pred)\n",
    "fy = f + yp\n",
    "\n",
    "plt.scatter(future_days, y_pred, color='r')\n",
    "plt.scatter(x, y, color='b')\n",
    "r = np.array(range(24))\n",
    "b, m = polyfit(r, fy, 1)\n",
    "plt.plot(r, b + m * r)\n",
    "\n",
    "# plt.scatter(future_days, y_pred, color='r')\n",
    "# plt.scatter(x, y, color='b')\n",
    "# r = np.array(range(24))\n",
    "# b, m = polyfit(days, facebook, 1)\n",
    "# plt.plot(x, b + m * x)\n",
    "\n",
    "plt.show()"
   ]
  }
 ],
 "metadata": {
  "kernelspec": {
   "display_name": "Python 3",
   "language": "python",
   "name": "python3"
  },
  "language_info": {
   "codemirror_mode": {
    "name": "ipython",
    "version": 3
   },
   "file_extension": ".py",
   "mimetype": "text/x-python",
   "name": "python",
   "nbconvert_exporter": "python",
   "pygments_lexer": "ipython3",
   "version": "3.9.2"
  }
 },
 "nbformat": 4,
 "nbformat_minor": 5
}