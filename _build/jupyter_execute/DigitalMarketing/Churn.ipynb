{
 "cells": [
  {
   "cell_type": "markdown",
   "id": "subjective-anaheim",
   "metadata": {},
   "source": [
    "# Churn Analysis\n",
    "\n",
    "A big topic in digital marketing can be the focus on  customers you can also keep. This is the subject of churn analysis.\n",
    "\n",
    "Customer churn (most commonly called 'churn') is defined in the article as customers that stop doing business with a company or a service. So, for instance, which costumer will move to a different mobile provider? \n",
    "\n",
    "This churn analysis is key to customer relationship management (CRM).\n",
    "\n",
    "Churn analysis is based on data that contains information on previous customers who churned. We want to compare the current costumers with these to find out whether they might churn, too? Sounds familiar? It's basically a typical case for a decision classification - just like the wine tasting or the Titanic data. \n",
    "\n",
    "This notebook will demonstrate to you that we can use the same kind of modelling techniques we used for wines, the titanic, etc. with digital marketing data. Churn analysis is a typical use case of algorithmic decision-making.\n",
    "\n",
    "## Bank Use Case\n",
    "\n",
    "A typical example of churn analysis is to find costumers who defaulted on a loan in a bank. Let's load the churn data."
   ]
  },
  {
   "cell_type": "code",
   "execution_count": 1,
   "id": "numerous-christianity",
   "metadata": {},
   "outputs": [
    {
     "data": {
      "text/html": [
       "<div>\n",
       "<style scoped>\n",
       "    .dataframe tbody tr th:only-of-type {\n",
       "        vertical-align: middle;\n",
       "    }\n",
       "\n",
       "    .dataframe tbody tr th {\n",
       "        vertical-align: top;\n",
       "    }\n",
       "\n",
       "    .dataframe thead th {\n",
       "        text-align: right;\n",
       "    }\n",
       "</style>\n",
       "<table border=\"1\" class=\"dataframe\">\n",
       "  <thead>\n",
       "    <tr style=\"text-align: right;\">\n",
       "      <th></th>\n",
       "      <th>ID</th>\n",
       "      <th>limitBal</th>\n",
       "      <th>sex</th>\n",
       "      <th>education</th>\n",
       "      <th>marriage</th>\n",
       "      <th>age</th>\n",
       "      <th>pay1</th>\n",
       "      <th>pay2</th>\n",
       "      <th>pay3</th>\n",
       "      <th>pay4</th>\n",
       "      <th>...</th>\n",
       "      <th>billAmt4</th>\n",
       "      <th>billAmt5</th>\n",
       "      <th>billAmt6</th>\n",
       "      <th>payAmt1</th>\n",
       "      <th>payAmt2</th>\n",
       "      <th>payAmt3</th>\n",
       "      <th>payAmt4</th>\n",
       "      <th>payAmt5</th>\n",
       "      <th>payAmt6</th>\n",
       "      <th>PaymentDefault</th>\n",
       "    </tr>\n",
       "  </thead>\n",
       "  <tbody>\n",
       "    <tr>\n",
       "      <th>count</th>\n",
       "      <td>18000.000000</td>\n",
       "      <td>18000.000000</td>\n",
       "      <td>18000.000000</td>\n",
       "      <td>18000.000000</td>\n",
       "      <td>18000.000000</td>\n",
       "      <td>18000.000000</td>\n",
       "      <td>18000.000000</td>\n",
       "      <td>18000.000000</td>\n",
       "      <td>18000.000000</td>\n",
       "      <td>18000.000000</td>\n",
       "      <td>...</td>\n",
       "      <td>18000.000000</td>\n",
       "      <td>18000.000000</td>\n",
       "      <td>18000.000000</td>\n",
       "      <td>18000.000000</td>\n",
       "      <td>1.800000e+04</td>\n",
       "      <td>18000.000000</td>\n",
       "      <td>18000.000000</td>\n",
       "      <td>18000.000000</td>\n",
       "      <td>18000.000000</td>\n",
       "      <td>18000.000000</td>\n",
       "    </tr>\n",
       "    <tr>\n",
       "      <th>mean</th>\n",
       "      <td>9000.500000</td>\n",
       "      <td>162902.426667</td>\n",
       "      <td>1.587556</td>\n",
       "      <td>1.835500</td>\n",
       "      <td>1.559500</td>\n",
       "      <td>35.475556</td>\n",
       "      <td>0.027833</td>\n",
       "      <td>-0.101667</td>\n",
       "      <td>-0.129389</td>\n",
       "      <td>-0.197389</td>\n",
       "      <td>...</td>\n",
       "      <td>41074.180056</td>\n",
       "      <td>39397.784333</td>\n",
       "      <td>38009.251611</td>\n",
       "      <td>5532.254278</td>\n",
       "      <td>5.731058e+03</td>\n",
       "      <td>4629.137611</td>\n",
       "      <td>4757.224389</td>\n",
       "      <td>4763.706833</td>\n",
       "      <td>5134.710611</td>\n",
       "      <td>0.230556</td>\n",
       "    </tr>\n",
       "    <tr>\n",
       "      <th>std</th>\n",
       "      <td>5196.296758</td>\n",
       "      <td>129503.322618</td>\n",
       "      <td>0.492288</td>\n",
       "      <td>0.767843</td>\n",
       "      <td>0.523585</td>\n",
       "      <td>9.294161</td>\n",
       "      <td>1.120523</td>\n",
       "      <td>1.205068</td>\n",
       "      <td>1.214110</td>\n",
       "      <td>1.167596</td>\n",
       "      <td>...</td>\n",
       "      <td>61496.859401</td>\n",
       "      <td>59296.708143</td>\n",
       "      <td>58766.741569</td>\n",
       "      <td>15470.010126</td>\n",
       "      <td>2.187441e+04</td>\n",
       "      <td>15538.875970</td>\n",
       "      <td>15417.365689</td>\n",
       "      <td>15469.890364</td>\n",
       "      <td>17745.237186</td>\n",
       "      <td>0.421200</td>\n",
       "    </tr>\n",
       "    <tr>\n",
       "      <th>min</th>\n",
       "      <td>1.000000</td>\n",
       "      <td>10000.000000</td>\n",
       "      <td>1.000000</td>\n",
       "      <td>0.000000</td>\n",
       "      <td>0.000000</td>\n",
       "      <td>21.000000</td>\n",
       "      <td>-2.000000</td>\n",
       "      <td>-2.000000</td>\n",
       "      <td>-2.000000</td>\n",
       "      <td>-2.000000</td>\n",
       "      <td>...</td>\n",
       "      <td>-170000.000000</td>\n",
       "      <td>-37594.000000</td>\n",
       "      <td>-339603.000000</td>\n",
       "      <td>0.000000</td>\n",
       "      <td>0.000000e+00</td>\n",
       "      <td>0.000000</td>\n",
       "      <td>0.000000</td>\n",
       "      <td>0.000000</td>\n",
       "      <td>0.000000</td>\n",
       "      <td>0.000000</td>\n",
       "    </tr>\n",
       "    <tr>\n",
       "      <th>25%</th>\n",
       "      <td>4500.750000</td>\n",
       "      <td>50000.000000</td>\n",
       "      <td>1.000000</td>\n",
       "      <td>1.000000</td>\n",
       "      <td>1.000000</td>\n",
       "      <td>28.000000</td>\n",
       "      <td>-1.000000</td>\n",
       "      <td>-1.000000</td>\n",
       "      <td>-1.000000</td>\n",
       "      <td>-1.000000</td>\n",
       "      <td>...</td>\n",
       "      <td>2244.750000</td>\n",
       "      <td>1683.750000</td>\n",
       "      <td>1150.000000</td>\n",
       "      <td>949.000000</td>\n",
       "      <td>6.960000e+02</td>\n",
       "      <td>307.000000</td>\n",
       "      <td>228.000000</td>\n",
       "      <td>209.750000</td>\n",
       "      <td>2.000000</td>\n",
       "      <td>0.000000</td>\n",
       "    </tr>\n",
       "    <tr>\n",
       "      <th>50%</th>\n",
       "      <td>9000.500000</td>\n",
       "      <td>130000.000000</td>\n",
       "      <td>2.000000</td>\n",
       "      <td>2.000000</td>\n",
       "      <td>2.000000</td>\n",
       "      <td>34.000000</td>\n",
       "      <td>0.000000</td>\n",
       "      <td>0.000000</td>\n",
       "      <td>0.000000</td>\n",
       "      <td>0.000000</td>\n",
       "      <td>...</td>\n",
       "      <td>18702.500000</td>\n",
       "      <td>18045.500000</td>\n",
       "      <td>16780.000000</td>\n",
       "      <td>2087.000000</td>\n",
       "      <td>2.000000e+03</td>\n",
       "      <td>1500.000000</td>\n",
       "      <td>1486.000000</td>\n",
       "      <td>1500.000000</td>\n",
       "      <td>1400.000000</td>\n",
       "      <td>0.000000</td>\n",
       "    </tr>\n",
       "    <tr>\n",
       "      <th>75%</th>\n",
       "      <td>13500.250000</td>\n",
       "      <td>230000.000000</td>\n",
       "      <td>2.000000</td>\n",
       "      <td>2.000000</td>\n",
       "      <td>2.000000</td>\n",
       "      <td>41.000000</td>\n",
       "      <td>0.000000</td>\n",
       "      <td>0.000000</td>\n",
       "      <td>0.000000</td>\n",
       "      <td>0.000000</td>\n",
       "      <td>...</td>\n",
       "      <td>50540.250000</td>\n",
       "      <td>49355.250000</td>\n",
       "      <td>48442.250000</td>\n",
       "      <td>5000.000000</td>\n",
       "      <td>5.000000e+03</td>\n",
       "      <td>4000.000000</td>\n",
       "      <td>4000.000000</td>\n",
       "      <td>4000.000000</td>\n",
       "      <td>4000.000000</td>\n",
       "      <td>0.000000</td>\n",
       "    </tr>\n",
       "    <tr>\n",
       "      <th>max</th>\n",
       "      <td>18000.000000</td>\n",
       "      <td>1000000.000000</td>\n",
       "      <td>2.000000</td>\n",
       "      <td>6.000000</td>\n",
       "      <td>3.000000</td>\n",
       "      <td>75.000000</td>\n",
       "      <td>8.000000</td>\n",
       "      <td>8.000000</td>\n",
       "      <td>8.000000</td>\n",
       "      <td>8.000000</td>\n",
       "      <td>...</td>\n",
       "      <td>891586.000000</td>\n",
       "      <td>927171.000000</td>\n",
       "      <td>961664.000000</td>\n",
       "      <td>505000.000000</td>\n",
       "      <td>1.684259e+06</td>\n",
       "      <td>896040.000000</td>\n",
       "      <td>497000.000000</td>\n",
       "      <td>417990.000000</td>\n",
       "      <td>528666.000000</td>\n",
       "      <td>1.000000</td>\n",
       "    </tr>\n",
       "  </tbody>\n",
       "</table>\n",
       "<p>8 rows × 25 columns</p>\n",
       "</div>"
      ],
      "text/plain": [
       "                 ID        limitBal           sex     education      marriage  \\\n",
       "count  18000.000000    18000.000000  18000.000000  18000.000000  18000.000000   \n",
       "mean    9000.500000   162902.426667      1.587556      1.835500      1.559500   \n",
       "std     5196.296758   129503.322618      0.492288      0.767843      0.523585   \n",
       "min        1.000000    10000.000000      1.000000      0.000000      0.000000   \n",
       "25%     4500.750000    50000.000000      1.000000      1.000000      1.000000   \n",
       "50%     9000.500000   130000.000000      2.000000      2.000000      2.000000   \n",
       "75%    13500.250000   230000.000000      2.000000      2.000000      2.000000   \n",
       "max    18000.000000  1000000.000000      2.000000      6.000000      3.000000   \n",
       "\n",
       "                age          pay1          pay2          pay3          pay4  \\\n",
       "count  18000.000000  18000.000000  18000.000000  18000.000000  18000.000000   \n",
       "mean      35.475556      0.027833     -0.101667     -0.129389     -0.197389   \n",
       "std        9.294161      1.120523      1.205068      1.214110      1.167596   \n",
       "min       21.000000     -2.000000     -2.000000     -2.000000     -2.000000   \n",
       "25%       28.000000     -1.000000     -1.000000     -1.000000     -1.000000   \n",
       "50%       34.000000      0.000000      0.000000      0.000000      0.000000   \n",
       "75%       41.000000      0.000000      0.000000      0.000000      0.000000   \n",
       "max       75.000000      8.000000      8.000000      8.000000      8.000000   \n",
       "\n",
       "       ...       billAmt4       billAmt5       billAmt6        payAmt1  \\\n",
       "count  ...   18000.000000   18000.000000   18000.000000   18000.000000   \n",
       "mean   ...   41074.180056   39397.784333   38009.251611    5532.254278   \n",
       "std    ...   61496.859401   59296.708143   58766.741569   15470.010126   \n",
       "min    ... -170000.000000  -37594.000000 -339603.000000       0.000000   \n",
       "25%    ...    2244.750000    1683.750000    1150.000000     949.000000   \n",
       "50%    ...   18702.500000   18045.500000   16780.000000    2087.000000   \n",
       "75%    ...   50540.250000   49355.250000   48442.250000    5000.000000   \n",
       "max    ...  891586.000000  927171.000000  961664.000000  505000.000000   \n",
       "\n",
       "            payAmt2        payAmt3        payAmt4        payAmt5  \\\n",
       "count  1.800000e+04   18000.000000   18000.000000   18000.000000   \n",
       "mean   5.731058e+03    4629.137611    4757.224389    4763.706833   \n",
       "std    2.187441e+04   15538.875970   15417.365689   15469.890364   \n",
       "min    0.000000e+00       0.000000       0.000000       0.000000   \n",
       "25%    6.960000e+02     307.000000     228.000000     209.750000   \n",
       "50%    2.000000e+03    1500.000000    1486.000000    1500.000000   \n",
       "75%    5.000000e+03    4000.000000    4000.000000    4000.000000   \n",
       "max    1.684259e+06  896040.000000  497000.000000  417990.000000   \n",
       "\n",
       "             payAmt6  PaymentDefault  \n",
       "count   18000.000000    18000.000000  \n",
       "mean     5134.710611        0.230556  \n",
       "std     17745.237186        0.421200  \n",
       "min         0.000000        0.000000  \n",
       "25%         2.000000        0.000000  \n",
       "50%      1400.000000        0.000000  \n",
       "75%      4000.000000        0.000000  \n",
       "max    528666.000000        1.000000  \n",
       "\n",
       "[8 rows x 25 columns]"
      ]
     },
     "execution_count": 1,
     "metadata": {},
     "output_type": "execute_result"
    }
   ],
   "source": [
    "import matplotlib.pyplot as plt\n",
    "import pandas as pd\n",
    "\n",
    "churnData = pd.read_csv(\"churnData.csv\")\n",
    "churnData.describe()"
   ]
  },
  {
   "cell_type": "markdown",
   "id": "iraqi-retreat",
   "metadata": {},
   "source": [
    "There is a lot of information in this dataset! We are mainly interested in PaymentDefault. PaymentDefault = 1 if the costumer defaulted on the payment and 0 otherwise."
   ]
  },
  {
   "cell_type": "code",
   "execution_count": 2,
   "id": "modular-dialogue",
   "metadata": {},
   "outputs": [
    {
     "data": {
      "text/plain": [
       "<AxesSubplot:ylabel='Frequency'>"
      ]
     },
     "execution_count": 2,
     "metadata": {},
     "output_type": "execute_result"
    },
    {
     "data": {
      "image/png": "[encoded data removed]",
      "text/plain": [
       "<Figure size 432x288 with 1 Axes>"
      ]
     },
     "metadata": {
      "filenames": {
       "image/png": "/Users/Zarah/Documents/dimpah/_build/jupyter_execute/DigitalMarketing/Churn_3_1.png"
      },
      "needs_background": "light"
     },
     "output_type": "display_data"
    }
   ],
   "source": [
    "churnData['PaymentDefault'].plot.hist(bins=2)"
   ]
  },
  {
   "cell_type": "markdown",
   "id": "prepared-stanley",
   "metadata": {},
   "source": [
    "## Modelling\n",
    "\n",
    "Let's build a logistic regression model next to find out what in the data helps us predict the default on a loan. It's just another model to predict a target that is categorical.\n",
    "\n",
    "For example:\n",
    "- To predict whether an email is spam (1) or (0)\n",
    "- Whether the tumor is malignant (1) or not (0)\n",
    "\n",
    "In our case, we use the model to understand which features contribute most to a potential default.\n",
    "\n",
    "glm stands for Generalized Linear Models with family=binomial indicating a logistic model: https://www.statmethods.net/advstats/glm.html"
   ]
  },
  {
   "cell_type": "code",
   "execution_count": 3,
   "id": "existing-mobility",
   "metadata": {},
   "outputs": [
    {
     "name": "stderr",
     "output_type": "stream",
     "text": [
      "/usr/local/lib/python3.9/site-packages/statsmodels/tsa/tsatools.py:142: FutureWarning: In a future version of pandas all arguments of concat except for the argument 'objs' will be keyword-only\n",
      "  x = pd.concat(x[::order], 1)\n"
     ]
    },
    {
     "name": "stdout",
     "output_type": "stream",
     "text": [
      "                 Generalized Linear Model Regression Results                  \n",
      "==============================================================================\n",
      "Dep. Variable:         PaymentDefault   No. Observations:                18000\n",
      "Model:                            GLM   Df Residuals:                    17976\n",
      "Model Family:                Gaussian   Df Model:                           23\n",
      "Link Function:               identity   Scale:                         0.15630\n",
      "Method:                          IRLS   Log-Likelihood:                -8825.3\n",
      "Date:                Mon, 08 Nov 2021   Deviance:                       2809.7\n",
      "Time:                        12:27:10   Pearson chi2:                 2.81e+03\n",
      "No. Iterations:                     3                                         \n",
      "Covariance Type:            nonrobust                                         \n",
      "==============================================================================\n",
      "                 coef    std err          z      P>|z|      [0.025      0.975]\n",
      "------------------------------------------------------------------------------\n",
      "const          0.3394      0.023     14.481      0.000       0.293       0.385\n",
      "limitBal   -5.618e-08   2.87e-08     -1.958      0.050   -1.12e-07    6.09e-11\n",
      "sex           -0.0113      0.006     -1.862      0.063      -0.023       0.001\n",
      "education     -0.0184      0.004     -4.478      0.000      -0.026      -0.010\n",
      "marriage      -0.0281      0.006     -4.502      0.000      -0.040      -0.016\n",
      "age            0.0009      0.000      2.519      0.012       0.000       0.002\n",
      "pay1           0.0983      0.004     27.554      0.000       0.091       0.105\n",
      "pay2           0.0131      0.004      3.029      0.002       0.005       0.022\n",
      "pay3           0.0125      0.005      2.681      0.007       0.003       0.022\n",
      "pay4          -0.0024      0.005     -0.441      0.659      -0.013       0.008\n",
      "pay5           0.0192      0.006      3.450      0.001       0.008       0.030\n",
      "pay6          -0.0028      0.004     -0.634      0.526      -0.012       0.006\n",
      "billAmt1   -8.349e-07   1.58e-07     -5.289      0.000   -1.14e-06   -5.25e-07\n",
      "billAmt2    3.145e-07   2.19e-07      1.433      0.152   -1.16e-07    7.45e-07\n",
      "billAmt3    2.578e-08   1.99e-07      0.130      0.897   -3.64e-07    4.16e-07\n",
      "billAmt4   -6.293e-08   2.19e-07     -0.287      0.774   -4.92e-07    3.66e-07\n",
      "billAmt5     4.66e-08   2.68e-07      0.174      0.862   -4.79e-07    5.72e-07\n",
      "billAmt6    1.268e-07   2.02e-07      0.626      0.531    -2.7e-07    5.23e-07\n",
      "payAmt1    -1.178e-06   2.44e-07     -4.827      0.000   -1.66e-06   -6.99e-07\n",
      "payAmt2    -2.354e-07   2.08e-07     -1.132      0.258   -6.43e-07    1.72e-07\n",
      "payAmt3    -1.176e-07    2.3e-07     -0.510      0.610   -5.69e-07    3.34e-07\n",
      "payAmt4    -3.262e-07   2.48e-07     -1.313      0.189   -8.13e-07    1.61e-07\n",
      "payAmt5    -2.104e-07   2.54e-07     -0.829      0.407   -7.08e-07    2.87e-07\n",
      "payAmt6    -9.337e-08   1.79e-07     -0.522      0.602   -4.44e-07    2.57e-07\n",
      "==============================================================================\n"
     ]
    }
   ],
   "source": [
    "import statsmodels.api as sm\n",
    "\n",
    "X = churnData[['limitBal', 'sex', 'education', 'marriage',\n",
    "                   'age', 'pay1', 'pay2', 'pay3', 'pay4', 'pay5', 'pay6', 'billAmt1', \n",
    "                   'billAmt2', 'billAmt3', 'billAmt4', 'billAmt5', 'billAmt6', 'payAmt1', \n",
    "                   'payAmt2', 'payAmt3', 'payAmt4', 'payAmt5', 'payAmt6']]\n",
    "Y = churnData['PaymentDefault']\n",
    "X = sm.add_constant(X)\n",
    "\n",
    "model = sm.GLM(Y.astype(float), X.astype(float)).fit()\n",
    "predictions = model.predict(X) \n",
    "\n",
    "print_model = model.summary()\n",
    "print(print_model)"
   ]
  },
  {
   "cell_type": "markdown",
   "id": "surprised-tooth",
   "metadata": {},
   "source": [
    "You might have noticed that we have not discriminated test and training datasets to build the model, as we are less interested at this moment in the prediction the model can develop, but in the kind of features which are important to predict default. These are the characteristics in customers we want to watch out for.\n",
    "\n",
    "\n",
    "According to lm, education is really important to understand default as are sex and the order of payments."
   ]
  },
  {
   "cell_type": "code",
   "execution_count": 4,
   "id": "clinical-regulation",
   "metadata": {},
   "outputs": [],
   "source": [
    "# source: https://planspace.org/20150423-forward_selection_with_statsmodels/\n",
    "import statsmodels.formula.api as smf\n",
    "def forward_selected(data, response):\n",
    "    \"\"\"Linear model designed by forward selection.\n",
    "\n",
    "    Parameters:\n",
    "    -----------\n",
    "    data : pandas DataFrame with all possible predictors and response\n",
    "\n",
    "    response: string, name of response column in data\n",
    "\n",
    "    Returns:\n",
    "    --------\n",
    "    model: an \"optimal\" fitted statsmodels linear model\n",
    "           with an intercept\n",
    "           selected by forward selection\n",
    "           evaluated by adjusted R-squared\n",
    "    \"\"\"\n",
    "    remaining = set(data.columns)\n",
    "    remaining.remove(response)\n",
    "    selected = []\n",
    "    current_score, best_new_score = 0.0, 0.0\n",
    "    while remaining and current_score == best_new_score:\n",
    "        scores_with_candidates = []\n",
    "        for candidate in remaining:\n",
    "            formula = \"{} ~ {} + 1\".format(response,\n",
    "                                           ' + '.join(selected + [candidate]))\n",
    "            score = smf.ols(formula, data).fit().rsquared_adj\n",
    "            scores_with_candidates.append((score, candidate))\n",
    "        scores_with_candidates.sort()\n",
    "        best_new_score, best_candidate = scores_with_candidates.pop()\n",
    "        if current_score < best_new_score:\n",
    "            remaining.remove(best_candidate)\n",
    "            selected.append(best_candidate)\n",
    "            current_score = best_new_score\n",
    "    formula = \"{} ~ {} + 1\".format(response,\n",
    "                                   ' + '.join(selected))\n",
    "    model = smf.ols(formula, data).fit()\n",
    "    return model"
   ]
  },
  {
   "cell_type": "code",
   "execution_count": 5,
   "id": "ordinary-schedule",
   "metadata": {},
   "outputs": [
    {
     "name": "stdout",
     "output_type": "stream",
     "text": [
      "PaymentDefault ~ pay1 + billAmt1 + pay3 + payAmt1 + marriage + pay5 + education + pay2 + billAmt2 + age + limitBal + payAmt2 + sex + payAmt4 + ID + 1\n",
      "0.11927288475507825\n"
     ]
    }
   ],
   "source": [
    "model = forward_selected(churnData, 'PaymentDefault')\n",
    "\n",
    "print(model.model.formula)\n",
    "\n",
    "print(model.rsquared_adj)"
   ]
  },
  {
   "cell_type": "markdown",
   "id": "confused-standard",
   "metadata": {},
   "source": [
    "We are left with pay1 + billAmt1 + pay3 + payAmt1 + marriage + pay5 + education + pay2 + billAmt2 + age + limitBal + payAmt2 + sex + payAmt4 as the important features"
   ]
  },
  {
   "cell_type": "markdown",
   "id": "collected-exclusion",
   "metadata": {},
   "source": [
    "## Prediction\n",
    "\n",
    "Of course we can also use the model to create the predictions we already know about now. Let's try again the full data set first.\n",
    "\n",
    "Confusionmatrix"
   ]
  },
  {
   "cell_type": "code",
   "execution_count": 6,
   "id": "reflected-cassette",
   "metadata": {},
   "outputs": [],
   "source": [
    "X_aic = X[['limitBal', 'sex', 'education', 'marriage',\n",
    "                   'age', 'pay1', 'pay2', 'pay3', 'pay5', 'billAmt1', \n",
    "                   'billAmt2', 'payAmt1',\n",
    "                   'payAmt2', 'payAmt4']]"
   ]
  },
  {
   "cell_type": "code",
   "execution_count": 7,
   "id": "altered-moldova",
   "metadata": {},
   "outputs": [
    {
     "name": "stderr",
     "output_type": "stream",
     "text": [
      "/usr/local/lib/python3.9/site-packages/statsmodels/tsa/tsatools.py:142: FutureWarning: In a future version of pandas all arguments of concat except for the argument 'objs' will be keyword-only\n",
      "  x = pd.concat(x[::order], 1)\n"
     ]
    }
   ],
   "source": [
    "X_aic = sm.add_constant(X_aic)\n",
    "model = sm.GLM(Y, X_aic).fit()"
   ]
  },
  {
   "cell_type": "code",
   "execution_count": 8,
   "id": "cheap-phone",
   "metadata": {},
   "outputs": [],
   "source": [
    "preds = model.predict()\n",
    "\n",
    "def to_binary(predictions, thresh):\n",
    "    threshold = thresh\n",
    "    binary = []\n",
    "    for item in predictions:\n",
    "        if item < threshold:\n",
    "            item = 0\n",
    "        else:\n",
    "            item = 1\n",
    "        binary.append(item)\n",
    "    return binary\n",
    "\n",
    "binary = to_binary(preds, 0.5)"
   ]
  },
  {
   "cell_type": "code",
   "execution_count": 9,
   "id": "canadian-window",
   "metadata": {},
   "outputs": [
    {
     "name": "stdout",
     "output_type": "stream",
     "text": [
      "CM: [[13605  3519]\n",
      " [  245   631]]\n",
      "Accuracy: 0.7908888888888889\n"
     ]
    }
   ],
   "source": [
    "from sklearn.metrics import (confusion_matrix,\n",
    "                           accuracy_score)\n",
    "cm = confusion_matrix(binary, Y)\n",
    "acc = accuracy_score(Y, binary)\n",
    "\n",
    "print('CM:', cm)\n",
    "print('Accuracy:', acc)"
   ]
  },
  {
   "cell_type": "markdown",
   "id": "rolled-amendment",
   "metadata": {},
   "source": [
    "The prediction accuracy is not too bad with 0.80. \n",
    "\n",
    "Looking at the confusion matrix, it seems that the model mainly has problems to identify cases where the original value was 0 or no payment default. In ~3519 cases, it assumed that there would be a default. This means that customers would be unnecessarily targeted. In the case of bank defaults, this might upset these costumers. So, we should try and reduce this value.\n",
    "\n",
    "### Model Improvements by Lowering the Threshold\n",
    "\n",
    "One way to do this is to introduce a less severe threshold for suspecting defaults on payments. This will avoid customer dissatisfaction. If you check the above formula for prediction we introduced a threshold of 0.5 in the prediction. All values below 0.5 are 0 (= no default) and above 0.5 they are 1 (default).\n",
    "\n",
    "We can do this, aspredict actually returns a value between 0 and 1. Take a look at the value of the first prediction and you will see a value of ~0.45 - pretty close to the threshold of 0.5."
   ]
  },
  {
   "cell_type": "code",
   "execution_count": 10,
   "id": "harmful-mountain",
   "metadata": {},
   "outputs": [
    {
     "name": "stdout",
     "output_type": "stream",
     "text": [
      "0.4487605241323452\n"
     ]
    }
   ],
   "source": [
    "print(preds[0])"
   ]
  },
  {
   "cell_type": "markdown",
   "id": "greatest-mozambique",
   "metadata": {},
   "source": [
    "What if try out different threshold, can we improve the prediction by being less strict or maybe we should consider even more cases for payment default and lower the threshold?\n",
    "\n",
    "We need to make a decision what kind of case we would like to avoid. If you recall our discussion earlier of the confusion matrix, we want to avoid the case where we predicted no default but the default really did happen. We want to reward, however, the case where we predicted no-default and the costumer really do not default.  We can access the confusion matrix results with cm as well as the specific cells in the matrix.\n",
    "\n",
    "Check it out:"
   ]
  },
  {
   "cell_type": "code",
   "execution_count": 11,
   "id": "prime-clock",
   "metadata": {},
   "outputs": [
    {
     "name": "stdout",
     "output_type": "stream",
     "text": [
      "[[13605  3519]\n",
      " [  245   631]]\n",
      "13605\n",
      "245\n"
     ]
    }
   ],
   "source": [
    "print(cm)\n",
    "print(cm[0,0])\n",
    "print(cm[1,0])"
   ]
  },
  {
   "cell_type": "markdown",
   "id": "beneficial-season",
   "metadata": {},
   "source": [
    "It's time to play with the results using the threshold. \n",
    "\n",
    "Let's say we define a score function: score <- cm[1,1]*250 + cm[1,1]*250 - cm[1,2]*1000 - cm[1,2]*1000. What does this say? It says that we want to reward the right prediction with a factor of 250 but apply a penalty of -1000 for the wrong prediction. We use a much higher value for the wrong prediction as we are concerned about customer dissatisfaction if we target too many people.\n",
    "\n",
    "Now, we try a brute-force test using the the a number of threshold between 0.1 and 0.5."
   ]
  },
  {
   "cell_type": "code",
   "execution_count": 12,
   "id": "severe-patrick",
   "metadata": {},
   "outputs": [
    {
     "name": "stdout",
     "output_type": "stream",
     "text": [
      "0.1 -10460000\n"
     ]
    },
    {
     "name": "stdout",
     "output_type": "stream",
     "text": [
      "0.2 -6327500\n",
      "0.3 -460000\n",
      "0.4 163750\n",
      "0.5 -205000\n"
     ]
    }
   ],
   "source": [
    "thresholds = [0.1,0.2,0.3,0.4,0.5]\n",
    "\n",
    "for t in thresholds:\n",
    "    bin_preds = to_binary(preds, t)\n",
    "    cm = confusion_matrix(bin_preds, Y)\n",
    "    score = cm[0,0]*250 + cm[1,1]*250 - cm[1,0]*1000 - cm[0,1]*1000\n",
    "    print(t, score)\n",
    "    "
   ]
  },
  {
   "cell_type": "markdown",
   "id": "fewer-vehicle",
   "metadata": {},
   "source": [
    "Great! That wasn't easy! Take your time going through the details. \n",
    "\n",
    "You could see that the optimal threshold is 0.4. It has the best score.\n",
    "\n",
    "Let's use this threshold and do some real prediction next with a test and training data. \n",
    "\n",
    "Following our experience with the wine data, we know that the dataset contains 18,000 entries. Splitting this up into 70-30 training and test data, implies:"
   ]
  },
  {
   "cell_type": "code",
   "execution_count": 13,
   "id": "flying-galaxy",
   "metadata": {},
   "outputs": [],
   "source": [
    "from sklearn.model_selection import train_test_split\n",
    "\n",
    "train, test = train_test_split(churnData, train_size=0.7)"
   ]
  },
  {
   "cell_type": "markdown",
   "id": "alpine-compilation",
   "metadata": {},
   "source": [
    "We copy the optimal formula from the AIC test and run:"
   ]
  },
  {
   "cell_type": "code",
   "execution_count": 14,
   "id": "known-bearing",
   "metadata": {},
   "outputs": [],
   "source": [
    "X_train = train[['limitBal', 'sex', 'education', 'marriage',\n",
    "                   'age', 'pay1', 'pay2', 'pay3', 'pay5', 'billAmt1', \n",
    "                   'billAmt2', 'payAmt1',\n",
    "                   'payAmt2', 'payAmt4']]\n",
    "Y_train = train['PaymentDefault']\n",
    "Y_test = test['PaymentDefault']\n",
    "X_test = test[['limitBal', 'sex', 'education', 'marriage',\n",
    "                   'age', 'pay1', 'pay2', 'pay3', 'pay5', 'billAmt1', \n",
    "                   'billAmt2', 'payAmt1',\n",
    "                   'payAmt2', 'payAmt4']]\n",
    "\n",
    "model = sm.GLM(Y_train, X_train).fit()\n",
    "Y_pred = model.predict(X_test) \n"
   ]
  },
  {
   "cell_type": "code",
   "execution_count": 15,
   "id": "annual-fever",
   "metadata": {},
   "outputs": [
    {
     "name": "stdout",
     "output_type": "stream",
     "text": [
      "[[3927  808]\n",
      " [ 238  427]] 0.8062962962962963\n"
     ]
    }
   ],
   "source": [
    "binary = to_binary(Y_pred, 0.4)\n",
    "\n",
    "cm = confusion_matrix(binary, Y_test)\n",
    "acc = accuracy_score(Y_test, binary)\n",
    "print(cm, acc)"
   ]
  },
  {
   "cell_type": "markdown",
   "id": "operating-pricing",
   "metadata": {},
   "source": [
    "Using our optimal threshold 0.4, we improved the accuracy slightly to 0.804. But we significantly improved the cases where customers wrongly targeted to 814 cases in total."
   ]
  }
 ],
 "metadata": {
  "kernelspec": {
   "display_name": "Python 3",
   "language": "python",
   "name": "python3"
  },
  "language_info": {
   "codemirror_mode": {
    "name": "ipython",
    "version": 3
   },
   "file_extension": ".py",
   "mimetype": "text/x-python",
   "name": "python",
   "nbconvert_exporter": "python",
   "pygments_lexer": "ipython3",
   "version": "3.9.2"
  }
 },
 "nbformat": 4,
 "nbformat_minor": 5
}