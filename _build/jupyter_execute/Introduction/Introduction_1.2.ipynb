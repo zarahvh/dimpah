{
 "cells": [
  {
   "cell_type": "markdown",
   "id": "controlled-scotland",
   "metadata": {},
   "source": [
    "# Interactive Data Exploration with Python 1.2"
   ]
  },
  {
   "cell_type": "markdown",
   "id": "scheduled-gothic",
   "metadata": {},
   "source": [
    "The next new concept is the numpy array. You often use this construct in data analysis. We want to use the numpy array to filter elements in our lists and even bring them together into two dimensions. Up to now we only had one dimension, but why not add one more?\n",
    "\n",
    "Numpy has been a long-standing toolkit for data analysis. According to https://numpy.org/, it is 'the fundamental package for scientific computing with Python'. It features heavily in what is still a standard introduction in our field: https://wesmckinney.com/pages/book.html. It is a really good book to further work on the topics that are discussed in these introductions.\n",
    "\n",
    "First, we have to import the library numpy. You always do that in Python with import. In this case, type in ```import numpy```."
   ]
  },
  {
   "cell_type": "code",
   "execution_count": 1,
   "id": "southwest-hierarchy",
   "metadata": {},
   "outputs": [],
   "source": [
    "import numpy"
   ]
  },
  {
   "cell_type": "markdown",
   "id": "imposed-advertising",
   "metadata": {},
   "source": [
    "Let’s move on from our gambling and look at social media. \n",
    "\n",
    "We will now introduce an example from social analytics brought to us by dataquest.com, which we will come back to again later in the course. You have a LinkedIn account and a Facebook account and want to find out, which one has more views and is more successful. You collected the views per day for a particular week. \n",
    "\n",
    "Type in ```linkedin = numpy.array([16, 9, 13, 5, 2, 17, 14])``` to record the views for LinkedIn."
   ]
  },
  {
   "cell_type": "code",
   "execution_count": 2,
   "id": "animated-refund",
   "metadata": {},
   "outputs": [],
   "source": [
    "linkedin = numpy.array([16, 9, 13, 5, 2, 17, 14])"
   ]
  },
  {
   "cell_type": "markdown",
   "id": "welsh-precipitation",
   "metadata": {},
   "source": [
    "This is how you create a numpy array directly. If you are reminded of standard Python lists, you are right. For now, numpy arrays and lists are basically the same for us. \n",
    "\n",
    "Now, please create the list ```facebook_list = [17, 7, 5, 16, 8, 13, 14]```. "
   ]
  },
  {
   "cell_type": "code",
   "execution_count": 3,
   "id": "solved-diesel",
   "metadata": {},
   "outputs": [],
   "source": [
    "facebook_list = [17, 7, 5, 16, 8, 13, 14]"
   ]
  },
  {
   "cell_type": "markdown",
   "id": "nuclear-museum",
   "metadata": {},
   "source": [
    "You can transform lists easily into arrays with ```facebook = numpy.array(facebook_list)```. Try it."
   ]
  },
  {
   "cell_type": "code",
   "execution_count": 4,
   "id": "organizational-seattle",
   "metadata": {},
   "outputs": [],
   "source": [
    "facebook = numpy.array(facebook_list)"
   ]
  },
  {
   "cell_type": "markdown",
   "id": "forced-stone",
   "metadata": {},
   "source": [
    "Print out facebook to see that it is numpy array. "
   ]
  },
  {
   "cell_type": "code",
   "execution_count": 5,
   "id": "graduate-twenty",
   "metadata": {},
   "outputs": [
    {
     "data": {
      "text/plain": [
       "array([17,  7,  5, 16,  8, 13, 14])"
      ]
     },
     "execution_count": 5,
     "metadata": {},
     "output_type": "execute_result"
    }
   ],
   "source": [
    "facebook"
   ]
  },
  {
   "cell_type": "markdown",
   "id": "interested-efficiency",
   "metadata": {},
   "source": [
    "Matrices are another important concept in data analysis. They are two-dimensional arrays. For instance, black and white images are such matrices. They contain a pixel value at the horizontal and vertical dimension. \n",
    "\n",
    "We can create a matrix called views by simply combing linkedin and facebook. Type in ```views = numpy.array([linkedin, facebook])```."
   ]
  },
  {
   "cell_type": "code",
   "execution_count": 6,
   "id": "perceived-venture",
   "metadata": {},
   "outputs": [],
   "source": [
    "views = numpy.array([linkedin, facebook])"
   ]
  },
  {
   "cell_type": "markdown",
   "id": "informed-catalog",
   "metadata": {},
   "source": [
    "Print out views."
   ]
  },
  {
   "cell_type": "code",
   "execution_count": 7,
   "id": "external-startup",
   "metadata": {},
   "outputs": [
    {
     "data": {
      "text/plain": [
       "array([[16,  9, 13,  5,  2, 17, 14],\n",
       "       [17,  7,  5, 16,  8, 13, 14]])"
      ]
     },
     "execution_count": 7,
     "metadata": {},
     "output_type": "execute_result"
    }
   ],
   "source": [
    "views"
   ]
  },
  {
   "cell_type": "markdown",
   "id": "serious-looking",
   "metadata": {},
   "source": [
    "We can then ask a couple of good questions against the matrix views without having to reference the arrays it is made of. \n",
    "\n",
    "To find out on which days we had 13 views for either LinkedIn or Facebook, we type ```views == 13```. The == is the Boolean equivalence operator."
   ]
  },
  {
   "cell_type": "code",
   "execution_count": 8,
   "id": "civil-therapist",
   "metadata": {},
   "outputs": [
    {
     "data": {
      "text/plain": [
       "array([[False, False,  True, False, False, False, False],\n",
       "       [False, False, False, False, False,  True, False]])"
      ]
     },
     "execution_count": 8,
     "metadata": {},
     "output_type": "execute_result"
    }
   ],
   "source": [
    "views == 13"
   ]
  },
  {
   "cell_type": "markdown",
   "id": "increased-oasis",
   "metadata": {},
   "source": [
    "When are views less than or equal to 14? Try ```views <= 14```."
   ]
  },
  {
   "cell_type": "code",
   "execution_count": 9,
   "id": "conditional-hungarian",
   "metadata": {},
   "outputs": [
    {
     "data": {
      "text/plain": [
       "array([[False,  True,  True,  True,  True, False,  True],\n",
       "       [False,  True,  True, False,  True,  True,  True]])"
      ]
     },
     "execution_count": 9,
     "metadata": {},
     "output_type": "execute_result"
    }
   ],
   "source": [
    "views <= 14"
   ]
  },
  {
   "cell_type": "markdown",
   "id": "suited-concentrate",
   "metadata": {},
   "source": [
    "How often does facebook equal or exceed linkedin views times two? This is actually a quite advanced expression already. Try it with ```sum(facebook >= (linkedin * 2))```. "
   ]
  },
  {
   "cell_type": "code",
   "execution_count": 10,
   "id": "rapid-tournament",
   "metadata": {},
   "outputs": [
    {
     "data": {
      "text/plain": [
       "2"
      ]
     },
     "execution_count": 10,
     "metadata": {},
     "output_type": "execute_result"
    }
   ],
   "source": [
    "sum(facebook >= (linkedin * 2))"
   ]
  },
  {
   "cell_type": "markdown",
   "id": "finnish-finger",
   "metadata": {},
   "source": [
    "Take a moment to think about the components of this expression. Maybe, you want to take a piece of paper and a pen to write down all the components. Hint: Boolean variables can also be thought of a 0 for False and 1 for True.\n",
    "\n",
    "Similar to arrays, we can access each element of a matrix, but this time we of course need 2 dimensions. ``views[0][1]`` will select the first row’s second element. Try it."
   ]
  },
  {
   "cell_type": "code",
   "execution_count": 11,
   "id": "reported-provider",
   "metadata": {},
   "outputs": [
    {
     "data": {
      "text/plain": [
       "9"
      ]
     },
     "execution_count": 11,
     "metadata": {},
     "output_type": "execute_result"
    }
   ],
   "source": [
    "views[0][1]"
   ]
  },
  {
   "cell_type": "markdown",
   "id": "brief-store",
   "metadata": {},
   "source": [
    "The order is of indexs is row first and then column. Try `views[1][4]`."
   ]
  },
  {
   "cell_type": "code",
   "execution_count": 12,
   "id": "balanced-lithuania",
   "metadata": {},
   "outputs": [
    {
     "data": {
      "text/plain": [
       "8"
      ]
     },
     "execution_count": 12,
     "metadata": {},
     "output_type": "execute_result"
    }
   ],
   "source": [
    "views[1][4]"
   ]
  },
  {
   "cell_type": "markdown",
   "id": "horizontal-madison",
   "metadata": {},
   "source": [
    "The most important structure in Python to store and process data are ‘data frames’. The library to do so is Pandas that is a key part of our work. It is another library just like numpy. With `import pandas as pd`, we tell Python to use the acronym pd for accessing pandas operations. This way we avoid having to type in pandas all the time. \n",
    "\n",
    "Try `import pandas as pd`."
   ]
  },
  {
   "cell_type": "code",
   "execution_count": 13,
   "id": "timely-candle",
   "metadata": {},
   "outputs": [],
   "source": [
    "import pandas as pd"
   ]
  },
  {
   "cell_type": "markdown",
   "id": "realistic-phase",
   "metadata": {},
   "source": [
    "Just like matrixes, data frames also have rows and columns but can hold different types of variables in each of their columns. \n",
    "\n",
    "Think about it for a moment. The power! This way, we can record any observation in the world. Any observation will have different attributes we associate with it. For instance, flowers can be of different types and colours. With data frames we can record each observation of flowers by recording it in rows and assign to the columns the various features we observe like colour, type, etc. This way the whole world is for us to record in data frames!"
   ]
  },
  {
   "cell_type": "markdown",
   "id": "documentary-track",
   "metadata": {},
   "source": [
    "Let’s return to our social media records of our week and create a data frame to hold all its glorious details.\n",
    "\n",
    "First, some cleaning up. We want to reorder the social media views, because at the moment the columns are the days of the week and the rows are LinkedIn and Facebook. However, we want the social media companies to be the columns and the rows to be the days. \n",
    "\n",
    "If you remember your school days, you can do change the axes in a matrix by transposing it - in Python with numpy.transpose. Simply run `views_t = numpy.transpose(views)`. Print out views_t. "
   ]
  },
  {
   "cell_type": "code",
   "execution_count": 14,
   "id": "annoying-export",
   "metadata": {},
   "outputs": [
    {
     "data": {
      "text/plain": [
       "array([[16, 17],\n",
       "       [ 9,  7],\n",
       "       [13,  5],\n",
       "       [ 5, 16],\n",
       "       [ 2,  8],\n",
       "       [17, 13],\n",
       "       [14, 14]])"
      ]
     },
     "execution_count": 14,
     "metadata": {},
     "output_type": "execute_result"
    }
   ],
   "source": [
    "views_t = numpy.transpose(views)\n",
    "views_t"
   ]
  },
  {
   "cell_type": "markdown",
   "id": "defined-stopping",
   "metadata": {},
   "source": [
    "In order to get our week together into a single data frame, we create `my_week_df = pd.DataFrame(views_t, columns = ['Facebook', 'LinkedIn'])`. To create my_week_df, first the DataFrame function from Pandas (pd) is called with the transposed views. It is given the columns attribute with a list of names for the columns. "
   ]
  },
  {
   "cell_type": "code",
   "execution_count": 15,
   "id": "academic-pricing",
   "metadata": {},
   "outputs": [],
   "source": [
    "my_week_df = pd.DataFrame(views_t, columns = ['facebook', 'linkedin'])"
   ]
  },
  {
   "cell_type": "markdown",
   "id": "advisory-breast",
   "metadata": {},
   "source": [
    "Print out my_week_df."
   ]
  },
  {
   "cell_type": "code",
   "execution_count": 16,
   "id": "social-repair",
   "metadata": {},
   "outputs": [
    {
     "data": {
      "text/html": [
       "<div>\n",
       "<style scoped>\n",
       "    .dataframe tbody tr th:only-of-type {\n",
       "        vertical-align: middle;\n",
       "    }\n",
       "\n",
       "    .dataframe tbody tr th {\n",
       "        vertical-align: top;\n",
       "    }\n",
       "\n",
       "    .dataframe thead th {\n",
       "        text-align: right;\n",
       "    }\n",
       "</style>\n",
       "<table border=\"1\" class=\"dataframe\">\n",
       "  <thead>\n",
       "    <tr style=\"text-align: right;\">\n",
       "      <th></th>\n",
       "      <th>facebook</th>\n",
       "      <th>linkedin</th>\n",
       "    </tr>\n",
       "  </thead>\n",
       "  <tbody>\n",
       "    <tr>\n",
       "      <th>0</th>\n",
       "      <td>16</td>\n",
       "      <td>17</td>\n",
       "    </tr>\n",
       "    <tr>\n",
       "      <th>1</th>\n",
       "      <td>9</td>\n",
       "      <td>7</td>\n",
       "    </tr>\n",
       "    <tr>\n",
       "      <th>2</th>\n",
       "      <td>13</td>\n",
       "      <td>5</td>\n",
       "    </tr>\n",
       "    <tr>\n",
       "      <th>3</th>\n",
       "      <td>5</td>\n",
       "      <td>16</td>\n",
       "    </tr>\n",
       "    <tr>\n",
       "      <th>4</th>\n",
       "      <td>2</td>\n",
       "      <td>8</td>\n",
       "    </tr>\n",
       "    <tr>\n",
       "      <th>5</th>\n",
       "      <td>17</td>\n",
       "      <td>13</td>\n",
       "    </tr>\n",
       "    <tr>\n",
       "      <th>6</th>\n",
       "      <td>14</td>\n",
       "      <td>14</td>\n",
       "    </tr>\n",
       "  </tbody>\n",
       "</table>\n",
       "</div>"
      ],
      "text/plain": [
       "   facebook  linkedin\n",
       "0        16        17\n",
       "1         9         7\n",
       "2        13         5\n",
       "3         5        16\n",
       "4         2         8\n",
       "5        17        13\n",
       "6        14        14"
      ]
     },
     "execution_count": 16,
     "metadata": {},
     "output_type": "execute_result"
    }
   ],
   "source": [
    "my_week_df"
   ]
  },
  {
   "cell_type": "markdown",
   "id": "dynamic-ivory",
   "metadata": {},
   "source": [
    "Just like matrixes, we can select rows and columns. For that, we need the operator iloc[row][column]. We need to use the Pandas iloc function here but otherwise it is the same principle as for lists and arrays. \n",
    "\n",
    "Select row 1, column 2 with `my_week_df.iloc[0][1]`. Please note, that this function uses [] brackets instead of (). I guess they wanted to give it the numpy feel."
   ]
  },
  {
   "cell_type": "code",
   "execution_count": 17,
   "id": "devoted-grocery",
   "metadata": {},
   "outputs": [
    {
     "data": {
      "text/plain": [
       "17"
      ]
     },
     "execution_count": 17,
     "metadata": {},
     "output_type": "execute_result"
    }
   ],
   "source": [
    "my_week_df.iloc[0][1]"
   ]
  },
  {
   "cell_type": "markdown",
   "id": "treated-tenant",
   "metadata": {},
   "source": [
    "Do you remember how to select multiple elements in a list? \n",
    "\n",
    "It is similar for data frames. In order to select row 1 and 2, type in `my_week_df.iloc[0:2][:]`. This means that the first colon operator selects everything between its first index and the second index – 1. The second colon operator uses : to select all columns."
   ]
  },
  {
   "cell_type": "code",
   "execution_count": 18,
   "id": "indie-information",
   "metadata": {},
   "outputs": [
    {
     "data": {
      "text/html": [
       "<div>\n",
       "<style scoped>\n",
       "    .dataframe tbody tr th:only-of-type {\n",
       "        vertical-align: middle;\n",
       "    }\n",
       "\n",
       "    .dataframe tbody tr th {\n",
       "        vertical-align: top;\n",
       "    }\n",
       "\n",
       "    .dataframe thead th {\n",
       "        text-align: right;\n",
       "    }\n",
       "</style>\n",
       "<table border=\"1\" class=\"dataframe\">\n",
       "  <thead>\n",
       "    <tr style=\"text-align: right;\">\n",
       "      <th></th>\n",
       "      <th>facebook</th>\n",
       "      <th>linkedin</th>\n",
       "    </tr>\n",
       "  </thead>\n",
       "  <tbody>\n",
       "    <tr>\n",
       "      <th>0</th>\n",
       "      <td>16</td>\n",
       "      <td>17</td>\n",
       "    </tr>\n",
       "    <tr>\n",
       "      <th>1</th>\n",
       "      <td>9</td>\n",
       "      <td>7</td>\n",
       "    </tr>\n",
       "  </tbody>\n",
       "</table>\n",
       "</div>"
      ],
      "text/plain": [
       "   facebook  linkedin\n",
       "0        16        17\n",
       "1         9         7"
      ]
     },
     "execution_count": 18,
     "metadata": {},
     "output_type": "execute_result"
    }
   ],
   "source": [
    "my_week_df.iloc[0:2][:]"
   ]
  },
  {
   "cell_type": "markdown",
   "id": "phantom-margin",
   "metadata": {},
   "source": [
    "You can also leave out the [:]. Run `my_week_df.iloc[1]` to select the second row."
   ]
  },
  {
   "cell_type": "code",
   "execution_count": 19,
   "id": "dying-shooting",
   "metadata": {},
   "outputs": [
    {
     "data": {
      "text/plain": [
       "facebook    9\n",
       "linkedin    7\n",
       "Name: 1, dtype: int64"
      ]
     },
     "execution_count": 19,
     "metadata": {},
     "output_type": "execute_result"
    }
   ],
   "source": [
    "my_week_df.iloc[1]"
   ]
  },
  {
   "cell_type": "markdown",
   "id": "printable-monroe",
   "metadata": {},
   "source": [
    "Any idea how to select the second column rather than a row? Take a look at https://pandas.pydata.org/docs/reference/api/pandas.DataFrame.iloc.html, and you will know it is `my_week_df.iloc[:, 1]`. Try it."
   ]
  },
  {
   "cell_type": "code",
   "execution_count": 20,
   "id": "spread-terminal",
   "metadata": {},
   "outputs": [
    {
     "data": {
      "text/plain": [
       "0    17\n",
       "1     7\n",
       "2     5\n",
       "3    16\n",
       "4     8\n",
       "5    13\n",
       "6    14\n",
       "Name: linkedin, dtype: int64"
      ]
     },
     "execution_count": 20,
     "metadata": {},
     "output_type": "execute_result"
    }
   ],
   "source": [
    "my_week_df.iloc[:, 1]"
   ]
  },
  {
   "cell_type": "markdown",
   "id": "annoying-personal",
   "metadata": {},
   "source": [
    "Do you know how to select the third and forth row?"
   ]
  },
  {
   "cell_type": "code",
   "execution_count": 21,
   "id": "divine-wheat",
   "metadata": {},
   "outputs": [
    {
     "data": {
      "text/html": [
       "<div>\n",
       "<style scoped>\n",
       "    .dataframe tbody tr th:only-of-type {\n",
       "        vertical-align: middle;\n",
       "    }\n",
       "\n",
       "    .dataframe tbody tr th {\n",
       "        vertical-align: top;\n",
       "    }\n",
       "\n",
       "    .dataframe thead th {\n",
       "        text-align: right;\n",
       "    }\n",
       "</style>\n",
       "<table border=\"1\" class=\"dataframe\">\n",
       "  <thead>\n",
       "    <tr style=\"text-align: right;\">\n",
       "      <th></th>\n",
       "      <th>facebook</th>\n",
       "      <th>linkedin</th>\n",
       "    </tr>\n",
       "  </thead>\n",
       "  <tbody>\n",
       "    <tr>\n",
       "      <th>3</th>\n",
       "      <td>5</td>\n",
       "      <td>16</td>\n",
       "    </tr>\n",
       "    <tr>\n",
       "      <th>4</th>\n",
       "      <td>2</td>\n",
       "      <td>8</td>\n",
       "    </tr>\n",
       "  </tbody>\n",
       "</table>\n",
       "</div>"
      ],
      "text/plain": [
       "   facebook  linkedin\n",
       "3         5        16\n",
       "4         2         8"
      ]
     },
     "execution_count": 21,
     "metadata": {},
     "output_type": "execute_result"
    }
   ],
   "source": [
    "my_week_df.iloc[3:5, :]"
   ]
  },
  {
   "cell_type": "markdown",
   "id": "competitive-taiwan",
   "metadata": {},
   "source": [
    "You can also select the facebook column directly with `my_week_df['facebook']`. "
   ]
  },
  {
   "cell_type": "code",
   "execution_count": 22,
   "id": "occasional-chuck",
   "metadata": {},
   "outputs": [
    {
     "data": {
      "text/plain": [
       "0    16\n",
       "1     9\n",
       "2    13\n",
       "3     5\n",
       "4     2\n",
       "5    17\n",
       "6    14\n",
       "Name: facebook, dtype: int64"
      ]
     },
     "execution_count": 22,
     "metadata": {},
     "output_type": "execute_result"
    }
   ],
   "source": [
    "my_week_df['facebook']"
   ]
  },
  {
   "cell_type": "markdown",
   "id": "unlimited-symphony",
   "metadata": {},
   "source": [
    "If you use two [[ ]], you get back a new dataframe. Try `my_week_df[['facebook']]`."
   ]
  },
  {
   "cell_type": "code",
   "execution_count": 23,
   "id": "generous-sleeping",
   "metadata": {},
   "outputs": [
    {
     "data": {
      "text/html": [
       "<div>\n",
       "<style scoped>\n",
       "    .dataframe tbody tr th:only-of-type {\n",
       "        vertical-align: middle;\n",
       "    }\n",
       "\n",
       "    .dataframe tbody tr th {\n",
       "        vertical-align: top;\n",
       "    }\n",
       "\n",
       "    .dataframe thead th {\n",
       "        text-align: right;\n",
       "    }\n",
       "</style>\n",
       "<table border=\"1\" class=\"dataframe\">\n",
       "  <thead>\n",
       "    <tr style=\"text-align: right;\">\n",
       "      <th></th>\n",
       "      <th>facebook</th>\n",
       "    </tr>\n",
       "  </thead>\n",
       "  <tbody>\n",
       "    <tr>\n",
       "      <th>0</th>\n",
       "      <td>16</td>\n",
       "    </tr>\n",
       "    <tr>\n",
       "      <th>1</th>\n",
       "      <td>9</td>\n",
       "    </tr>\n",
       "    <tr>\n",
       "      <th>2</th>\n",
       "      <td>13</td>\n",
       "    </tr>\n",
       "    <tr>\n",
       "      <th>3</th>\n",
       "      <td>5</td>\n",
       "    </tr>\n",
       "    <tr>\n",
       "      <th>4</th>\n",
       "      <td>2</td>\n",
       "    </tr>\n",
       "    <tr>\n",
       "      <th>5</th>\n",
       "      <td>17</td>\n",
       "    </tr>\n",
       "    <tr>\n",
       "      <th>6</th>\n",
       "      <td>14</td>\n",
       "    </tr>\n",
       "  </tbody>\n",
       "</table>\n",
       "</div>"
      ],
      "text/plain": [
       "   facebook\n",
       "0        16\n",
       "1         9\n",
       "2        13\n",
       "3         5\n",
       "4         2\n",
       "5        17\n",
       "6        14"
      ]
     },
     "execution_count": 23,
     "metadata": {},
     "output_type": "execute_result"
    }
   ],
   "source": [
    "my_week_df[['facebook']]"
   ]
  },
  {
   "cell_type": "markdown",
   "id": "included-broadcasting",
   "metadata": {},
   "source": [
    "Let's add another column to our dataframe, which we call 'happy' for our happy days in the week.\n",
    "\n",
    "First define a list `happy = [False, True, False, True, False, True, False]`."
   ]
  },
  {
   "cell_type": "code",
   "execution_count": 24,
   "id": "abandoned-daily",
   "metadata": {},
   "outputs": [],
   "source": [
    "happy = [False, True, False, True, False, True, False]"
   ]
  },
  {
   "cell_type": "markdown",
   "id": "mysterious-karaoke",
   "metadata": {},
   "source": [
    "We can then append this list to the dataframe by naming a new column and assign happy to it. Run ``my_week_df['happy'] = happy``."
   ]
  },
  {
   "cell_type": "code",
   "execution_count": 25,
   "id": "stable-harvey",
   "metadata": {},
   "outputs": [],
   "source": [
    "my_week_df['happy'] = happy"
   ]
  },
  {
   "cell_type": "markdown",
   "id": "liked-evaluation",
   "metadata": {},
   "source": [
    "Print out my_week_df."
   ]
  },
  {
   "cell_type": "code",
   "execution_count": 26,
   "id": "alpine-plastic",
   "metadata": {},
   "outputs": [
    {
     "data": {
      "text/html": [
       "<div>\n",
       "<style scoped>\n",
       "    .dataframe tbody tr th:only-of-type {\n",
       "        vertical-align: middle;\n",
       "    }\n",
       "\n",
       "    .dataframe tbody tr th {\n",
       "        vertical-align: top;\n",
       "    }\n",
       "\n",
       "    .dataframe thead th {\n",
       "        text-align: right;\n",
       "    }\n",
       "</style>\n",
       "<table border=\"1\" class=\"dataframe\">\n",
       "  <thead>\n",
       "    <tr style=\"text-align: right;\">\n",
       "      <th></th>\n",
       "      <th>facebook</th>\n",
       "      <th>linkedin</th>\n",
       "      <th>happy</th>\n",
       "    </tr>\n",
       "  </thead>\n",
       "  <tbody>\n",
       "    <tr>\n",
       "      <th>0</th>\n",
       "      <td>16</td>\n",
       "      <td>17</td>\n",
       "      <td>False</td>\n",
       "    </tr>\n",
       "    <tr>\n",
       "      <th>1</th>\n",
       "      <td>9</td>\n",
       "      <td>7</td>\n",
       "      <td>True</td>\n",
       "    </tr>\n",
       "    <tr>\n",
       "      <th>2</th>\n",
       "      <td>13</td>\n",
       "      <td>5</td>\n",
       "      <td>False</td>\n",
       "    </tr>\n",
       "    <tr>\n",
       "      <th>3</th>\n",
       "      <td>5</td>\n",
       "      <td>16</td>\n",
       "      <td>True</td>\n",
       "    </tr>\n",
       "    <tr>\n",
       "      <th>4</th>\n",
       "      <td>2</td>\n",
       "      <td>8</td>\n",
       "      <td>False</td>\n",
       "    </tr>\n",
       "    <tr>\n",
       "      <th>5</th>\n",
       "      <td>17</td>\n",
       "      <td>13</td>\n",
       "      <td>True</td>\n",
       "    </tr>\n",
       "    <tr>\n",
       "      <th>6</th>\n",
       "      <td>14</td>\n",
       "      <td>14</td>\n",
       "      <td>False</td>\n",
       "    </tr>\n",
       "  </tbody>\n",
       "</table>\n",
       "</div>"
      ],
      "text/plain": [
       "   facebook  linkedin  happy\n",
       "0        16        17  False\n",
       "1         9         7   True\n",
       "2        13         5  False\n",
       "3         5        16   True\n",
       "4         2         8  False\n",
       "5        17        13   True\n",
       "6        14        14  False"
      ]
     },
     "execution_count": 26,
     "metadata": {},
     "output_type": "execute_result"
    }
   ],
   "source": [
    "my_week_df"
   ]
  },
  {
   "cell_type": "markdown",
   "id": "political-throw",
   "metadata": {},
   "source": [
    "Say, we would like to select all days, we were happy. We first define a selector series for the happy days with `happy_days = df['happy'] == True`. Remember the numpy arrays? This is very similar."
   ]
  },
  {
   "cell_type": "code",
   "execution_count": 27,
   "id": "legitimate-decision",
   "metadata": {},
   "outputs": [],
   "source": [
    "happy_days = my_week_df ['happy'] == True"
   ]
  },
  {
   "cell_type": "markdown",
   "id": "supported-candy",
   "metadata": {},
   "source": [
    "Print out happy_days."
   ]
  },
  {
   "cell_type": "code",
   "execution_count": 28,
   "id": "ordered-handbook",
   "metadata": {},
   "outputs": [
    {
     "data": {
      "text/plain": [
       "0    False\n",
       "1     True\n",
       "2    False\n",
       "3     True\n",
       "4    False\n",
       "5     True\n",
       "6    False\n",
       "Name: happy, dtype: bool"
      ]
     },
     "execution_count": 28,
     "metadata": {},
     "output_type": "execute_result"
    }
   ],
   "source": [
    "happy_days"
   ]
  },
  {
   "cell_type": "markdown",
   "id": "continued-course",
   "metadata": {},
   "source": [
    "It is a 'Series' of Booleans. Series is yet another term for lists and arrays. Pandas calls single columns things like that. I know ...\n",
    "\n",
    "Now, we use the Boolean selector to create `happy_days_df = df.loc[happy_days]`."
   ]
  },
  {
   "cell_type": "code",
   "execution_count": 29,
   "id": "tired-produce",
   "metadata": {},
   "outputs": [],
   "source": [
    "happy_days_df = my_week_df.loc[happy_days]"
   ]
  },
  {
   "cell_type": "markdown",
   "id": "seven-photographer",
   "metadata": {},
   "source": [
    "It looks complicated but it is actually just a combination of statements we already know. Take some time and look at the expression happy_days_df. What kind of parts can you identify? How are the rows/days selected when you were happy?\n",
    "\n",
    "Print out happy_days_df."
   ]
  },
  {
   "cell_type": "code",
   "execution_count": 30,
   "id": "grave-mother",
   "metadata": {},
   "outputs": [
    {
     "data": {
      "text/html": [
       "<div>\n",
       "<style scoped>\n",
       "    .dataframe tbody tr th:only-of-type {\n",
       "        vertical-align: middle;\n",
       "    }\n",
       "\n",
       "    .dataframe tbody tr th {\n",
       "        vertical-align: top;\n",
       "    }\n",
       "\n",
       "    .dataframe thead th {\n",
       "        text-align: right;\n",
       "    }\n",
       "</style>\n",
       "<table border=\"1\" class=\"dataframe\">\n",
       "  <thead>\n",
       "    <tr style=\"text-align: right;\">\n",
       "      <th></th>\n",
       "      <th>facebook</th>\n",
       "      <th>linkedin</th>\n",
       "      <th>happy</th>\n",
       "    </tr>\n",
       "  </thead>\n",
       "  <tbody>\n",
       "    <tr>\n",
       "      <th>1</th>\n",
       "      <td>9</td>\n",
       "      <td>7</td>\n",
       "      <td>True</td>\n",
       "    </tr>\n",
       "    <tr>\n",
       "      <th>3</th>\n",
       "      <td>5</td>\n",
       "      <td>16</td>\n",
       "      <td>True</td>\n",
       "    </tr>\n",
       "    <tr>\n",
       "      <th>5</th>\n",
       "      <td>17</td>\n",
       "      <td>13</td>\n",
       "      <td>True</td>\n",
       "    </tr>\n",
       "  </tbody>\n",
       "</table>\n",
       "</div>"
      ],
      "text/plain": [
       "   facebook  linkedin  happy\n",
       "1         9         7   True\n",
       "3         5        16   True\n",
       "5        17        13   True"
      ]
     },
     "execution_count": 30,
     "metadata": {},
     "output_type": "execute_result"
    }
   ],
   "source": [
    "happy_days_df"
   ]
  },
  {
   "cell_type": "markdown",
   "id": "commercial-northern",
   "metadata": {},
   "source": [
    "If you would like to select all the days/rows when you had more views on LinkedIn than Facebook, you can proceed in a similar way. First define the selector with `small = my_week_df['linkedin'] > my_week_df['facebook']`."
   ]
  },
  {
   "cell_type": "code",
   "execution_count": 31,
   "id": "national-plaintiff",
   "metadata": {},
   "outputs": [],
   "source": [
    "small = my_week_df['linkedin'] > my_week_df['facebook']"
   ]
  },
  {
   "cell_type": "markdown",
   "id": "certain-ebony",
   "metadata": {},
   "source": [
    "Then, create a new data frame with `small_df = my_week_df.loc[small]`."
   ]
  },
  {
   "cell_type": "code",
   "execution_count": 32,
   "id": "chubby-village",
   "metadata": {},
   "outputs": [],
   "source": [
    "small_df = my_week_df.loc[small]"
   ]
  },
  {
   "cell_type": "markdown",
   "id": "eastern-leadership",
   "metadata": {},
   "source": [
    "Print out small_df."
   ]
  },
  {
   "cell_type": "code",
   "execution_count": 33,
   "id": "vocal-ballet",
   "metadata": {},
   "outputs": [
    {
     "data": {
      "text/html": [
       "<div>\n",
       "<style scoped>\n",
       "    .dataframe tbody tr th:only-of-type {\n",
       "        vertical-align: middle;\n",
       "    }\n",
       "\n",
       "    .dataframe tbody tr th {\n",
       "        vertical-align: top;\n",
       "    }\n",
       "\n",
       "    .dataframe thead th {\n",
       "        text-align: right;\n",
       "    }\n",
       "</style>\n",
       "<table border=\"1\" class=\"dataframe\">\n",
       "  <thead>\n",
       "    <tr style=\"text-align: right;\">\n",
       "      <th></th>\n",
       "      <th>facebook</th>\n",
       "      <th>linkedin</th>\n",
       "      <th>happy</th>\n",
       "    </tr>\n",
       "  </thead>\n",
       "  <tbody>\n",
       "    <tr>\n",
       "      <th>0</th>\n",
       "      <td>16</td>\n",
       "      <td>17</td>\n",
       "      <td>False</td>\n",
       "    </tr>\n",
       "    <tr>\n",
       "      <th>3</th>\n",
       "      <td>5</td>\n",
       "      <td>16</td>\n",
       "      <td>True</td>\n",
       "    </tr>\n",
       "    <tr>\n",
       "      <th>4</th>\n",
       "      <td>2</td>\n",
       "      <td>8</td>\n",
       "      <td>False</td>\n",
       "    </tr>\n",
       "  </tbody>\n",
       "</table>\n",
       "</div>"
      ],
      "text/plain": [
       "   facebook  linkedin  happy\n",
       "0        16        17  False\n",
       "3         5        16   True\n",
       "4         2         8  False"
      ]
     },
     "execution_count": 33,
     "metadata": {},
     "output_type": "execute_result"
    }
   ],
   "source": [
    "small_df"
   ]
  },
  {
   "cell_type": "markdown",
   "id": "yellow-doctrine",
   "metadata": {},
   "source": [
    "That’s almost it for data frames. \n",
    "\n",
    "I promise they get more interesting once we start working with real data. One more thing you often want to do is to sort a data frame according to one of its columns. We have another Pandas function for that called sort_values. Run `sorted_df = my_week_df.sort_values(by=['facebook'])` to sort my_week_df by the values in the facebook column."
   ]
  },
  {
   "cell_type": "code",
   "execution_count": 34,
   "id": "effective-complex",
   "metadata": {},
   "outputs": [],
   "source": [
    "sorted_df = my_week_df.sort_values(by=['facebook'])"
   ]
  },
  {
   "cell_type": "markdown",
   "id": "sensitive-tongue",
   "metadata": {},
   "source": [
    "Print out sorted_df."
   ]
  },
  {
   "cell_type": "code",
   "execution_count": 35,
   "id": "overall-pressure",
   "metadata": {},
   "outputs": [
    {
     "data": {
      "text/html": [
       "<div>\n",
       "<style scoped>\n",
       "    .dataframe tbody tr th:only-of-type {\n",
       "        vertical-align: middle;\n",
       "    }\n",
       "\n",
       "    .dataframe tbody tr th {\n",
       "        vertical-align: top;\n",
       "    }\n",
       "\n",
       "    .dataframe thead th {\n",
       "        text-align: right;\n",
       "    }\n",
       "</style>\n",
       "<table border=\"1\" class=\"dataframe\">\n",
       "  <thead>\n",
       "    <tr style=\"text-align: right;\">\n",
       "      <th></th>\n",
       "      <th>facebook</th>\n",
       "      <th>linkedin</th>\n",
       "      <th>happy</th>\n",
       "    </tr>\n",
       "  </thead>\n",
       "  <tbody>\n",
       "    <tr>\n",
       "      <th>4</th>\n",
       "      <td>2</td>\n",
       "      <td>8</td>\n",
       "      <td>False</td>\n",
       "    </tr>\n",
       "    <tr>\n",
       "      <th>3</th>\n",
       "      <td>5</td>\n",
       "      <td>16</td>\n",
       "      <td>True</td>\n",
       "    </tr>\n",
       "    <tr>\n",
       "      <th>1</th>\n",
       "      <td>9</td>\n",
       "      <td>7</td>\n",
       "      <td>True</td>\n",
       "    </tr>\n",
       "    <tr>\n",
       "      <th>2</th>\n",
       "      <td>13</td>\n",
       "      <td>5</td>\n",
       "      <td>False</td>\n",
       "    </tr>\n",
       "    <tr>\n",
       "      <th>6</th>\n",
       "      <td>14</td>\n",
       "      <td>14</td>\n",
       "      <td>False</td>\n",
       "    </tr>\n",
       "    <tr>\n",
       "      <th>0</th>\n",
       "      <td>16</td>\n",
       "      <td>17</td>\n",
       "      <td>False</td>\n",
       "    </tr>\n",
       "    <tr>\n",
       "      <th>5</th>\n",
       "      <td>17</td>\n",
       "      <td>13</td>\n",
       "      <td>True</td>\n",
       "    </tr>\n",
       "  </tbody>\n",
       "</table>\n",
       "</div>"
      ],
      "text/plain": [
       "   facebook  linkedin  happy\n",
       "4         2         8  False\n",
       "3         5        16   True\n",
       "1         9         7   True\n",
       "2        13         5  False\n",
       "6        14        14  False\n",
       "0        16        17  False\n",
       "5        17        13   True"
      ]
     },
     "execution_count": 35,
     "metadata": {},
     "output_type": "execute_result"
    }
   ],
   "source": [
    "sorted_df"
   ]
  },
  {
   "cell_type": "markdown",
   "id": "interesting-trout",
   "metadata": {},
   "source": [
    "That’s it for the most important concepts around data frames in Python. \n",
    "\n",
    "Next, we move on to some real-life datasets."
   ]
  },
  {
   "cell_type": "code",
   "execution_count": null,
   "id": "adult-puppy",
   "metadata": {},
   "outputs": [],
   "source": []
  }
 ],
 "metadata": {
  "kernelspec": {
   "display_name": "Python 3",
   "language": "python",
   "name": "python3"
  },
  "language_info": {
   "codemirror_mode": {
    "name": "ipython",
    "version": 3
   },
   "file_extension": ".py",
   "mimetype": "text/x-python",
   "name": "python",
   "nbconvert_exporter": "python",
   "pygments_lexer": "ipython3",
   "version": "3.9.2"
  }
 },
 "nbformat": 4,
 "nbformat_minor": 5
}