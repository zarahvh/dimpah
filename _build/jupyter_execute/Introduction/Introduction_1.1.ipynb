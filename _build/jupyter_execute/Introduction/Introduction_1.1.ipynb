{
 "cells": [
  {
   "cell_type": "markdown",
   "id": "handy-member",
   "metadata": {},
   "source": [
    "# Interactive Data Exploration with Python 1.1"
   ]
  },
  {
   "cell_type": "markdown",
   "id": "worst-breast",
   "metadata": {},
   "source": [
    "Jupyter Notebooks are a great data exploration and analysis environment. They allow you to use Python more interactively. Python is of course a fully-fledged programming language for writing long chunks of code and complex applications. But in data analysis you often just want to run one step a time and change things fast. Jupyter Notebook’s allow you do just that. These introduction notebooks explore this aspect. \n",
    "\n",
    "If you are interested in Python as a programming language, why not try one of the many online environments that help you learn it? We like the Code Academy course: https://www.codecademy.com/learn/learn-python but there are many more."
   ]
  },
  {
   "cell_type": "markdown",
   "id": "established-antibody",
   "metadata": {},
   "source": [
    "Welcome to your first session on how to use Python interactively in Jupyter Notebooks. We will have several more sessions like this. Afterwards, you will have a better understanding of processing cultural and social datasets with Python.\n",
    "\n",
    "Let’s try to add two numbers. Please, type ```4 + 3``` into cell below. Then, press enter."
   ]
  },
  {
   "cell_type": "code",
   "execution_count": 1,
   "id": "according-california",
   "metadata": {},
   "outputs": [
    {
     "data": {
      "text/plain": [
       "7"
      ]
     },
     "execution_count": 1,
     "metadata": {},
     "output_type": "execute_result"
    }
   ],
   "source": [
    "4 + 3"
   ]
  },
  {
   "cell_type": "markdown",
   "id": "fourth-dutch",
   "metadata": {},
   "source": [
    "Now, let’s try ```12 – 5```."
   ]
  },
  {
   "cell_type": "code",
   "execution_count": 2,
   "id": "broken-miniature",
   "metadata": {},
   "outputs": [
    {
     "data": {
      "text/plain": [
       "7"
      ]
     },
     "execution_count": 2,
     "metadata": {},
     "output_type": "execute_result"
    }
   ],
   "source": [
    "12 - 5"
   ]
  },
  {
   "cell_type": "markdown",
   "id": "disturbed-headquarters",
   "metadata": {},
   "source": [
    "And finally, brackets can be used to indicate that operators in the sub-expression take precedence - just like at school math. Try ```(5 * 3) – 4```."
   ]
  },
  {
   "cell_type": "code",
   "execution_count": 3,
   "id": "reserved-clinic",
   "metadata": {},
   "outputs": [
    {
     "data": {
      "text/plain": [
       "11"
      ]
     },
     "execution_count": 3,
     "metadata": {},
     "output_type": "execute_result"
    }
   ],
   "source": [
    "(5*3) - 4"
   ]
  },
  {
   "cell_type": "markdown",
   "id": "offensive-dining",
   "metadata": {},
   "source": [
    "These were all numbers. All this is very similar to what you know from calculators. But computers can process many other symbols as well. Other important symbols include ‘strings’, which you know as words. These can be any number of characters like a, b, c, etc. but also -, 1 or & count as characters.\n",
    "\n",
    "Let’s try this ... Please, type ```'Hello World'``` into the Cell's command prompt. The quotation marks indicate that this is a string. You could also use \"Hello World\"."
   ]
  },
  {
   "cell_type": "code",
   "execution_count": 4,
   "id": "economic-scotland",
   "metadata": {},
   "outputs": [
    {
     "data": {
      "text/plain": [
       "'Hello World'"
      ]
     },
     "execution_count": 4,
     "metadata": {},
     "output_type": "execute_result"
    }
   ],
   "source": [
    "'Hello World'"
   ]
  },
  {
   "cell_type": "markdown",
   "id": "thick-inspector",
   "metadata": {},
   "source": [
    "What do you see when you enter ```type(‘string’)```?"
   ]
  },
  {
   "cell_type": "code",
   "execution_count": 5,
   "id": "continued-grenada",
   "metadata": {},
   "outputs": [
    {
     "data": {
      "text/plain": [
       "str"
      ]
     },
     "execution_count": 5,
     "metadata": {},
     "output_type": "execute_result"
    }
   ],
   "source": [
    "type('string')"
   ]
  },
  {
   "cell_type": "markdown",
   "id": "architectural-procurement",
   "metadata": {},
   "source": [
    "There are many more types, which we will cover throughout the course. Check put: https://realpython.com/python-data-types/\n",
    "\n",
    "Booleans are another important type. They evaluate whether an assumption is True or False. Please, type ```4 < 5```. What do you get back?"
   ]
  },
  {
   "cell_type": "code",
   "execution_count": 6,
   "id": "comfortable-tours",
   "metadata": {},
   "outputs": [
    {
     "data": {
      "text/plain": [
       "True"
      ]
     },
     "execution_count": 6,
     "metadata": {},
     "output_type": "execute_result"
    }
   ],
   "source": [
    "4 < 5"
   ]
  },
  {
   "cell_type": "markdown",
   "id": "expected-meaning",
   "metadata": {},
   "source": [
    "Another important concept that discriminates programming languages from calculators are variables. They are basically names for places in the computer’s memory where we can store things. We create variables with the Python assignment operator =. \n",
    "\n",
    "Let’s try that and assign the value 5 to the variable my_apples. Please, type in ```my_apples = 5```."
   ]
  },
  {
   "cell_type": "code",
   "execution_count": 7,
   "id": "spanish-state",
   "metadata": {},
   "outputs": [],
   "source": [
    "my_apples = 5"
   ]
  },
  {
   "cell_type": "markdown",
   "id": "sudden-syndrome",
   "metadata": {},
   "source": [
    "Well done. \n",
    "\n",
    "Now print out my_apples. Just type ```my_apples```."
   ]
  },
  {
   "cell_type": "code",
   "execution_count": 8,
   "id": "enhanced-privacy",
   "metadata": {},
   "outputs": [
    {
     "data": {
      "text/plain": [
       "5"
      ]
     },
     "execution_count": 8,
     "metadata": {},
     "output_type": "execute_result"
    }
   ],
   "source": [
    "my_apples"
   ]
  },
  {
   "cell_type": "markdown",
   "id": "neutral-acquisition",
   "metadata": {},
   "source": [
    "Numbers in Python are generally either integers (those without a floating point) or floats (those with a floating point). Check out https://docs.python.org/3/library/stdtypes.html for an overview of all the different numerical types in Python.\n",
    "\n",
    "Now let’s try to assign two variables.\n",
    "\n",
    "Type ```my_oranges = 6```."
   ]
  },
  {
   "cell_type": "code",
   "execution_count": 9,
   "id": "bacterial-seventh",
   "metadata": {},
   "outputs": [],
   "source": [
    "my_oranges = 6"
   ]
  },
  {
   "cell_type": "markdown",
   "id": "generic-bradley",
   "metadata": {},
   "source": [
    "You have now created two variables my_apples and my_oranges.\n",
    "\n",
    "Just like numbers we can add two numerical variables. Please try it with ```my_apples + my_oranges```."
   ]
  },
  {
   "cell_type": "code",
   "execution_count": 10,
   "id": "married-threshold",
   "metadata": {},
   "outputs": [
    {
     "data": {
      "text/plain": [
       "11"
      ]
     },
     "execution_count": 10,
     "metadata": {},
     "output_type": "execute_result"
    }
   ],
   "source": [
    "my_apples + my_oranges"
   ]
  },
  {
   "cell_type": "markdown",
   "id": "treated-ideal",
   "metadata": {},
   "source": [
    "We can also assign the result to a new variable my_fruit. Please type ```my_fruit = my_apples + my_oranges```."
   ]
  },
  {
   "cell_type": "code",
   "execution_count": 11,
   "id": "ethical-issue",
   "metadata": {},
   "outputs": [],
   "source": [
    "my_fruit = my_apples + my_oranges"
   ]
  },
  {
   "cell_type": "markdown",
   "id": "quality-police",
   "metadata": {},
   "source": [
    "To check that the new variable exists, please enter ```my_fruit```."
   ]
  },
  {
   "cell_type": "code",
   "execution_count": 12,
   "id": "alive-ideal",
   "metadata": {},
   "outputs": [
    {
     "data": {
      "text/plain": [
       "11"
      ]
     },
     "execution_count": 12,
     "metadata": {},
     "output_type": "execute_result"
    }
   ],
   "source": [
    "my_fruit"
   ]
  },
  {
   "cell_type": "markdown",
   "id": "applied-providence",
   "metadata": {},
   "source": [
    "But we can only combine variables of the same type. Please assign the string ‘six’ to my_oranges with ```my_oranges = ‘six’```."
   ]
  },
  {
   "cell_type": "code",
   "execution_count": 13,
   "id": "dated-liquid",
   "metadata": {},
   "outputs": [],
   "source": [
    "my_oranges = 'six'"
   ]
  },
  {
   "cell_type": "markdown",
   "id": "reported-enemy",
   "metadata": {},
   "source": [
    "Now let’s try and ‘add’ my_apples and my_oranges. Type ```my_apples + my_oranges``` and you will get an error. "
   ]
  },
  {
   "cell_type": "code",
   "execution_count": 14,
   "id": "center-topic",
   "metadata": {},
   "outputs": [
    {
     "ename": "TypeError",
     "evalue": "unsupported operand type(s) for +: 'int' and 'str'",
     "output_type": "error",
     "traceback": [
      "\u001b[0;31m---------------------------------------------------------------------------\u001b[0m",
      "\u001b[0;31mTypeError\u001b[0m                                 Traceback (most recent call last)",
      "\u001b[0;32m<ipython-input-14-13a741a3bfe8>\u001b[0m in \u001b[0;36m<module>\u001b[0;34m\u001b[0m\n\u001b[0;32m----> 1\u001b[0;31m \u001b[0mmy_apples\u001b[0m \u001b[0;34m+\u001b[0m \u001b[0mmy_oranges\u001b[0m\u001b[0;34m\u001b[0m\u001b[0;34m\u001b[0m\u001b[0m\n\u001b[0m",
      "\u001b[0;31mTypeError\u001b[0m: unsupported operand type(s) for +: 'int' and 'str'"
     ]
    }
   ],
   "source": [
    "my_apples + my_oranges"
   ]
  },
  {
   "cell_type": "markdown",
   "id": "acute-campaign",
   "metadata": {},
   "source": [
    "Variables are very important in any programming language. \n",
    "\n",
    "Another key idea is the function. It is  a predefined set of commands. On your calculator you can, for instance, use the inv function to get the inverse of a number. Python also has a lot of pre-defined functions like inv. But in any programming language you can also define your own functions. We will come back to this later.\n",
    "\n",
    "In Python, functions are called with arguments in brackets. They are often found in extra libraries that are basically collections of functions. More on that later ...\n",
    "\n",
    "Please run round(9.5) to run the built-in math function round in Python. You should get 10. round is the function name and 9.5 is the only 'argument' as the input into functions is called."
   ]
  },
  {
   "cell_type": "code",
   "execution_count": 17,
   "id": "material-jonathan",
   "metadata": {},
   "outputs": [
    {
     "data": {
      "text/plain": [
       "10"
      ]
     },
     "execution_count": 17,
     "metadata": {},
     "output_type": "execute_result"
    }
   ],
   "source": [
    "round(9.5)"
   ]
  },
  {
   "cell_type": "markdown",
   "id": "radical-geography",
   "metadata": {},
   "source": [
    "This was a lot of stuff for the first lesson. Unfortunately, this is necessary but once you have learned one programming language all of this becomes quite obvious and repetitive. Before we finish we need to learn one more important concept in Python. With so-called lists, you can collect several elements in the same variable. This is immensely useful as we will see later.\n",
    "\n",
    "Let’s try lists, which store an ordered set of values called elements. A list can contain any number of elements using brackets. Type in ```numeric_list = [1, 10, 49]``` to create a numeric list of three numbers."
   ]
  },
  {
   "cell_type": "code",
   "execution_count": 18,
   "id": "authorized-voluntary",
   "metadata": {},
   "outputs": [],
   "source": [
    "numeric_list = [1,10,49]"
   ]
  },
  {
   "cell_type": "markdown",
   "id": "suburban-medium",
   "metadata": {},
   "source": [
    "To check that the new list exists, please type ```numeric_list```."
   ]
  },
  {
   "cell_type": "code",
   "execution_count": 19,
   "id": "buried-upper",
   "metadata": {},
   "outputs": [
    {
     "data": {
      "text/plain": [
       "[1, 10, 49]"
      ]
     },
     "execution_count": 19,
     "metadata": {},
     "output_type": "execute_result"
    }
   ],
   "source": [
    "numeric_list"
   ]
  },
  {
   "cell_type": "markdown",
   "id": "comic-hayes",
   "metadata": {},
   "source": [
    "We can also create a string/characters list, with ```string_list = ['abc', 'def', 'ghi']```."
   ]
  },
  {
   "cell_type": "code",
   "execution_count": 20,
   "id": "filled-drawing",
   "metadata": {},
   "outputs": [],
   "source": [
    "string_list = ['abc', 'def', 'ghi']"
   ]
  },
  {
   "cell_type": "markdown",
   "id": "opposite-depression",
   "metadata": {},
   "source": [
    "To check that the new vector exists, please type ```string_list```."
   ]
  },
  {
   "cell_type": "code",
   "execution_count": 22,
   "id": "transsexual-charles",
   "metadata": {},
   "outputs": [
    {
     "data": {
      "text/plain": [
       "['abc', 'def', 'ghi']"
      ]
     },
     "execution_count": 22,
     "metadata": {},
     "output_type": "execute_result"
    }
   ],
   "source": [
    "string_list"
   ]
  },
  {
   "cell_type": "markdown",
   "id": "interim-familiar",
   "metadata": {},
   "source": [
    "Lists are useful to, for instance, hold your poker winnings during the week. You do not play on Saturday and Sunday, but record all the other 5 days, by entering ```poker_list = [140, -50, 20, -120, 240]```. \n",
    "\n",
    "Thank you datacamp.com for this example! An excellent resource to learn data science things btw, but unfortunately you have to pay for it."
   ]
  },
  {
   "cell_type": "code",
   "execution_count": 23,
   "id": "animal-angel",
   "metadata": {},
   "outputs": [],
   "source": [
    "poker_list = [140, -50, 20, -120, 240]"
   ]
  },
  {
   "cell_type": "markdown",
   "id": "sapphire-vampire",
   "metadata": {},
   "source": [
    "You feel this is your lucky week. So, you play roulette, too. Please record your winnings with ```roulette_list =[-24, -50, 100, -350, 10]```."
   ]
  },
  {
   "cell_type": "code",
   "execution_count": 24,
   "id": "random-principle",
   "metadata": {},
   "outputs": [],
   "source": [
    "roulette_list =[-24, -50, 100, -350, 10]"
   ]
  },
  {
   "cell_type": "markdown",
   "id": "seven-psychiatry",
   "metadata": {},
   "source": [
    "Because you prefer it organised, you would now like to name each of the entries. This is possible in Python with dictionaries. Please create an empty dictionary by typing ```names_poker = {}```."
   ]
  },
  {
   "cell_type": "code",
   "execution_count": 25,
   "id": "assured-government",
   "metadata": {},
   "outputs": [],
   "source": [
    "names_poker = {}"
   ]
  },
  {
   "cell_type": "markdown",
   "id": "injured-answer",
   "metadata": {},
   "source": [
    "To create a dictionary (which is like a named list), simply use the {} and then for each element the key to access the element comes first, then a ‘:’, and finish it with the value. So, to create a dictionary containing all your poker winnings type in ```names_poker = {'Monday': 140,'Tuesday': -50, 'Wednesday': 20, 'Thursday': -120, 'Friday': 240}```.\n",
    "\n",
    "Dictionaries are further explained at https://www.w3schools.com/python/python_dictionaries.asp. Also a good resource to learn some more Python."
   ]
  },
  {
   "cell_type": "code",
   "execution_count": 26,
   "id": "defensive-eight",
   "metadata": {},
   "outputs": [],
   "source": [
    "names_poker = {'Monday': 140,'Tuesday': -50, 'Wednesday': 20, 'Thursday': -120, 'Friday': 240}"
   ]
  },
  {
   "cell_type": "markdown",
   "id": "perceived-observer",
   "metadata": {},
   "source": [
    "Now you can access a single element with ```names_poker['Monday']```. Type it in."
   ]
  },
  {
   "cell_type": "code",
   "execution_count": 27,
   "id": "beginning-preservation",
   "metadata": {},
   "outputs": [
    {
     "data": {
      "text/plain": [
       "140"
      ]
     },
     "execution_count": 27,
     "metadata": {},
     "output_type": "execute_result"
    }
   ],
   "source": [
    "names_poker['Monday']"
   ]
  },
  {
   "cell_type": "markdown",
   "id": "protective-brother",
   "metadata": {},
   "source": [
    "Next, you are interested in how much you win in poker and roulette per day. \n",
    "\n",
    "You can simply add up all the elements in the list. Remember that we can use built-in functions? To add up elements in a list we can use the function sum, which comes directly with Python. Try it with ```sum(poker_list)```."
   ]
  },
  {
   "cell_type": "code",
   "execution_count": 28,
   "id": "positive-wheat",
   "metadata": {},
   "outputs": [
    {
     "data": {
      "text/plain": [
       "230"
      ]
     },
     "execution_count": 28,
     "metadata": {},
     "output_type": "execute_result"
    }
   ],
   "source": [
    "sum(poker_list)"
   ]
  },
  {
   "cell_type": "markdown",
   "id": "numeric-cannon",
   "metadata": {},
   "source": [
    "And of course we can also do ```sum(roulette_list)```."
   ]
  },
  {
   "cell_type": "code",
   "execution_count": 29,
   "id": "killing-birth",
   "metadata": {},
   "outputs": [
    {
     "data": {
      "text/plain": [
       "-314"
      ]
     },
     "execution_count": 29,
     "metadata": {},
     "output_type": "execute_result"
    }
   ],
   "source": [
    "sum(roulette_list)"
   ]
  },
  {
   "cell_type": "markdown",
   "id": "extraordinary-surveillance",
   "metadata": {},
   "source": [
    "In order to get our total winnings per day for the week, we can simply add both vectors with the Python sum function. Type in ```total_week = sum(poker_list) + sum(roulette_list)```."
   ]
  },
  {
   "cell_type": "code",
   "execution_count": 30,
   "id": "sized-envelope",
   "metadata": {},
   "outputs": [],
   "source": [
    "total_week = sum(poker_list) + sum(roulette_list)"
   ]
  },
  {
   "cell_type": "markdown",
   "id": "unique-chicago",
   "metadata": {},
   "source": [
    "Print out total_week."
   ]
  },
  {
   "cell_type": "code",
   "execution_count": 31,
   "id": "valuable-hygiene",
   "metadata": {},
   "outputs": [
    {
     "data": {
      "text/plain": [
       "-84"
      ]
     },
     "execution_count": 31,
     "metadata": {},
     "output_type": "execute_result"
    }
   ],
   "source": [
    "total_week"
   ]
  },
  {
   "cell_type": "markdown",
   "id": "hispanic-identifier",
   "metadata": {},
   "source": [
    "We have almost covered everything there is to know about lists. One more important concept is that lists are indexed. Using square brackets, we can select the first, second and third element directly with 0, 1, 2, etc. respectively. So, the index count in Python starts with 0 for the first element. The last element is then the length of the list n – 1. \n",
    "\n",
    "To select Monday’s poker winning (first day of the week) simply use square brackets [] and type ```poker_monday = poker_list[0]```."
   ]
  },
  {
   "cell_type": "code",
   "execution_count": 33,
   "id": "false-sheriff",
   "metadata": {},
   "outputs": [],
   "source": [
    "poker_monday = poker_list[0]"
   ]
  },
  {
   "cell_type": "markdown",
   "id": "willing-shaft",
   "metadata": {},
   "source": [
    "Print out poker_monday."
   ]
  },
  {
   "cell_type": "code",
   "execution_count": 34,
   "id": "married-deployment",
   "metadata": {},
   "outputs": [
    {
     "data": {
      "text/plain": [
       "140"
      ]
     },
     "execution_count": 34,
     "metadata": {},
     "output_type": "execute_result"
    }
   ],
   "source": [
    "poker_monday"
   ]
  },
  {
   "cell_type": "markdown",
   "id": "regulated-chorus",
   "metadata": {},
   "source": [
    "You can also select more than one element with the colon operator. \n",
    "\n",
    "In order to select your winnings from Tuesday to Friday, please run ```roulette_selection_list = roulette_list[1:5]```.  The first value, left of the colon, is the first index to select (in this case Tuesday). The last value is the first index NOT to select (here an imaginary Saturday). Print out roulette_selection_list."
   ]
  },
  {
   "cell_type": "code",
   "execution_count": 35,
   "id": "chronic-douglas",
   "metadata": {},
   "outputs": [
    {
     "data": {
      "text/plain": [
       "[-50, 100, -350, 10]"
      ]
     },
     "execution_count": 35,
     "metadata": {},
     "output_type": "execute_result"
    }
   ],
   "source": [
    "roulette_selection_list = roulette_list[1:5]\n",
    "roulette_selection_list"
   ]
  },
  {
   "cell_type": "markdown",
   "id": "satellite-cemetery",
   "metadata": {},
   "source": [
    "This is called list slicing in Python and requires some getting used to.\n",
    "\n",
    "If you have a list l, these are the options:\n",
    "\n",
    "- l[start:stop]  # items start through stop-1\n",
    "- l[start:]      # items start through the rest of the array\n",
    "- l[:stop]       # items from the beginning through stop-1\n",
    "- l[:]           # a copy of the whole array\n",
    "\n",
    "To find out about our roulette winnings from Tuesday to Friday, we can use sum again. Try ```sum(roulette_selection_list)```."
   ]
  },
  {
   "cell_type": "code",
   "execution_count": 36,
   "id": "resistant-magic",
   "metadata": {},
   "outputs": [
    {
     "data": {
      "text/plain": [
       "-290"
      ]
     },
     "execution_count": 36,
     "metadata": {},
     "output_type": "execute_result"
    }
   ],
   "source": [
    "sum(roulette_selection_list)"
   ]
  },
  {
   "cell_type": "markdown",
   "id": "surrounded-portuguese",
   "metadata": {},
   "source": [
    "Using the index we can also update elements in lists. \n",
    "\n",
    "Let’s  set the Wednesday winnings of roulette_selection_vector to 1000 with ```roulette_selection_list[1] = 1000```."
   ]
  },
  {
   "cell_type": "code",
   "execution_count": 37,
   "id": "sweet-scroll",
   "metadata": {},
   "outputs": [],
   "source": [
    "roulette_selection_list[1] = 1000"
   ]
  },
  {
   "cell_type": "markdown",
   "id": "desirable-bottle",
   "metadata": {},
   "source": [
    "Print out  roulette_selection_list."
   ]
  },
  {
   "cell_type": "code",
   "execution_count": 38,
   "id": "impossible-vegetation",
   "metadata": {},
   "outputs": [
    {
     "data": {
      "text/plain": [
       "[-50, 1000, -350, 10]"
      ]
     },
     "execution_count": 38,
     "metadata": {},
     "output_type": "execute_result"
    }
   ],
   "source": [
    " roulette_selection_list"
   ]
  },
  {
   "cell_type": "markdown",
   "id": "exclusive-microwave",
   "metadata": {},
   "source": [
    "Well done. Your first lesson is done."
   ]
  },
  {
   "cell_type": "code",
   "execution_count": null,
   "id": "acceptable-reputation",
   "metadata": {},
   "outputs": [],
   "source": []
  }
 ],
 "metadata": {
  "kernelspec": {
   "display_name": "Python 3",
   "language": "python",
   "name": "python3"
  },
  "language_info": {
   "codemirror_mode": {
    "name": "ipython",
    "version": 3
   },
   "file_extension": ".py",
   "mimetype": "text/x-python",
   "name": "python",
   "nbconvert_exporter": "python",
   "pygments_lexer": "ipython3",
   "version": "3.9.2"
  }
 },
 "nbformat": 4,
 "nbformat_minor": 5
}