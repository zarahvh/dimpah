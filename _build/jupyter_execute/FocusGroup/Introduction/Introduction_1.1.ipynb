{
 "cells": [
  {
   "cell_type": "markdown",
   "id": "senior-ceiling",
   "metadata": {},
   "source": [
    "# Introduction to Python 1.1"
   ]
  },
  {
   "cell_type": "markdown",
   "id": "solved-evening",
   "metadata": {},
   "source": [
    "Welcome to your first session on how to use Python. We will have several more sessions like this. Afterwards, you will have a better understanding of processing cultural and social datasets with Python.\n",
    "\n",
    "Let’s try to add two numbers. Please, type 4 + 3 into the command prompt. Then, press enter."
   ]
  },
  {
   "cell_type": "code",
   "execution_count": 1,
   "id": "increased-august",
   "metadata": {},
   "outputs": [
    {
     "data": {
      "text/plain": [
       "7"
      ]
     },
     "execution_count": 1,
     "metadata": {},
     "output_type": "execute_result"
    }
   ],
   "source": [
    "4 + 3"
   ]
  },
  {
   "cell_type": "markdown",
   "id": "continued-simulation",
   "metadata": {},
   "source": [
    "Now, let’s try 12 – 5."
   ]
  },
  {
   "cell_type": "code",
   "execution_count": 2,
   "id": "innovative-beauty",
   "metadata": {},
   "outputs": [
    {
     "data": {
      "text/plain": [
       "7"
      ]
     },
     "execution_count": 2,
     "metadata": {},
     "output_type": "execute_result"
    }
   ],
   "source": [
    "12 - 5"
   ]
  },
  {
   "cell_type": "markdown",
   "id": "sized-transaction",
   "metadata": {},
   "source": [
    "And, finally, brackets can be used to indicate that operators in the sub-expression take precedence. Try (5 * 3) – 4."
   ]
  },
  {
   "cell_type": "code",
   "execution_count": 3,
   "id": "unlike-lebanon",
   "metadata": {},
   "outputs": [
    {
     "data": {
      "text/plain": [
       "11"
      ]
     },
     "execution_count": 3,
     "metadata": {},
     "output_type": "execute_result"
    }
   ],
   "source": [
    "(5*3)-4"
   ]
  },
  {
   "cell_type": "markdown",
   "id": "affiliated-tamil",
   "metadata": {},
   "source": [
    "These were all numbers. All this is very similar to what you know from calculators. But computers can process many other symbols as well. Other important symbols include ‘strings’, which you know as words. These can be any number of characters like a, b, c, etc. but also -, 1 or & count as characters.\n",
    "\n",
    "Let’s try this. Please, type ‘Hello World’ into the command prompt. The quotation marks ’’ indicate that this is a string. You could also use “Hello World”."
   ]
  },
  {
   "cell_type": "code",
   "execution_count": 4,
   "id": "federal-seattle",
   "metadata": {},
   "outputs": [
    {
     "data": {
      "text/plain": [
       "'Hello World'"
      ]
     },
     "execution_count": 4,
     "metadata": {},
     "output_type": "execute_result"
    }
   ],
   "source": [
    "\"Hello World\""
   ]
  },
  {
   "cell_type": "markdown",
   "id": "current-blame",
   "metadata": {},
   "source": [
    "What do you see when you type type(‘string’)?"
   ]
  },
  {
   "cell_type": "code",
   "execution_count": 5,
   "id": "indian-responsibility",
   "metadata": {},
   "outputs": [
    {
     "data": {
      "text/plain": [
       "str"
      ]
     },
     "execution_count": 5,
     "metadata": {},
     "output_type": "execute_result"
    }
   ],
   "source": [
    "type('string')"
   ]
  },
  {
   "cell_type": "markdown",
   "id": "palestinian-application",
   "metadata": {},
   "source": [
    "There are many more types, which we will cover throughout the course. Booleans are another important one. They evaluate whether an assumption is True or False. Please, type 4 < 5. What do you get back?"
   ]
  },
  {
   "cell_type": "code",
   "execution_count": 6,
   "id": "legendary-federal",
   "metadata": {},
   "outputs": [
    {
     "data": {
      "text/plain": [
       "True"
      ]
     },
     "execution_count": 6,
     "metadata": {},
     "output_type": "execute_result"
    }
   ],
   "source": [
    "4 < 5"
   ]
  },
  {
   "cell_type": "markdown",
   "id": "curious-ordinary",
   "metadata": {},
   "source": [
    "Another important concept that discriminates programming languages from calculators are variables. They are basically names for places in the computer’s memory where we can store things. We create variables with the Python assignment operator =. \n",
    "\n",
    "Let’s try that and assign the value 5 to the variable my_apples. Please, type my_apples = 5.\n",
    "\n"
   ]
  },
  {
   "cell_type": "code",
   "execution_count": 7,
   "id": "innovative-parking",
   "metadata": {},
   "outputs": [],
   "source": [
    "my_apples = 5"
   ]
  },
  {
   "cell_type": "markdown",
   "id": "hazardous-cabinet",
   "metadata": {},
   "source": [
    "Well done. Now print out my_apples. Just type my_apples into the command prompt."
   ]
  },
  {
   "cell_type": "code",
   "execution_count": 8,
   "id": "numeric-norwegian",
   "metadata": {},
   "outputs": [
    {
     "data": {
      "text/plain": [
       "5"
      ]
     },
     "execution_count": 8,
     "metadata": {},
     "output_type": "execute_result"
    }
   ],
   "source": [
    "my_apples"
   ]
  },
  {
   "cell_type": "markdown",
   "id": "joined-cooper",
   "metadata": {},
   "source": [
    "Now let’s try to assign two variables.\n",
    "\n",
    "Type my_oranges = 6. You have now created two variables my_apples and my_oranges."
   ]
  },
  {
   "cell_type": "code",
   "execution_count": 9,
   "id": "organic-ranch",
   "metadata": {},
   "outputs": [],
   "source": [
    "my_oranges = 6"
   ]
  },
  {
   "cell_type": "markdown",
   "id": "skilled-floor",
   "metadata": {},
   "source": [
    "Just like numbers we can add two numerical variables. Please try it with my_apples + my_oranges."
   ]
  },
  {
   "cell_type": "code",
   "execution_count": 10,
   "id": "dedicated-emerald",
   "metadata": {},
   "outputs": [
    {
     "data": {
      "text/plain": [
       "11"
      ]
     },
     "execution_count": 10,
     "metadata": {},
     "output_type": "execute_result"
    }
   ],
   "source": [
    "my_apples + my_oranges"
   ]
  },
  {
   "cell_type": "markdown",
   "id": "postal-bangkok",
   "metadata": {},
   "source": [
    "We can also assign the result to a new variable my_fruit. Please type my_fruit = my_apples + my_oranges."
   ]
  },
  {
   "cell_type": "code",
   "execution_count": 11,
   "id": "adverse-rainbow",
   "metadata": {},
   "outputs": [],
   "source": [
    "my_fruit = my_apples + my_oranges"
   ]
  },
  {
   "cell_type": "markdown",
   "id": "herbal-boundary",
   "metadata": {},
   "source": [
    "To check that the new variable exists, please enter my_fruit"
   ]
  },
  {
   "cell_type": "code",
   "execution_count": 12,
   "id": "exempt-trinidad",
   "metadata": {},
   "outputs": [
    {
     "data": {
      "text/plain": [
       "11"
      ]
     },
     "execution_count": 12,
     "metadata": {},
     "output_type": "execute_result"
    }
   ],
   "source": [
    "my_fruit"
   ]
  },
  {
   "cell_type": "markdown",
   "id": "removed-input",
   "metadata": {},
   "source": [
    "But we can only combine variables of the same type. Please assign the string ‘six’ to my_oranges with my_oranges = ‘six’."
   ]
  },
  {
   "cell_type": "code",
   "execution_count": 13,
   "id": "floppy-brisbane",
   "metadata": {},
   "outputs": [],
   "source": [
    "my_oranges = 'six'"
   ]
  },
  {
   "cell_type": "markdown",
   "id": "dietary-newspaper",
   "metadata": {},
   "source": [
    "Now let’s try and ‘add’ my_apples and my_oranges. Type my_apples + my_oranges and you will get an error. "
   ]
  },
  {
   "cell_type": "code",
   "execution_count": 14,
   "id": "revolutionary-species",
   "metadata": {},
   "outputs": [
    {
     "ename": "TypeError",
     "evalue": "unsupported operand type(s) for +: 'int' and 'str'",
     "output_type": "error",
     "traceback": [
      "\u001b[0;31m---------------------------------------------------------------------------\u001b[0m",
      "\u001b[0;31mTypeError\u001b[0m                                 Traceback (most recent call last)",
      "\u001b[0;32m<ipython-input-14-13a741a3bfe8>\u001b[0m in \u001b[0;36m<module>\u001b[0;34m\u001b[0m\n\u001b[0;32m----> 1\u001b[0;31m \u001b[0mmy_apples\u001b[0m \u001b[0;34m+\u001b[0m \u001b[0mmy_oranges\u001b[0m\u001b[0;34m\u001b[0m\u001b[0;34m\u001b[0m\u001b[0m\n\u001b[0m",
      "\u001b[0;31mTypeError\u001b[0m: unsupported operand type(s) for +: 'int' and 'str'"
     ]
    }
   ],
   "source": [
    "my_apples + my_oranges"
   ]
  },
  {
   "cell_type": "markdown",
   "id": "swiss-mason",
   "metadata": {},
   "source": [
    "Variables are very important in any programming language. Another key idea is the function. It is basically a predefined set of commands, which you give your own name. On your calculator you can, for instance, use the inv function to get the inverse of a number. Python also has a lot of pre-defined functions like inv. We can access these using the math module. But in any programming language you can also define your own functions. We will come back to this later.\n",
    "\n",
    "In Python functions are called with arguments in brackets. Please first import math and then type in math.sqrt(9) to get the square root of 9. sqrt is the function name and 9 is the only argument. "
   ]
  },
  {
   "cell_type": "code",
   "execution_count": 19,
   "id": "acknowledged-arnold",
   "metadata": {},
   "outputs": [
    {
     "data": {
      "text/plain": [
       "3.0"
      ]
     },
     "execution_count": 19,
     "metadata": {},
     "output_type": "execute_result"
    }
   ],
   "source": [
    "import math\n",
    "math.sqrt(9)"
   ]
  },
  {
   "cell_type": "markdown",
   "id": "framed-blink",
   "metadata": {},
   "source": [
    "This was a lot of stuff for the first lesson. Unfortunately, this is necessary but once you have learned one programming language all of this becomes quite obvious and repetitive. Before we finish we need to learn one more important concept that is specific to Python. With so-called lists, you can collect several elements in the same variable. This is immensely useful as we see later."
   ]
  },
  {
   "cell_type": "markdown",
   "id": "continental-playlist",
   "metadata": {},
   "source": [
    "Let’s try lists, which store an ordered set of values called elements. A list can contain any number of elements using brackets. Type in numeric_list = [1,,49] to create a numeric list of three numbers and then print it out. "
   ]
  },
  {
   "cell_type": "code",
   "execution_count": 24,
   "id": "necessary-buyer",
   "metadata": {},
   "outputs": [],
   "source": [
    "numeric_list = [1,10,49]"
   ]
  },
  {
   "cell_type": "markdown",
   "id": "honey-indiana",
   "metadata": {},
   "source": [
    "To check that the new list exists, please type numeric_list."
   ]
  },
  {
   "cell_type": "code",
   "execution_count": 25,
   "id": "grand-finder",
   "metadata": {},
   "outputs": [
    {
     "data": {
      "text/plain": [
       "[1, 10, 49]"
      ]
     },
     "execution_count": 25,
     "metadata": {},
     "output_type": "execute_result"
    }
   ],
   "source": [
    "numeric_list"
   ]
  },
  {
   "cell_type": "markdown",
   "id": "interim-designation",
   "metadata": {},
   "source": [
    "We can also create string/characters list, with string_list = ['abc', 'def', 'ghi']"
   ]
  },
  {
   "cell_type": "code",
   "execution_count": 27,
   "id": "breathing-cache",
   "metadata": {},
   "outputs": [],
   "source": [
    "string_list = ['abc', 'def', 'ghi']"
   ]
  },
  {
   "cell_type": "markdown",
   "id": "classified-renaissance",
   "metadata": {},
   "source": [
    "To check that the new vector exists, please type string_list"
   ]
  },
  {
   "cell_type": "code",
   "execution_count": 28,
   "id": "featured-approval",
   "metadata": {},
   "outputs": [
    {
     "data": {
      "text/plain": [
       "['abc', 'def', 'ghi']"
      ]
     },
     "execution_count": 28,
     "metadata": {},
     "output_type": "execute_result"
    }
   ],
   "source": [
    "string_list"
   ]
  },
  {
   "cell_type": "markdown",
   "id": "occupied-subdivision",
   "metadata": {},
   "source": [
    "Lists are useful to, for instance, hold your poker winnings during the week. You do not play on Saturday and Sunday, but record all the other 5 days, by entering poker_list = [140, -50, 20, -120, 240]. Thank you datacamp.com for this example! An excellent resource to learn R btw, but unfortunately you have to pay for it."
   ]
  },
  {
   "cell_type": "code",
   "execution_count": 31,
   "id": "inner-unknown",
   "metadata": {},
   "outputs": [],
   "source": [
    "poker_list = [140, -50, 20, -120, 240]"
   ]
  },
  {
   "cell_type": "markdown",
   "id": "disturbed-buffer",
   "metadata": {},
   "source": [
    "You feel this is your lucky week. So, you play roulette, too. Please record your winnings with roulette_list =[-24, -50, 100, -350, 10]."
   ]
  },
  {
   "cell_type": "code",
   "execution_count": 32,
   "id": "proved-economics",
   "metadata": {},
   "outputs": [],
   "source": [
    "roulette_list =[-24, -50, 100, -350, 10]"
   ]
  },
  {
   "cell_type": "markdown",
   "id": "printable-collect",
   "metadata": {},
   "source": [
    "Because you prefer it organised, you would now like to name each of the entries. This is possible in Python with dictionaries. Please create a dict by typing names = {}"
   ]
  },
  {
   "cell_type": "code",
   "execution_count": 35,
   "id": "cutting-andrew",
   "metadata": {},
   "outputs": [],
   "source": [
    "names = {}\n",
    "# To create a dictionary from this list we will need to use for loops, maybe too soon?"
   ]
  },
  {
   "cell_type": "code",
   "execution_count": 62,
   "id": "amino-plaintiff",
   "metadata": {},
   "outputs": [],
   "source": [
    "names_poker = {'Monday': 140,'Tuesday': -50, 'Wednesday': 20, 'Thursday': -120, 'Friday': 240}"
   ]
  },
  {
   "cell_type": "code",
   "execution_count": 55,
   "id": "endangered-mineral",
   "metadata": {},
   "outputs": [
    {
     "data": {
      "text/plain": [
       "140"
      ]
     },
     "execution_count": 55,
     "metadata": {},
     "output_type": "execute_result"
    }
   ],
   "source": [
    "names_poker['Monday']"
   ]
  },
  {
   "cell_type": "markdown",
   "id": "designing-minister",
   "metadata": {},
   "source": [
    "And the same for the roulette winnings"
   ]
  },
  {
   "cell_type": "code",
   "execution_count": 45,
   "id": "authentic-martial",
   "metadata": {},
   "outputs": [],
   "source": [
    "names_roulette = {'Monday': -24,'Tuesday': -50, 'Wednesday': 200, 'Thursday': -350, 'Friday': 10}"
   ]
  },
  {
   "cell_type": "markdown",
   "id": "irish-monroe",
   "metadata": {},
   "source": [
    "Next, you are interested in how much you win in poker and roulette per day. You can simply add up all the elements in the vectors. Remember that we can use built-in functions like sqrt? To add up elements in a list we can use the function sum. Try it with sum(poker_list)."
   ]
  },
  {
   "cell_type": "code",
   "execution_count": 68,
   "id": "patient-suite",
   "metadata": {},
   "outputs": [
    {
     "data": {
      "text/plain": [
       "230"
      ]
     },
     "execution_count": 68,
     "metadata": {},
     "output_type": "execute_result"
    }
   ],
   "source": [
    "sum(poker_list)"
   ]
  },
  {
   "cell_type": "markdown",
   "id": "northern-african",
   "metadata": {},
   "source": [
    "And of course we can also do sum(roulette_list)."
   ]
  },
  {
   "cell_type": "code",
   "execution_count": 69,
   "id": "soviet-toner",
   "metadata": {},
   "outputs": [
    {
     "data": {
      "text/plain": [
       "-314"
      ]
     },
     "execution_count": 69,
     "metadata": {},
     "output_type": "execute_result"
    }
   ],
   "source": [
    "sum(roulette_list)"
   ]
  },
  {
   "cell_type": "markdown",
   "id": "occupied-discretion",
   "metadata": {},
   "source": [
    "In order to get our total winnings per day for the week, we can simply add both vectors with the Python sum function"
   ]
  },
  {
   "cell_type": "code",
   "execution_count": 71,
   "id": "plastic-anime",
   "metadata": {},
   "outputs": [],
   "source": [
    "total_week = sum(poker_list + roulette_list)"
   ]
  },
  {
   "cell_type": "markdown",
   "id": "inappropriate-parker",
   "metadata": {},
   "source": [
    "Print out total_week."
   ]
  },
  {
   "cell_type": "code",
   "execution_count": 72,
   "id": "nasty-velvet",
   "metadata": {},
   "outputs": [
    {
     "data": {
      "text/plain": [
       "-84"
      ]
     },
     "execution_count": 72,
     "metadata": {},
     "output_type": "execute_result"
    }
   ],
   "source": [
    "total_week"
   ]
  },
  {
   "cell_type": "markdown",
   "id": "challenging-appearance",
   "metadata": {},
   "source": [
    "We have almost covered everything there is to know about lists. One more important concept is that lists are indexed. Using square brackets, we can select the first, second and third element directly with 0, 1, 2, etc. respectively. To select Monday’s poker winning simply use square brackets [] and type poker_monday = poker_list[0]."
   ]
  },
  {
   "cell_type": "code",
   "execution_count": 75,
   "id": "retired-spine",
   "metadata": {},
   "outputs": [],
   "source": [
    "poker_monday = poker_list[0]"
   ]
  },
  {
   "cell_type": "markdown",
   "id": "embedded-olive",
   "metadata": {},
   "source": [
    "Print out poker_monday."
   ]
  },
  {
   "cell_type": "code",
   "execution_count": 76,
   "id": "latin-lighter",
   "metadata": {},
   "outputs": [
    {
     "data": {
      "text/plain": [
       "140"
      ]
     },
     "execution_count": 76,
     "metadata": {},
     "output_type": "execute_result"
    }
   ],
   "source": [
    "poker_monday"
   ]
  },
  {
   "cell_type": "markdown",
   "id": "occupational-grenada",
   "metadata": {},
   "source": [
    "You can also select more than one element with the colon operator. In order to select your winnings from Tuesday to Friday, please run roulette_selection_list = roulette_list[1:5]."
   ]
  },
  {
   "cell_type": "code",
   "execution_count": 82,
   "id": "trying-methodology",
   "metadata": {},
   "outputs": [],
   "source": [
    "roulette_selection_list = roulette_list[1:5]"
   ]
  },
  {
   "cell_type": "markdown",
   "id": "alpha-anthony",
   "metadata": {},
   "source": [
    "To find out about our roulette winnings from Tuesday to Friday, we can use sum again. Try sum(roulette_list)."
   ]
  },
  {
   "cell_type": "code",
   "execution_count": 83,
   "id": "quiet-quality",
   "metadata": {},
   "outputs": [
    {
     "data": {
      "text/plain": [
       "-290"
      ]
     },
     "execution_count": 83,
     "metadata": {},
     "output_type": "execute_result"
    }
   ],
   "source": [
    "sum(roulette_selection_list)"
   ]
  },
  {
   "cell_type": "markdown",
   "id": "secondary-research",
   "metadata": {},
   "source": [
    "Let’s also set the Wednesday winnings of roulette_selection_vector to 1000 with roulette_selection_list[1] = 1000."
   ]
  },
  {
   "cell_type": "markdown",
   "id": "occasional-chancellor",
   "metadata": {},
   "source": [
    "Print out  roulette_selection_list."
   ]
  },
  {
   "cell_type": "code",
   "execution_count": 85,
   "id": "double-gauge",
   "metadata": {},
   "outputs": [
    {
     "data": {
      "text/plain": [
       "[-50, 100, -350, 10]"
      ]
     },
     "execution_count": 85,
     "metadata": {},
     "output_type": "execute_result"
    }
   ],
   "source": [
    " roulette_selection_list"
   ]
  },
  {
   "cell_type": "code",
   "execution_count": 101,
   "id": "comfortable-corrections",
   "metadata": {},
   "outputs": [
    {
     "data": {
      "text/plain": [
       "array([ 0.84147098,  0.89120736,  0.93203909,  0.96355819,  0.98544973,\n",
       "        0.99749499,  0.9995736 ,  0.99166481,  0.97384763,  0.94630009,\n",
       "        0.90929743,  0.86320937,  0.8084964 ,  0.74570521,  0.67546318,\n",
       "        0.59847214,  0.51550137,  0.42737988,  0.33498815,  0.23924933,\n",
       "        0.14112001,  0.04158066, -0.05837414, -0.15774569, -0.2555411 ,\n",
       "       -0.35078323, -0.44252044, -0.52983614, -0.61185789, -0.68776616,\n",
       "       -0.7568025 , -0.81827711, -0.87157577, -0.91616594, -0.95160207,\n",
       "       -0.97753012, -0.993691  , -0.99992326, -0.99616461, -0.98245261,\n",
       "       -0.95892427, -0.92581468, -0.88345466, -0.83226744, -0.77276449,\n",
       "       -0.70554033, -0.63126664, -0.55068554, -0.46460218, -0.37387666,\n",
       "       -0.2794155 , -0.1821625 , -0.0830894 ,  0.0168139 ,  0.1165492 ,\n",
       "        0.21511999,  0.31154136,  0.40484992,  0.49411335,  0.57843976,\n",
       "        0.6569866 ,  0.72896904,  0.79366786,  0.85043662,  0.8987081 ,\n",
       "        0.93799998,  0.96791967,  0.98816823,  0.99854335,  0.99894134,\n",
       "        0.98935825,  0.96988981,  0.94073056,  0.90217183,  0.85459891,\n",
       "        0.79848711,  0.7343971 ,  0.66296923,  0.58491719,  0.50102086,\n",
       "        0.41211849,  0.31909836,  0.22288991,  0.12445442,  0.02477543,\n",
       "       -0.07515112, -0.17432678, -0.27176063, -0.36647913, -0.45753589,\n",
       "       -0.54402111, -0.62507065, -0.69987469, -0.76768581, -0.82782647,\n",
       "       -0.87969576, -0.92277542, -0.95663502, -0.98093623, -0.99543625,\n",
       "       -0.99999021, -0.99455259, -0.97917773, -0.95401925, -0.91932853,\n",
       "       -0.87545217, -0.82282859, -0.76198358, -0.69352508, -0.61813711,\n",
       "       -0.53657292, -0.44964746, -0.35822928, -0.26323179, -0.16560418,\n",
       "       -0.0663219 ,  0.03362305,  0.13323204,  0.23150983,  0.32747444,\n",
       "        0.42016704,  0.50866146,  0.59207351,  0.66956976,  0.74037589,\n",
       "        0.80378443,  0.85916181,  0.90595474,  0.94369567,  0.9720075 ,\n",
       "        0.99060736,  0.99930939,  0.99802665,  0.98677196,  0.96565778,\n",
       "        0.93489506,  0.89479117,  0.84574683,  0.78825207,  0.72288135,\n",
       "        0.65028784,  0.57119687,  0.48639869,  0.39674057,  0.30311836,\n",
       "        0.20646748,  0.10775365,  0.00796318, -0.09190685, -0.19085858,\n",
       "       -0.28790332, -0.38207142, -0.47242199, -0.55805227, -0.63810668,\n",
       "       -0.71178534, -0.77835208, -0.83714178, -0.88756703, -0.92912401,\n",
       "       -0.96139749, -0.98406501, -0.99690007, -0.99977443, -0.99265938,\n",
       "       -0.97562601, -0.9488445 , -0.91258245, -0.86720218, -0.81315711,\n",
       "       -0.75098725, -0.68131377, -0.60483282, -0.52230859, -0.43456562,\n",
       "       -0.34248062, -0.24697366, -0.14899903, -0.04953564,  0.05042269,\n",
       "        0.14987721,  0.24783421,  0.34331493,  0.43536536,  0.52306577,\n",
       "        0.60553987,  0.68196362,  0.75157342,  0.81367374,  0.8676441 ])"
      ]
     },
     "execution_count": 101,
     "metadata": {},
     "output_type": "execute_result"
    }
   ],
   "source": [
    "import numpy as np\n",
    "\n",
    "sin = np.arange(1,20,0.1)\n",
    "sin = np.sin(sin)\n",
    "sin"
   ]
  },
  {
   "cell_type": "code",
   "execution_count": 102,
   "id": "textile-pickup",
   "metadata": {},
   "outputs": [
    {
     "data": {
      "text/plain": [
       "[<matplotlib.lines.Line2D at 0x119a267f0>]"
      ]
     },
     "execution_count": 102,
     "metadata": {},
     "output_type": "execute_result"
    },
    {
     "data": {
      "image/png": "[encoded data removed]",
      "text/plain": [
       "<Figure size 432x288 with 1 Axes>"
      ]
     },
     "metadata": {
      "filenames": {
       "image/png": "/Users/Zarah/Documents/dimpah/_build/jupyter_execute/FocusGroup/Introduction/Introduction_1.1_70_1.png"
      },
      "needs_background": "light"
     },
     "output_type": "display_data"
    }
   ],
   "source": [
    "import matplotlib.pyplot as plt\n",
    "plt.plot(sin)"
   ]
  }
 ],
 "metadata": {
  "kernelspec": {
   "display_name": "Python 3",
   "language": "python",
   "name": "python3"
  },
  "language_info": {
   "codemirror_mode": {
    "name": "ipython",
    "version": 3
   },
   "file_extension": ".py",
   "mimetype": "text/x-python",
   "name": "python",
   "nbconvert_exporter": "python",
   "pygments_lexer": "ipython3",
   "version": "3.9.2"
  }
 },
 "nbformat": 4,
 "nbformat_minor": 5
}