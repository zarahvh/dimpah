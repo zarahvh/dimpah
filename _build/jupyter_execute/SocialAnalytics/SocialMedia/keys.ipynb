{
 "cells": [
  {
   "cell_type": "code",
   "execution_count": 1,
   "id": "satisfied-throw",
   "metadata": {},
   "outputs": [],
   "source": [
    "gov_key = '9Vif2carl7eRwLscUNlio7MF7vKXPR9R9MwA3Bu9'\n",
    "twit_key = 'zRK3Ag6JEBaVT4MxSOUpgaqIe'\n",
    "twit_secr = '2h7R5e2jktfXc5u0HNJPJp5d7VTEVR8FImB89VCEeL1wpZLfZA'\n",
    "twit_token = 'AAAAAAAAAAAAAAAAAAAAAP%2ByNgEAAAAALDNVyxMhq3kQ9aR7GWHx6t5tbVE%3DKGuE1bVwJdyecLmlwrRmH0ibomzKB9WSCyKEmJqa2K4P9upPxJ'"
   ]
  },
  {
   "cell_type": "code",
   "execution_count": 2,
   "id": "acquired-python",
   "metadata": {},
   "outputs": [],
   "source": [
    "# import requests\n",
    "# import json\n",
    "# import prettytable\n",
    "# headers = {'Content-type': 'application/json'}\n",
    "# data = json.dumps({\"seriesid\": ['CUUR0000SA0','SUUR0000SA0'],\"startyear\":\"2011\", \"endyear\":\"2014\"})\n",
    "# p = requests.post('https://api.bls.gov/publicAPI/v2/timeseries/data/', data=data, headers=headers)\n",
    "# json_data = json.loads(p.text)\n",
    "# for series in json_data['Results']['series']:\n",
    "#     x=prettytable.PrettyTable([\"series id\",\"year\",\"period\",\"value\",\"footnotes\"])\n",
    "#     seriesId = series['seriesID']\n",
    "#     for item in series['data']:\n",
    "#         year = item['year']\n",
    "#         period = item['period']\n",
    "#         value = item['value']\n",
    "#         footnotes=\"\"\n",
    "#         for footnote in item['footnotes']:\n",
    "#             if footnote:\n",
    "#                 footnotes = footnotes + footnote['text'] + ','\n",
    "#         if 'M01' <= period <= 'M12':\n",
    "#             x.add_row([seriesId,year,period,value,footnotes[0:-1]])\n",
    "#     output = open(seriesId + '.txt','w')\n",
    "#     output.write (x.get_string())\n",
    "#     output.close()"
   ]
  },
  {
   "cell_type": "code",
   "execution_count": 3,
   "id": "professional-shelf",
   "metadata": {},
   "outputs": [],
   "source": [
    "# data"
   ]
  },
  {
   "cell_type": "code",
   "execution_count": 30,
   "id": "exceptional-movie",
   "metadata": {},
   "outputs": [
    {
     "name": "stdout",
     "output_type": "stream",
     "text": [
      "Latitute: 37.422\n",
      "Longitude: -122.084\n"
     ]
    },
    {
     "name": "stderr",
     "output_type": "stream",
     "text": [
      "/Users/tblanke/anaconda3/lib/python3.6/site-packages/urllib3/connectionpool.py:858: InsecureRequestWarning: Unverified HTTPS request is being made. Adding certificate verification is strongly advised. See: https://urllib3.readthedocs.io/en/latest/advanced-usage.html#ssl-warnings\n",
      "  InsecureRequestWarning)\n"
     ]
    }
   ],
   "source": []
  },
  {
   "cell_type": "code",
   "execution_count": 4,
   "id": "strong-hypothetical",
   "metadata": {},
   "outputs": [],
   "source": [
    "# gov_key = 'cftiQ83bThdwbRQ2N8SejK1QGWqz8WJRza6n0fcz'#'DEMO_KEY'\n",
    "\n",
    "# address_x = '1600 Amphitheatre Parkway, Mountain View, CA'\n",
    "# api_key = gov_key\n",
    "# url = 'https://developer.nrel.gov/api/utility_rates/v3.json'\n",
    "\n",
    "# headers = {\n",
    "#     'user-agent': 'Mozilla/5.0 (X11; Linux x86_64) AppleWebKit/537.36 (KHTML, like Gecko) Chrome/86.0.4240.111 Safari/537.36'\n",
    "# }\n"
   ]
  },
  {
   "cell_type": "code",
   "execution_count": 5,
   "id": "alone-automation",
   "metadata": {},
   "outputs": [],
   "source": [
    "# import requests\n",
    "\n",
    "# headers = {\n",
    "#     'user-agent': 'Mozilla/5.0 (X11; Linux x86_64) AppleWebKit/537.36 (KHTML, like Gecko) Chrome/86.0.4240.111 Safari/537.36'}\n",
    "\n",
    "# url_1 = 'http://www.dsit.org.ir/?cmd=page&Cid=92&title=Kontakt&lang=fa'\n",
    "\n",
    "# print(requests.get(url=url_1, headers=headers).text)"
   ]
  },
  {
   "cell_type": "code",
   "execution_count": 6,
   "id": "mysterious-brook",
   "metadata": {},
   "outputs": [],
   "source": [
    "# S = requests.Session()\n",
    "\n",
    "# #URL = \"https://en.wikipedia.org/w/api.php\"\n",
    "\n",
    "# PARAMS = {\n",
    "#     \"api_key\": api_key,\n",
    "#     \"address\": address_x\n",
    "# }\n",
    "\n",
    "# try:\n",
    "#     R = S.get(url=url, params=PARAMS, verify = False)\n",
    "# except requests.exceptions.ConnectionError as e:\n",
    "#     R = \"No response\""
   ]
  },
  {
   "cell_type": "code",
   "execution_count": 7,
   "id": "acceptable-webcam",
   "metadata": {},
   "outputs": [],
   "source": [
    "# R"
   ]
  },
  {
   "cell_type": "code",
   "execution_count": 8,
   "id": "crazy-taste",
   "metadata": {},
   "outputs": [],
   "source": [
    "# R.text"
   ]
  },
  {
   "cell_type": "code",
   "execution_count": 9,
   "id": "toxic-arctic",
   "metadata": {},
   "outputs": [],
   "source": [
    "# PARAMS = {\n",
    "#     \"api_key\": api_key,\n",
    "#     \"address\": address_\n",
    "# }\n",
    "\n",
    "# R = S.get(url=URL, params=PARAMS, verify=False)\n",
    "# DATA = R.json()\n",
    "# PAGES = DATA['query']['pages']"
   ]
  },
  {
   "cell_type": "code",
   "execution_count": null,
   "id": "instructional-equivalent",
   "metadata": {},
   "outputs": [],
   "source": []
  }
 ],
 "metadata": {
  "kernelspec": {
   "display_name": "Python 3",
   "language": "python",
   "name": "python3"
  },
  "language_info": {
   "codemirror_mode": {
    "name": "ipython",
    "version": 3
   },
   "file_extension": ".py",
   "mimetype": "text/x-python",
   "name": "python",
   "nbconvert_exporter": "python",
   "pygments_lexer": "ipython3",
   "version": "3.9.2"
  }
 },
 "nbformat": 4,
 "nbformat_minor": 5
}