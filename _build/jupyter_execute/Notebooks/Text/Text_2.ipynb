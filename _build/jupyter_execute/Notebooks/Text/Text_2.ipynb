{
 "cells": [
  {
   "cell_type": "markdown",
   "metadata": {},
   "source": [
    "# Analysing Historical Cultures 2"
   ]
  },
  {
   "cell_type": "markdown",
   "metadata": {},
   "source": [
    "\n",
    "Have you heard about the Google Ngram Viewer, which plots frequencies of words using a yearly count in sources printed between 1500 and 2008 in Google’s book corpora? It has created quite an excitement in the digital methods world. Check out http://firstmonday.org/ojs/index.php/fm/article/view/5567/5535. There are many examples and some strong believers. You can try Google’s Ngram Viewer under https://books.google.com/ngrams.\n",
    "\n",
    "We can use it to compare, for example the difference in frequencies over the years between the words hacker and programmer between 1950 and 2000. Let's see, we start with hacker."
   ]
  },
  {
   "cell_type": "code",
   "execution_count": 1,
   "metadata": {},
   "outputs": [],
   "source": [
    "import requests\n",
    "import json\n",
    "import pandas as pd\n",
    "import numpy as np\n",
    "\n",
    "hacker = requests.get(url = 'https://books.google.com/ngrams/json?content=hacker&year_start=1950&year_end=2000&corpus=26&smoothing=3')\n",
    "json_data = json.loads(hacker.text)\n",
    "data = json_data[0]\n"
   ]
  },
  {
   "cell_type": "markdown",
   "metadata": {},
   "source": [
    "Let's first create a dataframe that collects the frequencies for each year."
   ]
  },
  {
   "cell_type": "code",
   "execution_count": 2,
   "metadata": {},
   "outputs": [],
   "source": [
    "df = pd.DataFrame.from_dict(data['timeseries'])\n",
    "df = df.rename(columns={0: 'hacker'})"
   ]
  },
  {
   "cell_type": "code",
   "execution_count": 3,
   "metadata": {
    "scrolled": true
   },
   "outputs": [],
   "source": [
    "years = np.arange(1950,2001,1)\n",
    "df['year'] = years"
   ]
  },
  {
   "cell_type": "markdown",
   "metadata": {},
   "source": [
    "And plot it."
   ]
  },
  {
   "cell_type": "code",
   "execution_count": 4,
   "metadata": {},
   "outputs": [
    {
     "data": {
      "text/plain": [
       "<AxesSubplot:xlabel='year'>"
      ]
     },
     "execution_count": 4,
     "metadata": {},
     "output_type": "execute_result"
    },
    {
     "data": {
      "image/png": "[encoded data removed]",
      "text/plain": [
       "<Figure size 432x288 with 1 Axes>"
      ]
     },
     "metadata": {
      "filenames": {
       "image/png": "/Users/Zarah/Documents/dimpah/_build/jupyter_execute/Notebooks/Text/Text_2_7_1.png"
      },
      "needs_background": "light"
     },
     "output_type": "display_data"
    }
   ],
   "source": [
    "df.plot(x='year', y ='hacker')"
   ]
  },
  {
   "cell_type": "markdown",
   "metadata": {},
   "source": [
    "Not let's add the frequencies of programmer to this dataframe too."
   ]
  },
  {
   "cell_type": "code",
   "execution_count": 5,
   "metadata": {},
   "outputs": [],
   "source": [
    "progr = requests.get(url = 'https://books.google.com/ngrams/json?content=programmer&year_start=1950&year_end=2000&corpus=26&smoothing=3')\n",
    "json_data = json.loads(progr.text)\n",
    "data = json_data[0]\n",
    "df['programmer'] = pd.DataFrame.from_dict(data['timeseries'])\n"
   ]
  },
  {
   "cell_type": "markdown",
   "metadata": {},
   "source": [
    "And plot them together"
   ]
  },
  {
   "cell_type": "code",
   "execution_count": 6,
   "metadata": {},
   "outputs": [
    {
     "data": {
      "text/plain": [
       "<AxesSubplot:xlabel='year'>"
      ]
     },
     "execution_count": 6,
     "metadata": {},
     "output_type": "execute_result"
    },
    {
     "data": {
      "image/png": "[encoded data removed]",
      "text/plain": [
       "<Figure size 432x288 with 1 Axes>"
      ]
     },
     "metadata": {
      "filenames": {
       "image/png": "/Users/Zarah/Documents/dimpah/_build/jupyter_execute/Notebooks/Text/Text_2_11_1.png"
      },
      "needs_background": "light"
     },
     "output_type": "display_data"
    }
   ],
   "source": [
    "df.plot(x='year')"
   ]
  },
  {
   "cell_type": "markdown",
   "metadata": {},
   "source": [
    "Let us compare the popularity of monarchies and democracies too from 1500 to 2000"
   ]
  },
  {
   "cell_type": "code",
   "execution_count": 7,
   "metadata": {},
   "outputs": [],
   "source": [
    "demo = requests.get(url = 'https://books.google.com/ngrams/json?content=democracy&year_start=1500&year_end=2000&corpus=26&smoothing=3')\n",
    "json_data = json.loads(demo.text)\n",
    "data = json_data[0]\n",
    "df2 = pd.DataFrame.from_dict(data['timeseries'])\n",
    "df2 = df2.rename(columns={0: 'democracy'})"
   ]
  },
  {
   "cell_type": "code",
   "execution_count": 8,
   "metadata": {},
   "outputs": [],
   "source": [
    "mona = requests.get(url = 'https://books.google.com/ngrams/json?content=monarchy&year_start=1500&year_end=2000&corpus=26&smoothing=3')\n",
    "json_data = json.loads(mona.text)\n",
    "data = json_data[0]\n",
    "df2['monarchy'] = pd.DataFrame.from_dict(data['timeseries'])"
   ]
  },
  {
   "cell_type": "code",
   "execution_count": 9,
   "metadata": {},
   "outputs": [
    {
     "data": {
      "text/html": [
       "<div>\n",
       "<style scoped>\n",
       "    .dataframe tbody tr th:only-of-type {\n",
       "        vertical-align: middle;\n",
       "    }\n",
       "\n",
       "    .dataframe tbody tr th {\n",
       "        vertical-align: top;\n",
       "    }\n",
       "\n",
       "    .dataframe thead th {\n",
       "        text-align: right;\n",
       "    }\n",
       "</style>\n",
       "<table border=\"1\" class=\"dataframe\">\n",
       "  <thead>\n",
       "    <tr style=\"text-align: right;\">\n",
       "      <th></th>\n",
       "      <th>democracy</th>\n",
       "      <th>monarchy</th>\n",
       "      <th>year</th>\n",
       "    </tr>\n",
       "  </thead>\n",
       "  <tbody>\n",
       "    <tr>\n",
       "      <th>0</th>\n",
       "      <td>2.339067e-07</td>\n",
       "      <td>0.000000</td>\n",
       "      <td>1500</td>\n",
       "    </tr>\n",
       "    <tr>\n",
       "      <th>1</th>\n",
       "      <td>1.871254e-07</td>\n",
       "      <td>0.000000</td>\n",
       "      <td>1501</td>\n",
       "    </tr>\n",
       "    <tr>\n",
       "      <th>2</th>\n",
       "      <td>1.559378e-07</td>\n",
       "      <td>0.000000</td>\n",
       "      <td>1502</td>\n",
       "    </tr>\n",
       "    <tr>\n",
       "      <th>3</th>\n",
       "      <td>1.336610e-07</td>\n",
       "      <td>0.000000</td>\n",
       "      <td>1503</td>\n",
       "    </tr>\n",
       "    <tr>\n",
       "      <th>4</th>\n",
       "      <td>0.000000e+00</td>\n",
       "      <td>0.000000</td>\n",
       "      <td>1504</td>\n",
       "    </tr>\n",
       "    <tr>\n",
       "      <th>...</th>\n",
       "      <td>...</td>\n",
       "      <td>...</td>\n",
       "      <td>...</td>\n",
       "    </tr>\n",
       "    <tr>\n",
       "      <th>496</th>\n",
       "      <td>2.868582e-05</td>\n",
       "      <td>0.000004</td>\n",
       "      <td>1996</td>\n",
       "    </tr>\n",
       "    <tr>\n",
       "      <th>497</th>\n",
       "      <td>2.912133e-05</td>\n",
       "      <td>0.000004</td>\n",
       "      <td>1997</td>\n",
       "    </tr>\n",
       "    <tr>\n",
       "      <th>498</th>\n",
       "      <td>2.933466e-05</td>\n",
       "      <td>0.000004</td>\n",
       "      <td>1998</td>\n",
       "    </tr>\n",
       "    <tr>\n",
       "      <th>499</th>\n",
       "      <td>2.950909e-05</td>\n",
       "      <td>0.000004</td>\n",
       "      <td>1999</td>\n",
       "    </tr>\n",
       "    <tr>\n",
       "      <th>500</th>\n",
       "      <td>2.967938e-05</td>\n",
       "      <td>0.000004</td>\n",
       "      <td>2000</td>\n",
       "    </tr>\n",
       "  </tbody>\n",
       "</table>\n",
       "<p>501 rows × 3 columns</p>\n",
       "</div>"
      ],
      "text/plain": [
       "        democracy  monarchy  year\n",
       "0    2.339067e-07  0.000000  1500\n",
       "1    1.871254e-07  0.000000  1501\n",
       "2    1.559378e-07  0.000000  1502\n",
       "3    1.336610e-07  0.000000  1503\n",
       "4    0.000000e+00  0.000000  1504\n",
       "..            ...       ...   ...\n",
       "496  2.868582e-05  0.000004  1996\n",
       "497  2.912133e-05  0.000004  1997\n",
       "498  2.933466e-05  0.000004  1998\n",
       "499  2.950909e-05  0.000004  1999\n",
       "500  2.967938e-05  0.000004  2000\n",
       "\n",
       "[501 rows x 3 columns]"
      ]
     },
     "execution_count": 9,
     "metadata": {},
     "output_type": "execute_result"
    }
   ],
   "source": [
    "years = np.arange(1500,2001,1)\n",
    "df2['year'] = years\n",
    "df2"
   ]
  },
  {
   "cell_type": "code",
   "execution_count": 10,
   "metadata": {},
   "outputs": [
    {
     "data": {
      "text/plain": [
       "<AxesSubplot:xlabel='year'>"
      ]
     },
     "execution_count": 10,
     "metadata": {},
     "output_type": "execute_result"
    },
    {
     "data": {
      "image/png": "[encoded data removed]",
      "text/plain": [
       "<Figure size 432x288 with 1 Axes>"
      ]
     },
     "metadata": {
      "filenames": {
       "image/png": "/Users/Zarah/Documents/dimpah/_build/jupyter_execute/Notebooks/Text/Text_2_16_1.png"
      },
      "needs_background": "light"
     },
     "output_type": "display_data"
    }
   ],
   "source": [
    "df2.plot(x='year')"
   ]
  },
  {
   "cell_type": "markdown",
   "metadata": {},
   "source": [
    "There is a lot going on here but democracy seems to be winning. Let’s move on to another example. If you have done a little bit of research on the Holocaust, you might know that there are on-going debates on whether to call it Shoah or Holocaust (https://en.wikipedia.org/wiki/Names_of_the_Holocaust). Rewrite the last expression so with shoah instead of democracy and holocaust instead of monarchy."
   ]
  },
  {
   "cell_type": "code",
   "execution_count": 11,
   "metadata": {},
   "outputs": [],
   "source": [
    "shoah = requests.get(url = 'https://books.google.com/ngrams/json?content=shoah&year_start=1500&year_end=2000&corpus=26&smoothing=3')\n",
    "json_data = json.loads(shoah.text)\n",
    "data = json_data[0]\n",
    "df3 = pd.DataFrame.from_dict(data['timeseries'])\n",
    "df3 = df3.rename(columns={0: 'shoah'})\n",
    "\n",
    "holo = requests.get(url = 'https://books.google.com/ngrams/json?content=holocaust&year_start=1500&year_end=2000&corpus=26&smoothing=3')\n",
    "json_data = json.loads(holo.text)\n",
    "data = json_data[0]\n",
    "df3['holocaust'] = pd.DataFrame.from_dict(data['timeseries'])\n",
    "\n",
    "years = np.arange(1500,2001,1)\n",
    "df3['year'] = years"
   ]
  },
  {
   "cell_type": "code",
   "execution_count": 12,
   "metadata": {},
   "outputs": [
    {
     "data": {
      "text/plain": [
       "<AxesSubplot:xlabel='year'>"
      ]
     },
     "execution_count": 12,
     "metadata": {},
     "output_type": "execute_result"
    },
    {
     "data": {
      "image/png": "[encoded data removed]",
      "text/plain": [
       "<Figure size 432x288 with 1 Axes>"
      ]
     },
     "metadata": {
      "filenames": {
       "image/png": "/Users/Zarah/Documents/dimpah/_build/jupyter_execute/Notebooks/Text/Text_2_19_1.png"
      },
      "needs_background": "light"
     },
     "output_type": "display_data"
    }
   ],
   "source": [
    "df3.plot(x='year')"
   ]
  },
  {
   "cell_type": "markdown",
   "metadata": {},
   "source": [
    "So, despite the efforts to popularise the Hebrew word Shoah, Holocaust is still far more commonly used. Frequency has proven to be a good indicator of the development and importance of ideas. But it is not the only text analysis tool that we can use to derive ideas from documents. \n",
    "\n",
    "Another commonly used text mining tool is information extraction (https://en.wikipedia.org/wiki/Information_extraction). With information extraction we can retrieve ideas and concepts directly from texts.\n",
    "\n",
    "We would like to concentrate on the online information extraction service https://spacy.io. It can be easily implemented in oython as can be seen on the homepage by downloading and importing spacy. We are going to use it on an english text, namely one of the speeches that we have seen in the previous assignment, for this we will need an englisht tokenizer, in your terminal run: python -m spacy download en_core_web_sm\n"
   ]
  },
  {
   "cell_type": "code",
   "execution_count": 13,
   "metadata": {},
   "outputs": [],
   "source": [
    "import spacy"
   ]
  },
  {
   "cell_type": "code",
   "execution_count": 14,
   "metadata": {},
   "outputs": [],
   "source": [
    "nlp = spacy.load(\"en_core_web_sm\")"
   ]
  },
  {
   "cell_type": "code",
   "execution_count": 15,
   "metadata": {},
   "outputs": [],
   "source": [
    "text = open('data/20070123.txt', 'r')\n",
    "text = text.read()\n",
    "doc = nlp(text)"
   ]
  },
  {
   "cell_type": "markdown",
   "metadata": {},
   "source": [
    "With the function below you should see the kind of entities that are contained in your submission document. Try it."
   ]
  },
  {
   "cell_type": "code",
   "execution_count": 16,
   "metadata": {},
   "outputs": [
    {
     "name": "stdout",
     "output_type": "stream",
     "text": [
      "George W. Bush PERSON\n",
      "January 23, 2007\n",
      " DATE\n",
      "Tonight TIME\n",
      "first ORDINAL\n",
      "the State of the Union GPE\n",
      "his day DATE\n",
      "Thomas D'Alesandro PERSON\n",
      "Baltimore GPE\n",
      "Maryland GPE\n",
      "Presidents Roosevelt PERSON\n",
      "Truman PERSON\n",
      "Nancy PERSON\n",
      "tonight TIME\n",
      "the House of Representatives ORG\n",
      "Two CARDINAL\n",
      "House ORG\n",
      "Senate ORG\n",
      "tonight TIME\n",
      "Tim Johnson PERSON\n",
      "Charlie Norwood PERSON\n",
      "Cheney PERSON\n",
      "Congress ORG\n",
      "a defining hour TIME\n",
      "the year 2007 DATE\n",
      "Chamber ORG\n",
      "House ORG\n",
      "Senate ORG\n",
      "Democratic NORP\n",
      "Congress ORG\n",
      "Nation ORG\n",
      "America GPE\n",
      "first ORDINAL\n",
      "American NORP\n",
      "Americans NORP\n",
      "tonight TIME\n",
      "the 41st month DATE\n",
      "7.2 million CARDINAL\n",
      "Next week DATE\n",
      "Tonight TIME\n",
      "three CARDINAL\n",
      "Congress ORG\n",
      "First ORDINAL\n",
      "Washington GPE\n",
      "half CARDINAL\n",
      "2009 DATE\n",
      "3 years ahead DATE\n",
      "the coming weeks DATE\n",
      "the next 5 years DATE\n",
      "the Federal Government ORG\n",
      "the last hour TIME\n",
      "C-SPAN ORG\n",
      "2005 DATE\n",
      "over 13,000 CARDINAL\n",
      "nearly $18 billion MONEY\n",
      "over 90 percent PERCENT\n",
      "House ORG\n",
      "Senate ORG\n",
      "Congress ORG\n",
      "half CARDINAL\n",
      "Social Security ORG\n",
      "Medicare ORG\n",
      "Medicaid ORG\n",
      "one day DATE\n",
      "three CARDINAL\n",
      "Chamber ORG\n",
      "Medicare ORG\n",
      "Medicaid ORG\n",
      "Social Security ORG\n",
      "America GPE\n",
      "Five years ago DATE\n",
      "America GPE\n",
      "Congress ORG\n",
      "Americans NORP\n",
      "Americans NORP\n",
      "tonight TIME\n",
      "two CARDINAL\n",
      "Americans NORP\n",
      "First ORDINAL\n",
      "15,000 MONEY\n",
      "7,500 MONEY\n",
      "more than 100 million CARDINAL\n",
      "Americans NORP\n",
      "4,500 MONEY\n",
      "four CARDINAL\n",
      "60,000 MONEY\n",
      "millions CARDINAL\n",
      "Americans NORP\n",
      "the Tax Code LAW\n",
      "Americans NORP\n",
      "second ORDINAL\n",
      "States GPE\n",
      "Health and Human Services ORG\n",
      "Congress ORG\n",
      "Affordable Choices WORK_OF_ART\n",
      "Congress ORG\n",
      "America GPE\n",
      "the Border Patrol LOC\n",
      "Capitol FAC\n",
      "America GPE\n",
      "America GPE\n",
      "America GPE\n",
      "America GPE\n",
      "Washington GPE\n",
      "Tonight TIME\n",
      "Congress ORG\n",
      "the United States GPE\n",
      "20 percent PERCENT\n",
      "the next 10 years DATE\n",
      "three-quarters CARDINAL\n",
      "the Middle East LOC\n",
      "35 billion gallons QUANTITY\n",
      "2017 DATE\n",
      "nearly five CARDINAL\n",
      "up to 8\\1/2\\ billion MONEY\n",
      "2017 DATE\n",
      "America GPE\n",
      "Congress ORG\n",
      "the Strategic Petroleum Reserve ORG\n",
      "America GPE\n",
      "United States GPE\n",
      "Senate ORG\n",
      "Senate ORG\n",
      "Five years DATE\n",
      "September DATE\n",
      "one CARDINAL\n",
      "America GPE\n",
      "al Qaeda ORG\n",
      "Southeast Asian NORP\n",
      "the United States GPE\n",
      "al Qaeda ORG\n",
      "America GPE\n",
      "just last August DATE\n",
      "British NORP\n",
      "America GPE\n",
      "the Atlantic Ocean LOC\n",
      "9/11 CARDINAL\n",
      "America GPE\n",
      "September 11 DATE\n",
      "these past 5 years DATE\n",
      "Al Qaeda ORG\n",
      "Sunni NORP\n",
      "Americans NORP\n",
      "Zarqawi PERSON\n",
      "Osama bin Laden PERSON\n",
      "Earth LOC\n",
      "one CARDINAL\n",
      "Islamist NORP\n",
      "Shia NORP\n",
      "America GPE\n",
      "the Middle East LOC\n",
      "Iran GPE\n",
      "Hezbollah ORG\n",
      "second ORDINAL\n",
      "al Qaeda ORG\n",
      "American NORP\n",
      "Shia NORP\n",
      "Sunni NORP\n",
      "Americans NORP\n",
      "the Middle East LOC\n",
      "the sixth year DATE\n",
      "American NORP\n",
      "19 CARDINAL\n",
      "our day DATE\n",
      "America GPE\n",
      "the Middle East LOC\n",
      "the last 2 years DATE\n",
      "Middle East LOC\n",
      "2005 DATE\n",
      "Lebanon GPE\n",
      "the Cedar Revolution EVENT\n",
      "Syrian NORP\n",
      "2005 DATE\n",
      "Afghanistan GPE\n",
      "2005 DATE\n",
      "Iraqi NORP\n",
      "three CARDINAL\n",
      "Arab NORP\n",
      "nearly 12 million CARDINAL\n",
      "Iraqi NORP\n",
      "2006 DATE\n",
      "Lebanon GPE\n",
      "Pierre Gemayel PERSON\n",
      "the Cedar Revolution EVENT\n",
      "Hezbollah ORG\n",
      "Syria GPE\n",
      "Iran GPE\n",
      "Lebanon GPE\n",
      "Afghanistan GPE\n",
      "Taliban ORG\n",
      "al Qaeda ORG\n",
      "Afghan NORP\n",
      "NATO ORG\n",
      "Iraq GPE\n",
      "al Qaeda ORG\n",
      "Sunni NORP\n",
      "one CARDINAL\n",
      "Shia NORP\n",
      "the Golden Mosque of Samarra FAC\n",
      "Muslim NORP\n",
      "Iraqi Shia NORP\n",
      "Shia NORP\n",
      "Iran GPE\n",
      "this day DATE\n",
      "Iraq GPE\n",
      "this day DATE\n",
      "this hour TIME\n",
      "Iraq GPE\n",
      "Iraq GPE\n",
      "Iraq GPE\n",
      "Iraq GPE\n",
      "the Iraqi Government ORG\n",
      "Iraqis NORP\n",
      "more than 20,000 CARDINAL\n",
      "Iraq GPE\n",
      "Baghdad GPE\n",
      "Iraqi NORP\n",
      "Iraqi Army ORG\n",
      "Iraqis NORP\n",
      "Anbar GPE\n",
      "al Qaeda ORG\n",
      "an additional 4,000 CARDINAL\n",
      "United States GPE\n",
      "al Qaeda ORG\n",
      "Afghanistan GPE\n",
      "Iraq GPE\n",
      "Iraq GPE\n",
      "Iraq GPE\n",
      "Baghdad GPE\n",
      "Iraqi NORP\n",
      "Baghdad GPE\n",
      "Iraq GPE\n",
      "Iraq GPE\n",
      "Iraq GPE\n",
      "Iraq GPE\n",
      "Iraqis NORP\n",
      "Iraqi NORP\n",
      "Baghdad GPE\n",
      "Chamber ORG\n",
      "America GPE\n",
      "Iraq GPE\n",
      "American NORP\n",
      "Baghdad GPE\n",
      "the Iraqi Government ORG\n",
      "Shia NORP\n",
      "Iran GPE\n",
      "Sunni NORP\n",
      "al Qaeda ORG\n",
      "Iraq GPE\n",
      "America GPE\n",
      "September 11 DATE\n",
      "America GPE\n",
      "the Middle East LOC\n",
      "Iraq GPE\n",
      "American NORP\n",
      "tonight TIME\n",
      "Iraq GPE\n",
      "today DATE\n",
      "Congress ORG\n",
      "America GPE\n",
      "One CARDINAL\n",
      "first ORDINAL\n",
      "the American Armed Forces ORG\n",
      "Tonight TIME\n",
      "Congress ORG\n",
      "Army ORG\n",
      "Marine Corps ORG\n",
      "92,000 CARDINAL\n",
      "the next 5 years DATE\n",
      "second ORDINAL\n",
      "the Armed Forces ORG\n",
      "America GPE\n",
      "America GPE\n",
      "Americans NORP\n",
      "Iraq GPE\n",
      "the United Nations ORG\n",
      "Jordan GPE\n",
      "Saudi Arabia GPE\n",
      "Egypt GPE\n",
      "Iraq GPE\n",
      "The United Nations ORG\n",
      "Iran GPE\n",
      "Tehran GPE\n",
      "Quartet PERSON\n",
      "U.N. ORG\n",
      "the European Union ORG\n",
      "Russia GPE\n",
      "the Holy Land ORG\n",
      "Palestinian NORP\n",
      "Israel GPE\n",
      "Afghanistan GPE\n",
      "NATO ORG\n",
      "Taliban ORG\n",
      "al Qaeda ORG\n",
      "first ORDINAL\n",
      "North Atlantic LOC\n",
      "China GPE\n",
      "Japan GPE\n",
      "Russia GPE\n",
      "South Korea GPE\n",
      "Korean Peninsula LOC\n",
      "Cuba GPE\n",
      "Belarus GPE\n",
      "Darfur GPE\n",
      "American NORP\n",
      "America GPE\n",
      "Africa LOC\n",
      "50,000 CARDINAL\n",
      "more than 800,000 CARDINAL\n",
      "3 short years DATE\n",
      "$1.2 billion MONEY\n",
      "5 years DATE\n",
      "15 CARDINAL\n",
      "African NORP\n",
      "the Millennium Challenge Account ORG\n",
      "American NORP\n",
      "America GPE\n",
      "American NORP\n",
      "tonight TIME\n",
      "Dikembe Mutombo PERSON\n",
      "Africa LOC\n",
      "Georgetown University ORG\n",
      "Coach John Thompson PERSON\n",
      "Dikembe PERSON\n",
      "Dikembe PERSON\n",
      "NBA ORG\n",
      "the United States GPE\n",
      "Congo GPE\n",
      "the United States of America GPE\n",
      "Julie Aigner-Clark PERSON\n",
      "The Baby Einstein Company ORG\n",
      "just 5 years DATE\n",
      "more than $20 million MONEY\n",
      "November 2001 DATE\n",
      "Julie PERSON\n",
      "Baby Einstein PERSON\n",
      "Walt Disney Company ORG\n",
      "Baby Einstein PERSON\n",
      "$200 million MONEY\n",
      "Julie PERSON\n",
      "America GPE\n",
      "John Walsh PERSON\n",
      "the National Center for Missing ORG\n",
      "Exploited Children ORG\n",
      "Julie PERSON\n",
      "tonight TIME\n",
      "Julie Aigner-Clark PERSON\n",
      "Three weeks ago DATE\n",
      "Wesley Autry PERSON\n",
      "Harlem LOC\n",
      "two CARDINAL\n",
      "seconds TIME\n",
      "Wesley PERSON\n",
      "Wesley Autry PERSON\n",
      "Tommy Rieman PERSON\n",
      "Independence GPE\n",
      "Kentucky GPE\n",
      "the United States Army GPE\n",
      "December 2003 DATE\n",
      "Iraq GPE\n",
      "Humvee NORP\n",
      "Sergeant Rieman PERSON\n",
      "second ORDINAL\n",
      "Sergeant Rieman PERSON\n",
      "Silver Star ORG\n",
      "Americans NORP\n",
      "America GPE\n",
      "Union GPE\n",
      "tonight TIME\n",
      "Brad Borevitz PERSON\n"
     ]
    }
   ],
   "source": [
    "for entity in doc.ents:\n",
    "    print(entity.text, entity.label_)"
   ]
  },
  {
   "cell_type": "markdown",
   "metadata": {},
   "source": [
    "Extracting entities can be a useful in the automatic analysis of texts. We can use the entities to understand content better or even provide effective links between different texts. If we know that two documents are about the same place, for instance, it seems logical that there is a link between them based on the place. Because I have worked a lot with computational archives, where we want to link collections and documents, I have done a lot of work in information extraction – especially with heterogeneous historical material. I have also been involved with analysing testimonies and other oral histories. Here, a typical question is the kind of sentiment a memory expresses. Is it a positive or negative memory? If so to what degree? These are the kinds of questions that automated sentiment analysis can answer, which we cover next.\n",
    "\n",
    "Sentiment analysis aims to evaluate emotions and other highly subjective expressions in a text. Commonly this is applied to finding out whether tweets, movie reviews, etc. express a positive or negative sentiment. In fact, later in the module, when we discuss prediction models, we will look into an example based on movie reviews. Generally speaking, sentiment analysis is done using a so-called supervised approach, where a human annotates a collection with the sentiments of a document and the computer tries to learn about the decisions on sentiments of that human.\n",
    "\n",
    "<!-- We will use an unsupervised approach, where the computer learns by itself. We have already seen an example of unsupervised learning when we clustered US Congress voting behaviour. Some people argue that sentiment analysis should never be done as unsupervised learning. Gary King, for instance, consistently warns us that this is one of the worst possible mistakes. Check out his website http://gking.harvard.edu/. He should be interesting for us. -->\n",
    "\n",
    "We use the dictionary-based sentiment analysis approach developed in https://www.r-bloggers.com/sentiment-analysis-on-donald-trump-using-r-and-tableau/.  It uses a lexicon of positive and negative words and then simply counts the number of times positive and negative words appear in a text. If there are more positive words than negative words, the text will get an overall positive sentiment, otherwise a negative one."
   ]
  },
  {
   "cell_type": "code",
   "execution_count": 17,
   "metadata": {},
   "outputs": [],
   "source": [
    "import nltk"
   ]
  },
  {
   "cell_type": "markdown",
   "metadata": {},
   "source": [
    "First we clean the speechtexts"
   ]
  },
  {
   "cell_type": "code",
   "execution_count": 18,
   "metadata": {},
   "outputs": [],
   "source": [
    "import pyreadr\n",
    "from nltk.tokenize import word_tokenize\n",
    "from nltk.corpus import stopwords\n",
    "stopwords_ = list(stopwords.words('english'))\n",
    "\n",
    "df = pd.read_csv('data/sotu_all.csv')\n",
    "\n",
    "def clean_text(df):\n",
    "    docs = []\n",
    "    for index in df.index:\n",
    "        speech = df.loc[index, 'speechtext']\n",
    "        text = ''.join(speech)\n",
    "        words = word_tokenize(text)\n",
    "        words = [word.replace(\" \", \"\") for word in words]\n",
    "        words = [word.lower() for word in words if word.isalpha()]\n",
    "        words = [word for word in words if word not in stopwords_]\n",
    "#         words back to string\n",
    "        wordstr = ' '.join(word for word in words)\n",
    "        df.loc[index, 'speechtext'] = wordstr\n",
    "        docs.append(words)\n",
    "    return docs, df\n",
    "\n",
    "docs, df = clean_text(df)\n"
   ]
  },
  {
   "cell_type": "markdown",
   "metadata": {},
   "source": [
    "And prepare the lexicon of positive and negative words"
   ]
  },
  {
   "cell_type": "code",
   "execution_count": 19,
   "metadata": {},
   "outputs": [
    {
     "name": "stdout",
     "output_type": "stream",
     "text": [
      "['2-faced', '2-faces', 'abnormal', 'abolish', 'abominable', 'abominably', 'abominate', 'abomination', 'abort', 'aborted']\n",
      "['a+', 'abound', 'abounds', 'abundance', 'abundant', 'accessable', 'accessible', 'acclaim', 'acclaimed', 'acclamation']\n"
     ]
    }
   ],
   "source": [
    "neg_words = open(\"data/negative-words.txt\", encoding = \"ISO-8859-1\")\n",
    "neg_words = neg_words.read().split('\\n')\n",
    "print(neg_words[:10])\n",
    "\n",
    "pos_words = open(\"data/positive-words.txt\", encoding = \"ISO-8859-1\")\n",
    "pos_words = pos_words.read().split('\\n')\n",
    "print(pos_words[:10])"
   ]
  },
  {
   "cell_type": "markdown",
   "metadata": {},
   "source": [
    "Now we check for each word in our text whether it is in either the list of positive or that of negative words, this might take a while."
   ]
  },
  {
   "cell_type": "code",
   "execution_count": 20,
   "metadata": {},
   "outputs": [],
   "source": [
    "# from nltk.sentiment import SentimentIntensityAnalyzer\n",
    "# sia = SentimentIntensityAnalyzer()\n",
    "\n",
    "for index, row in df.iterrows():\n",
    "    text = row['speechtext']\n",
    "    words = word_tokenize(text)\n",
    "    negs =0\n",
    "    pos =0\n",
    "    for word in words:\n",
    "        if word in neg_words:\n",
    "            negs+=1\n",
    "        if word in pos_words:  \n",
    "            pos+=1\n",
    "        df.loc[index, 'pos'] = pos\n",
    "        df.loc[index, 'neg'] = negs\n",
    "        \n"
   ]
  },
  {
   "cell_type": "markdown",
   "metadata": {},
   "source": [
    "Let's now add these numbers to our dataframe"
   ]
  },
  {
   "cell_type": "code",
   "execution_count": 82,
   "metadata": {},
   "outputs": [
    {
     "data": {
      "text/html": [
       "<div>\n",
       "<style scoped>\n",
       "    .dataframe tbody tr th:only-of-type {\n",
       "        vertical-align: middle;\n",
       "    }\n",
       "\n",
       "    .dataframe tbody tr th {\n",
       "        vertical-align: top;\n",
       "    }\n",
       "\n",
       "    .dataframe thead th {\n",
       "        text-align: right;\n",
       "    }\n",
       "</style>\n",
       "<table border=\"1\" class=\"dataframe\">\n",
       "  <thead>\n",
       "    <tr style=\"text-align: right;\">\n",
       "      <th></th>\n",
       "      <th>rownames</th>\n",
       "      <th>speechtext</th>\n",
       "      <th>year</th>\n",
       "      <th>date</th>\n",
       "      <th>pos</th>\n",
       "      <th>neg</th>\n",
       "    </tr>\n",
       "  </thead>\n",
       "  <tbody>\n",
       "    <tr>\n",
       "      <th>0</th>\n",
       "      <td>17900108.html</td>\n",
       "      <td>senate house representatives embrace great sat...</td>\n",
       "      <td>1790</td>\n",
       "      <td>17900108</td>\n",
       "      <td>86.0</td>\n",
       "      <td>15.0</td>\n",
       "    </tr>\n",
       "    <tr>\n",
       "      <th>1</th>\n",
       "      <td>17901208.html</td>\n",
       "      <td>senate house representatives meeting feel much...</td>\n",
       "      <td>1790</td>\n",
       "      <td>17901208</td>\n",
       "      <td>72.0</td>\n",
       "      <td>24.0</td>\n",
       "    </tr>\n",
       "    <tr>\n",
       "      <th>2</th>\n",
       "      <td>17911025.html</td>\n",
       "      <td>senate house representatives vain may expect p...</td>\n",
       "      <td>1791</td>\n",
       "      <td>17911025</td>\n",
       "      <td>119.0</td>\n",
       "      <td>52.0</td>\n",
       "    </tr>\n",
       "    <tr>\n",
       "      <th>3</th>\n",
       "      <td>17921106.html</td>\n",
       "      <td>senate house representatives abatement satisfa...</td>\n",
       "      <td>1792</td>\n",
       "      <td>17921106</td>\n",
       "      <td>83.0</td>\n",
       "      <td>57.0</td>\n",
       "    </tr>\n",
       "    <tr>\n",
       "      <th>4</th>\n",
       "      <td>17931203.html</td>\n",
       "      <td>senate house representatives since commencemen...</td>\n",
       "      <td>1793</td>\n",
       "      <td>17931203</td>\n",
       "      <td>84.0</td>\n",
       "      <td>58.0</td>\n",
       "    </tr>\n",
       "    <tr>\n",
       "      <th>...</th>\n",
       "      <td>...</td>\n",
       "      <td>...</td>\n",
       "      <td>...</td>\n",
       "      <td>...</td>\n",
       "      <td>...</td>\n",
       "      <td>...</td>\n",
       "    </tr>\n",
       "    <tr>\n",
       "      <th>226</th>\n",
       "      <td>20130212.html</td>\n",
       "      <td>speaker vice president members congress fellow...</td>\n",
       "      <td>2013</td>\n",
       "      <td>20130212</td>\n",
       "      <td>301.0</td>\n",
       "      <td>117.0</td>\n",
       "    </tr>\n",
       "    <tr>\n",
       "      <th>227</th>\n",
       "      <td>20140128.html</td>\n",
       "      <td>speaker vice president members congress fellow...</td>\n",
       "      <td>2014</td>\n",
       "      <td>20140128</td>\n",
       "      <td>294.0</td>\n",
       "      <td>133.0</td>\n",
       "    </tr>\n",
       "    <tr>\n",
       "      <th>228</th>\n",
       "      <td>20150120.html</td>\n",
       "      <td>speaker vice president members congress fellow...</td>\n",
       "      <td>2015</td>\n",
       "      <td>20150120</td>\n",
       "      <td>293.0</td>\n",
       "      <td>162.0</td>\n",
       "    </tr>\n",
       "    <tr>\n",
       "      <th>229</th>\n",
       "      <td>20160112.html</td>\n",
       "      <td>speaker vice president members congress fellow...</td>\n",
       "      <td>2016</td>\n",
       "      <td>20160112</td>\n",
       "      <td>250.0</td>\n",
       "      <td>136.0</td>\n",
       "    </tr>\n",
       "    <tr>\n",
       "      <th>230</th>\n",
       "      <td>20170228.html</td>\n",
       "      <td>thank much speaker vice president members cong...</td>\n",
       "      <td>2017</td>\n",
       "      <td>20170228</td>\n",
       "      <td>243.0</td>\n",
       "      <td>132.0</td>\n",
       "    </tr>\n",
       "  </tbody>\n",
       "</table>\n",
       "<p>231 rows × 6 columns</p>\n",
       "</div>"
      ],
      "text/plain": [
       "          rownames                                         speechtext  year  \\\n",
       "0    17900108.html  senate house representatives embrace great sat...  1790   \n",
       "1    17901208.html  senate house representatives meeting feel much...  1790   \n",
       "2    17911025.html  senate house representatives vain may expect p...  1791   \n",
       "3    17921106.html  senate house representatives abatement satisfa...  1792   \n",
       "4    17931203.html  senate house representatives since commencemen...  1793   \n",
       "..             ...                                                ...   ...   \n",
       "226  20130212.html  speaker vice president members congress fellow...  2013   \n",
       "227  20140128.html  speaker vice president members congress fellow...  2014   \n",
       "228  20150120.html  speaker vice president members congress fellow...  2015   \n",
       "229  20160112.html  speaker vice president members congress fellow...  2016   \n",
       "230  20170228.html  thank much speaker vice president members cong...  2017   \n",
       "\n",
       "         date    pos    neg  \n",
       "0    17900108   86.0   15.0  \n",
       "1    17901208   72.0   24.0  \n",
       "2    17911025  119.0   52.0  \n",
       "3    17921106   83.0   57.0  \n",
       "4    17931203   84.0   58.0  \n",
       "..        ...    ...    ...  \n",
       "226  20130212  301.0  117.0  \n",
       "227  20140128  294.0  133.0  \n",
       "228  20150120  293.0  162.0  \n",
       "229  20160112  250.0  136.0  \n",
       "230  20170228  243.0  132.0  \n",
       "\n",
       "[231 rows x 6 columns]"
      ]
     },
     "execution_count": 82,
     "metadata": {},
     "output_type": "execute_result"
    }
   ],
   "source": [
    "df\n"
   ]
  },
  {
   "cell_type": "code",
   "execution_count": 83,
   "metadata": {},
   "outputs": [],
   "source": [
    "for index, row in df.iterrows():\n",
    "#     df.loc[index, 'sent_score'] = row['pos'] - row['neg']\n",
    "    tot= row['pos'] + row['neg']\n",
    "    df.loc[index, 'pos_score'] = row['pos']/tot\n",
    "#     df.loc[index, 'neg_score'] = -row['neg']/tot\n",
    "\n"
   ]
  },
  {
   "cell_type": "markdown",
   "metadata": {},
   "source": [
    "We can now check whether there are more positive or negative words in each text by using the pos_score, which means it is positive if >0.5, meaning that more than 50 percent of the words are positive"
   ]
  },
  {
   "cell_type": "code",
   "execution_count": 84,
   "metadata": {},
   "outputs": [
    {
     "data": {
      "text/html": [
       "<div>\n",
       "<style scoped>\n",
       "    .dataframe tbody tr th:only-of-type {\n",
       "        vertical-align: middle;\n",
       "    }\n",
       "\n",
       "    .dataframe tbody tr th {\n",
       "        vertical-align: top;\n",
       "    }\n",
       "\n",
       "    .dataframe thead th {\n",
       "        text-align: right;\n",
       "    }\n",
       "</style>\n",
       "<table border=\"1\" class=\"dataframe\">\n",
       "  <thead>\n",
       "    <tr style=\"text-align: right;\">\n",
       "      <th></th>\n",
       "      <th>rownames</th>\n",
       "      <th>speechtext</th>\n",
       "      <th>year</th>\n",
       "      <th>date</th>\n",
       "      <th>pos</th>\n",
       "      <th>neg</th>\n",
       "      <th>pos_score</th>\n",
       "    </tr>\n",
       "  </thead>\n",
       "  <tbody>\n",
       "    <tr>\n",
       "      <th>0</th>\n",
       "      <td>17900108.html</td>\n",
       "      <td>senate house representatives embrace great sat...</td>\n",
       "      <td>1790</td>\n",
       "      <td>17900108</td>\n",
       "      <td>86.0</td>\n",
       "      <td>15.0</td>\n",
       "      <td>0.851485</td>\n",
       "    </tr>\n",
       "    <tr>\n",
       "      <th>1</th>\n",
       "      <td>17901208.html</td>\n",
       "      <td>senate house representatives meeting feel much...</td>\n",
       "      <td>1790</td>\n",
       "      <td>17901208</td>\n",
       "      <td>72.0</td>\n",
       "      <td>24.0</td>\n",
       "      <td>0.750000</td>\n",
       "    </tr>\n",
       "    <tr>\n",
       "      <th>2</th>\n",
       "      <td>17911025.html</td>\n",
       "      <td>senate house representatives vain may expect p...</td>\n",
       "      <td>1791</td>\n",
       "      <td>17911025</td>\n",
       "      <td>119.0</td>\n",
       "      <td>52.0</td>\n",
       "      <td>0.695906</td>\n",
       "    </tr>\n",
       "    <tr>\n",
       "      <th>3</th>\n",
       "      <td>17921106.html</td>\n",
       "      <td>senate house representatives abatement satisfa...</td>\n",
       "      <td>1792</td>\n",
       "      <td>17921106</td>\n",
       "      <td>83.0</td>\n",
       "      <td>57.0</td>\n",
       "      <td>0.592857</td>\n",
       "    </tr>\n",
       "    <tr>\n",
       "      <th>4</th>\n",
       "      <td>17931203.html</td>\n",
       "      <td>senate house representatives since commencemen...</td>\n",
       "      <td>1793</td>\n",
       "      <td>17931203</td>\n",
       "      <td>84.0</td>\n",
       "      <td>58.0</td>\n",
       "      <td>0.591549</td>\n",
       "    </tr>\n",
       "    <tr>\n",
       "      <th>...</th>\n",
       "      <td>...</td>\n",
       "      <td>...</td>\n",
       "      <td>...</td>\n",
       "      <td>...</td>\n",
       "      <td>...</td>\n",
       "      <td>...</td>\n",
       "      <td>...</td>\n",
       "    </tr>\n",
       "    <tr>\n",
       "      <th>226</th>\n",
       "      <td>20130212.html</td>\n",
       "      <td>speaker vice president members congress fellow...</td>\n",
       "      <td>2013</td>\n",
       "      <td>20130212</td>\n",
       "      <td>301.0</td>\n",
       "      <td>117.0</td>\n",
       "      <td>0.720096</td>\n",
       "    </tr>\n",
       "    <tr>\n",
       "      <th>227</th>\n",
       "      <td>20140128.html</td>\n",
       "      <td>speaker vice president members congress fellow...</td>\n",
       "      <td>2014</td>\n",
       "      <td>20140128</td>\n",
       "      <td>294.0</td>\n",
       "      <td>133.0</td>\n",
       "      <td>0.688525</td>\n",
       "    </tr>\n",
       "    <tr>\n",
       "      <th>228</th>\n",
       "      <td>20150120.html</td>\n",
       "      <td>speaker vice president members congress fellow...</td>\n",
       "      <td>2015</td>\n",
       "      <td>20150120</td>\n",
       "      <td>293.0</td>\n",
       "      <td>162.0</td>\n",
       "      <td>0.643956</td>\n",
       "    </tr>\n",
       "    <tr>\n",
       "      <th>229</th>\n",
       "      <td>20160112.html</td>\n",
       "      <td>speaker vice president members congress fellow...</td>\n",
       "      <td>2016</td>\n",
       "      <td>20160112</td>\n",
       "      <td>250.0</td>\n",
       "      <td>136.0</td>\n",
       "      <td>0.647668</td>\n",
       "    </tr>\n",
       "    <tr>\n",
       "      <th>230</th>\n",
       "      <td>20170228.html</td>\n",
       "      <td>thank much speaker vice president members cong...</td>\n",
       "      <td>2017</td>\n",
       "      <td>20170228</td>\n",
       "      <td>243.0</td>\n",
       "      <td>132.0</td>\n",
       "      <td>0.648000</td>\n",
       "    </tr>\n",
       "  </tbody>\n",
       "</table>\n",
       "<p>231 rows × 7 columns</p>\n",
       "</div>"
      ],
      "text/plain": [
       "          rownames                                         speechtext  year  \\\n",
       "0    17900108.html  senate house representatives embrace great sat...  1790   \n",
       "1    17901208.html  senate house representatives meeting feel much...  1790   \n",
       "2    17911025.html  senate house representatives vain may expect p...  1791   \n",
       "3    17921106.html  senate house representatives abatement satisfa...  1792   \n",
       "4    17931203.html  senate house representatives since commencemen...  1793   \n",
       "..             ...                                                ...   ...   \n",
       "226  20130212.html  speaker vice president members congress fellow...  2013   \n",
       "227  20140128.html  speaker vice president members congress fellow...  2014   \n",
       "228  20150120.html  speaker vice president members congress fellow...  2015   \n",
       "229  20160112.html  speaker vice president members congress fellow...  2016   \n",
       "230  20170228.html  thank much speaker vice president members cong...  2017   \n",
       "\n",
       "         date    pos    neg  pos_score  \n",
       "0    17900108   86.0   15.0   0.851485  \n",
       "1    17901208   72.0   24.0   0.750000  \n",
       "2    17911025  119.0   52.0   0.695906  \n",
       "3    17921106   83.0   57.0   0.592857  \n",
       "4    17931203   84.0   58.0   0.591549  \n",
       "..        ...    ...    ...        ...  \n",
       "226  20130212  301.0  117.0   0.720096  \n",
       "227  20140128  294.0  133.0   0.688525  \n",
       "228  20150120  293.0  162.0   0.643956  \n",
       "229  20160112  250.0  136.0   0.647668  \n",
       "230  20170228  243.0  132.0   0.648000  \n",
       "\n",
       "[231 rows x 7 columns]"
      ]
     },
     "execution_count": 84,
     "metadata": {},
     "output_type": "execute_result"
    }
   ],
   "source": [
    "df\n",
    "# Thus more positive??"
   ]
  },
  {
   "cell_type": "markdown",
   "metadata": {},
   "source": [
    "Let’s plot a histogram of the scores’ distribution with df.hist(column='pos_score'). The sentiments are fairly postive,\n",
    "(what does this mean?)\n",
    "\n",
    " Why do you think a list of dictionary words might be dependent on language usage? Does the list of positive and negative words therefore change over time? What does this mean for our historical comparison?"
   ]
  },
  {
   "cell_type": "code",
   "execution_count": 85,
   "metadata": {},
   "outputs": [
    {
     "data": {
      "text/plain": [
       "array([[<AxesSubplot:title={'center':'pos_score'}>]], dtype=object)"
      ]
     },
     "execution_count": 85,
     "metadata": {},
     "output_type": "execute_result"
    },
    {
     "data": {
      "image/png": "[encoded data removed]",
      "text/plain": [
       "<Figure size 432x288 with 1 Axes>"
      ]
     },
     "metadata": {
      "filenames": {
       "image/png": "/Users/Zarah/Documents/dimpah/_build/jupyter_execute/Notebooks/Text/Text_2_40_1.png"
      },
      "needs_background": "light"
     },
     "output_type": "display_data"
    }
   ],
   "source": [
    "df.hist(column='pos_score')"
   ]
  },
  {
   "cell_type": "markdown",
   "metadata": {},
   "source": [
    "Finally, let’s quickly plot the sentiments over time with df.plot(x='year',y='pos_score', kind='scatter')\n",
    "\n",
    "We again see that negative sentiments dominate the speeches."
   ]
  },
  {
   "cell_type": "code",
   "execution_count": 86,
   "metadata": {},
   "outputs": [
    {
     "data": {
      "text/plain": [
       "<AxesSubplot:xlabel='year', ylabel='pos_score'>"
      ]
     },
     "execution_count": 86,
     "metadata": {},
     "output_type": "execute_result"
    },
    {
     "data": {
      "image/png": "[encoded data removed]",
      "text/plain": [
       "<Figure size 432x288 with 1 Axes>"
      ]
     },
     "metadata": {
      "filenames": {
       "image/png": "/Users/Zarah/Documents/dimpah/_build/jupyter_execute/Notebooks/Text/Text_2_42_1.png"
      },
      "needs_background": "light"
     },
     "output_type": "display_data"
    }
   ],
   "source": [
    "df.plot(x='year',y='pos_score', kind='scatter')"
   ]
  }
 ],
 "metadata": {
  "kernelspec": {
   "display_name": "Python 3",
   "language": "python",
   "name": "python3"
  },
  "language_info": {
   "codemirror_mode": {
    "name": "ipython",
    "version": 3
   },
   "file_extension": ".py",
   "mimetype": "text/x-python",
   "name": "python",
   "nbconvert_exporter": "python",
   "pygments_lexer": "ipython3",
   "version": "3.9.2"
  }
 },
 "nbformat": 4,
 "nbformat_minor": 4
}