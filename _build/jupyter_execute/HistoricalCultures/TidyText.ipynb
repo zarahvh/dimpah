{
 "cells": [
  {
   "cell_type": "markdown",
   "id": "executed-pantyhose",
   "metadata": {},
   "source": [
    "# TidyText\n",
    "\n",
    "In 2016, David Robinson's published a great analysis of Donald Trump's (http://varianceexplained.org/r/trump-tweets/). It got a lot of publicity and his collaboration with Julia Slige resulted in a new book and approach called tidytext (http://tidytextmining.com/). \n",
    "\n",
    "https://github.com/juliasilge/tidytext has become another package for advanced text analysis that has quickly gained a lot of support.\n",
    "\n",
    "The tidytext package allows to use tidytext principles (https://www.jstatsoft.org/article/view/v059i10) with unstructured data/text.\n",
    "\n",
    "Let's take a character vector with one element made of 3 sentences."
   ]
  },
  {
   "cell_type": "code",
   "execution_count": 1,
   "id": "later-proceeding",
   "metadata": {},
   "outputs": [],
   "source": [
    "import pandas as pd\n",
    "\n",
    "text = \"\"\"Using tidy data principles is important.\n",
    "In this package, we provide functions for tidy formats.\n",
    "The novels of Jane Austen can be so tidy!\n",
    "\"\"\""
   ]
  },
  {
   "cell_type": "markdown",
   "id": "responsible-cabin",
   "metadata": {},
   "source": [
    "The dataset is not yet compatible with the tidy tools. The first step is to use unnest.\n",
    "\n",
    "### unnest_tokens function\n",
    "\n",
    "The unnest_token function splits a text column (input) into tokens (e.g. sentences, words, ngrams, etc.)."
   ]
  },
  {
   "cell_type": "code",
   "execution_count": 2,
   "id": "sophisticated-banks",
   "metadata": {},
   "outputs": [],
   "source": [
    "text_split = text.splitlines()\n",
    "\n",
    "df = pd.DataFrame({\n",
    "    \"text\": text_split,\n",
    "    \"line\": list(range(len(text_split)))\n",
    "})"
   ]
  },
  {
   "cell_type": "markdown",
   "id": "large-berkeley",
   "metadata": {},
   "source": [
    "Next for the tidy text format.\n",
    "\n",
    "### The tidy text format\n",
    "\n",
    "Tidy text format is define as 'a table with one-term-per-row'. \n",
    "\n",
    "To tokenize into words (unigrams)."
   ]
  },
  {
   "cell_type": "code",
   "execution_count": 3,
   "id": "preliminary-replacement",
   "metadata": {},
   "outputs": [
    {
     "data": {
      "text/html": [
       "<div>\n",
       "<style scoped>\n",
       "    .dataframe tbody tr th:only-of-type {\n",
       "        vertical-align: middle;\n",
       "    }\n",
       "\n",
       "    .dataframe tbody tr th {\n",
       "        vertical-align: top;\n",
       "    }\n",
       "\n",
       "    .dataframe thead th {\n",
       "        text-align: right;\n",
       "    }\n",
       "</style>\n",
       "<table border=\"1\" class=\"dataframe\">\n",
       "  <thead>\n",
       "    <tr style=\"text-align: right;\">\n",
       "      <th></th>\n",
       "      <th>line</th>\n",
       "      <th>word</th>\n",
       "    </tr>\n",
       "  </thead>\n",
       "  <tbody>\n",
       "    <tr>\n",
       "      <th>0</th>\n",
       "      <td>0</td>\n",
       "      <td>using</td>\n",
       "    </tr>\n",
       "    <tr>\n",
       "      <th>0</th>\n",
       "      <td>0</td>\n",
       "      <td>tidy</td>\n",
       "    </tr>\n",
       "    <tr>\n",
       "      <th>0</th>\n",
       "      <td>0</td>\n",
       "      <td>data</td>\n",
       "    </tr>\n",
       "    <tr>\n",
       "      <th>0</th>\n",
       "      <td>0</td>\n",
       "      <td>principles</td>\n",
       "    </tr>\n",
       "    <tr>\n",
       "      <th>0</th>\n",
       "      <td>0</td>\n",
       "      <td>is</td>\n",
       "    </tr>\n",
       "    <tr>\n",
       "      <th>0</th>\n",
       "      <td>0</td>\n",
       "      <td>important</td>\n",
       "    </tr>\n",
       "    <tr>\n",
       "      <th>1</th>\n",
       "      <td>1</td>\n",
       "      <td>in</td>\n",
       "    </tr>\n",
       "    <tr>\n",
       "      <th>1</th>\n",
       "      <td>1</td>\n",
       "      <td>this</td>\n",
       "    </tr>\n",
       "    <tr>\n",
       "      <th>1</th>\n",
       "      <td>1</td>\n",
       "      <td>package</td>\n",
       "    </tr>\n",
       "    <tr>\n",
       "      <th>1</th>\n",
       "      <td>1</td>\n",
       "      <td>we</td>\n",
       "    </tr>\n",
       "    <tr>\n",
       "      <th>1</th>\n",
       "      <td>1</td>\n",
       "      <td>provide</td>\n",
       "    </tr>\n",
       "    <tr>\n",
       "      <th>1</th>\n",
       "      <td>1</td>\n",
       "      <td>functions</td>\n",
       "    </tr>\n",
       "    <tr>\n",
       "      <th>1</th>\n",
       "      <td>1</td>\n",
       "      <td>for</td>\n",
       "    </tr>\n",
       "    <tr>\n",
       "      <th>1</th>\n",
       "      <td>1</td>\n",
       "      <td>tidy</td>\n",
       "    </tr>\n",
       "    <tr>\n",
       "      <th>1</th>\n",
       "      <td>1</td>\n",
       "      <td>formats</td>\n",
       "    </tr>\n",
       "    <tr>\n",
       "      <th>2</th>\n",
       "      <td>2</td>\n",
       "      <td>the</td>\n",
       "    </tr>\n",
       "    <tr>\n",
       "      <th>2</th>\n",
       "      <td>2</td>\n",
       "      <td>novels</td>\n",
       "    </tr>\n",
       "    <tr>\n",
       "      <th>2</th>\n",
       "      <td>2</td>\n",
       "      <td>of</td>\n",
       "    </tr>\n",
       "    <tr>\n",
       "      <th>2</th>\n",
       "      <td>2</td>\n",
       "      <td>jane</td>\n",
       "    </tr>\n",
       "    <tr>\n",
       "      <th>2</th>\n",
       "      <td>2</td>\n",
       "      <td>austen</td>\n",
       "    </tr>\n",
       "    <tr>\n",
       "      <th>2</th>\n",
       "      <td>2</td>\n",
       "      <td>can</td>\n",
       "    </tr>\n",
       "    <tr>\n",
       "      <th>2</th>\n",
       "      <td>2</td>\n",
       "      <td>be</td>\n",
       "    </tr>\n",
       "    <tr>\n",
       "      <th>2</th>\n",
       "      <td>2</td>\n",
       "      <td>so</td>\n",
       "    </tr>\n",
       "    <tr>\n",
       "      <th>2</th>\n",
       "      <td>2</td>\n",
       "      <td>tidy</td>\n",
       "    </tr>\n",
       "  </tbody>\n",
       "</table>\n",
       "</div>"
      ],
      "text/plain": [
       "   line        word\n",
       "0     0       using\n",
       "0     0        tidy\n",
       "0     0        data\n",
       "0     0  principles\n",
       "0     0          is\n",
       "0     0   important\n",
       "1     1          in\n",
       "1     1        this\n",
       "1     1     package\n",
       "1     1          we\n",
       "1     1     provide\n",
       "1     1   functions\n",
       "1     1         for\n",
       "1     1        tidy\n",
       "1     1     formats\n",
       "2     2         the\n",
       "2     2      novels\n",
       "2     2          of\n",
       "2     2        jane\n",
       "2     2      austen\n",
       "2     2         can\n",
       "2     2          be\n",
       "2     2          so\n",
       "2     2        tidy"
      ]
     },
     "execution_count": 3,
     "metadata": {},
     "output_type": "execute_result"
    }
   ],
   "source": [
    "from tidytext import unnest_tokens\n",
    "\n",
    "table = unnest_tokens(df, \"word\", \"text\")\n",
    "table"
   ]
  },
  {
   "cell_type": "markdown",
   "id": "successful-optics",
   "metadata": {},
   "source": [
    "## Removing stopwords"
   ]
  },
  {
   "cell_type": "code",
   "execution_count": 4,
   "id": "hybrid-flour",
   "metadata": {},
   "outputs": [
    {
     "data": {
      "text/html": [
       "<div>\n",
       "<style scoped>\n",
       "    .dataframe tbody tr th:only-of-type {\n",
       "        vertical-align: middle;\n",
       "    }\n",
       "\n",
       "    .dataframe tbody tr th {\n",
       "        vertical-align: top;\n",
       "    }\n",
       "\n",
       "    .dataframe thead th {\n",
       "        text-align: right;\n",
       "    }\n",
       "</style>\n",
       "<table border=\"1\" class=\"dataframe\">\n",
       "  <thead>\n",
       "    <tr style=\"text-align: right;\">\n",
       "      <th></th>\n",
       "      <th>line</th>\n",
       "      <th>word</th>\n",
       "    </tr>\n",
       "  </thead>\n",
       "  <tbody>\n",
       "    <tr>\n",
       "      <th>0</th>\n",
       "      <td>0</td>\n",
       "      <td>using</td>\n",
       "    </tr>\n",
       "    <tr>\n",
       "      <th>0</th>\n",
       "      <td>0</td>\n",
       "      <td>tidy</td>\n",
       "    </tr>\n",
       "    <tr>\n",
       "      <th>0</th>\n",
       "      <td>0</td>\n",
       "      <td>data</td>\n",
       "    </tr>\n",
       "    <tr>\n",
       "      <th>0</th>\n",
       "      <td>0</td>\n",
       "      <td>principles</td>\n",
       "    </tr>\n",
       "    <tr>\n",
       "      <th>0</th>\n",
       "      <td>0</td>\n",
       "      <td>important</td>\n",
       "    </tr>\n",
       "    <tr>\n",
       "      <th>1</th>\n",
       "      <td>1</td>\n",
       "      <td>package</td>\n",
       "    </tr>\n",
       "    <tr>\n",
       "      <th>1</th>\n",
       "      <td>1</td>\n",
       "      <td>provide</td>\n",
       "    </tr>\n",
       "    <tr>\n",
       "      <th>1</th>\n",
       "      <td>1</td>\n",
       "      <td>functions</td>\n",
       "    </tr>\n",
       "    <tr>\n",
       "      <th>1</th>\n",
       "      <td>1</td>\n",
       "      <td>tidy</td>\n",
       "    </tr>\n",
       "    <tr>\n",
       "      <th>1</th>\n",
       "      <td>1</td>\n",
       "      <td>formats</td>\n",
       "    </tr>\n",
       "    <tr>\n",
       "      <th>2</th>\n",
       "      <td>2</td>\n",
       "      <td>novels</td>\n",
       "    </tr>\n",
       "    <tr>\n",
       "      <th>2</th>\n",
       "      <td>2</td>\n",
       "      <td>jane</td>\n",
       "    </tr>\n",
       "    <tr>\n",
       "      <th>2</th>\n",
       "      <td>2</td>\n",
       "      <td>austen</td>\n",
       "    </tr>\n",
       "    <tr>\n",
       "      <th>2</th>\n",
       "      <td>2</td>\n",
       "      <td>tidy</td>\n",
       "    </tr>\n",
       "  </tbody>\n",
       "</table>\n",
       "</div>"
      ],
      "text/plain": [
       "   line        word\n",
       "0     0       using\n",
       "0     0        tidy\n",
       "0     0        data\n",
       "0     0  principles\n",
       "0     0   important\n",
       "1     1     package\n",
       "1     1     provide\n",
       "1     1   functions\n",
       "1     1        tidy\n",
       "1     1     formats\n",
       "2     2      novels\n",
       "2     2        jane\n",
       "2     2      austen\n",
       "2     2        tidy"
      ]
     },
     "execution_count": 4,
     "metadata": {},
     "output_type": "execute_result"
    }
   ],
   "source": [
    "import nltk\n",
    "from nltk.tokenize import word_tokenize\n",
    "from nltk.corpus import stopwords\n",
    "\n",
    "stopwords = list(stopwords.words('english'))\n",
    "\n",
    "new_table = table[~table['word'].isin(stopwords)]\n",
    "new_table"
   ]
  },
  {
   "cell_type": "markdown",
   "id": "intermediate-pride",
   "metadata": {},
   "source": [
    "## Summarizing word frequencies"
   ]
  },
  {
   "cell_type": "code",
   "execution_count": 5,
   "id": "identified-adolescent",
   "metadata": {},
   "outputs": [
    {
     "data": {
      "text/plain": [
       "[('tidy', 3),\n",
       " ('using', 1),\n",
       " ('data', 1),\n",
       " ('principles', 1),\n",
       " ('important', 1),\n",
       " ('package', 1),\n",
       " ('provide', 1),\n",
       " ('functions', 1),\n",
       " ('formats', 1),\n",
       " ('novels', 1),\n",
       " ('jane', 1),\n",
       " ('austen', 1)]"
      ]
     },
     "execution_count": 5,
     "metadata": {},
     "output_type": "execute_result"
    }
   ],
   "source": [
    "from nltk.probability import FreqDist\n",
    "\n",
    "words = new_table['word'].values\n",
    "FreqDist(words).most_common(20)"
   ]
  },
  {
   "cell_type": "markdown",
   "id": "seven-detector",
   "metadata": {},
   "source": [
    "## Case Study Austen\n",
    "\n",
    "### Gutenbergr\n",
    "\n",
    "We will use the Gutenberg package from NLTK again to this time analyse the texts of Jane Austen\n"
   ]
  },
  {
   "cell_type": "code",
   "execution_count": 6,
   "id": "nuclear-israeli",
   "metadata": {},
   "outputs": [
    {
     "data": {
      "text/plain": [
       "['austen-emma.txt',\n",
       " 'austen-persuasion.txt',\n",
       " 'austen-sense.txt',\n",
       " 'bible-kjv.txt',\n",
       " 'blake-poems.txt',\n",
       " 'bryant-stories.txt',\n",
       " 'burgess-busterbrown.txt',\n",
       " 'carroll-alice.txt',\n",
       " 'chesterton-ball.txt',\n",
       " 'chesterton-brown.txt',\n",
       " 'chesterton-thursday.txt',\n",
       " 'edgeworth-parents.txt',\n",
       " 'melville-moby_dick.txt',\n",
       " 'milton-paradise.txt',\n",
       " 'shakespeare-caesar.txt',\n",
       " 'shakespeare-hamlet.txt',\n",
       " 'shakespeare-macbeth.txt',\n",
       " 'whitman-leaves.txt']"
      ]
     },
     "execution_count": 6,
     "metadata": {},
     "output_type": "execute_result"
    }
   ],
   "source": [
    "import nltk\n",
    "nltk.corpus.gutenberg.fileids()"
   ]
  },
  {
   "cell_type": "code",
   "execution_count": 7,
   "id": "polish-knock",
   "metadata": {},
   "outputs": [],
   "source": [
    "emma = nltk.corpus.gutenberg.sents('austen-emma.txt')\n",
    "persuasion = nltk.corpus.gutenberg.words('austen-persuasion.txt')\n",
    "sense = nltk.corpus.gutenberg.words('austen-sense.txt')"
   ]
  },
  {
   "cell_type": "markdown",
   "id": "julian-resort",
   "metadata": {},
   "source": [
    "Transform into a tidy dataset.."
   ]
  },
  {
   "cell_type": "code",
   "execution_count": 8,
   "id": "coordinate-waste",
   "metadata": {},
   "outputs": [
    {
     "data": {
      "text/plain": [
       "['[', 'Sense', 'and', 'Sensibility', 'by', 'Jane', ...]"
      ]
     },
     "execution_count": 8,
     "metadata": {},
     "output_type": "execute_result"
    }
   ],
   "source": [
    "sense"
   ]
  },
  {
   "cell_type": "code",
   "execution_count": 9,
   "id": "fresh-usage",
   "metadata": {},
   "outputs": [],
   "source": [
    "def to_tidy(corp):\n",
    "    new = []\n",
    "    for word in corp:\n",
    "        string = \" \".join(word)\n",
    "        new.append(string)\n",
    "\n",
    "    corp_str = ''\n",
    "    for sent in new: \n",
    "        corp_str += sent\n",
    "\n",
    "    text_split = corp_str.split('.')\n",
    "\n",
    "    df = pd.DataFrame({\n",
    "        \"text\": text_split,\n",
    "        \"line\": list(range(len(text_split)))\n",
    "    })\n",
    "    return df"
   ]
  },
  {
   "cell_type": "code",
   "execution_count": 10,
   "id": "saved-hurricane",
   "metadata": {},
   "outputs": [
    {
     "data": {
      "text/html": [
       "<div>\n",
       "<style scoped>\n",
       "    .dataframe tbody tr th:only-of-type {\n",
       "        vertical-align: middle;\n",
       "    }\n",
       "\n",
       "    .dataframe tbody tr th {\n",
       "        vertical-align: top;\n",
       "    }\n",
       "\n",
       "    .dataframe thead th {\n",
       "        text-align: right;\n",
       "    }\n",
       "</style>\n",
       "<table border=\"1\" class=\"dataframe\">\n",
       "  <thead>\n",
       "    <tr style=\"text-align: right;\">\n",
       "      <th></th>\n",
       "      <th>line</th>\n",
       "      <th>word</th>\n",
       "    </tr>\n",
       "  </thead>\n",
       "  <tbody>\n",
       "    <tr>\n",
       "      <th>0</th>\n",
       "      <td>0</td>\n",
       "      <td>emma</td>\n",
       "    </tr>\n",
       "    <tr>\n",
       "      <th>0</th>\n",
       "      <td>0</td>\n",
       "      <td>by</td>\n",
       "    </tr>\n",
       "    <tr>\n",
       "      <th>0</th>\n",
       "      <td>0</td>\n",
       "      <td>jane</td>\n",
       "    </tr>\n",
       "    <tr>\n",
       "      <th>0</th>\n",
       "      <td>0</td>\n",
       "      <td>austen</td>\n",
       "    </tr>\n",
       "    <tr>\n",
       "      <th>0</th>\n",
       "      <td>0</td>\n",
       "      <td>1816</td>\n",
       "    </tr>\n",
       "    <tr>\n",
       "      <th>...</th>\n",
       "      <td>...</td>\n",
       "      <td>...</td>\n",
       "    </tr>\n",
       "    <tr>\n",
       "      <th>8881</th>\n",
       "      <td>8881</td>\n",
       "      <td>happiness</td>\n",
       "    </tr>\n",
       "    <tr>\n",
       "      <th>8881</th>\n",
       "      <td>8881</td>\n",
       "      <td>of</td>\n",
       "    </tr>\n",
       "    <tr>\n",
       "      <th>8881</th>\n",
       "      <td>8881</td>\n",
       "      <td>the</td>\n",
       "    </tr>\n",
       "    <tr>\n",
       "      <th>8881</th>\n",
       "      <td>8881</td>\n",
       "      <td>union</td>\n",
       "    </tr>\n",
       "    <tr>\n",
       "      <th>8882</th>\n",
       "      <td>8882</td>\n",
       "      <td>finis</td>\n",
       "    </tr>\n",
       "  </tbody>\n",
       "</table>\n",
       "<p>162098 rows × 2 columns</p>\n",
       "</div>"
      ],
      "text/plain": [
       "      line       word\n",
       "0        0       emma\n",
       "0        0         by\n",
       "0        0       jane\n",
       "0        0     austen\n",
       "0        0       1816\n",
       "...    ...        ...\n",
       "8881  8881  happiness\n",
       "8881  8881         of\n",
       "8881  8881        the\n",
       "8881  8881      union\n",
       "8882  8882      finis\n",
       "\n",
       "[162098 rows x 2 columns]"
      ]
     },
     "execution_count": 10,
     "metadata": {},
     "output_type": "execute_result"
    }
   ],
   "source": [
    "emma_df = to_tidy(emma)\n",
    "emma_table = unnest_tokens(emma_df, \"word\", \"text\")\n",
    "\n",
    "emma_table"
   ]
  },
  {
   "cell_type": "markdown",
   "id": "thermal-cylinder",
   "metadata": {},
   "source": [
    "Remove stopwords"
   ]
  },
  {
   "cell_type": "code",
   "execution_count": 11,
   "id": "weekly-protocol",
   "metadata": {},
   "outputs": [
    {
     "data": {
      "text/html": [
       "<div>\n",
       "<style scoped>\n",
       "    .dataframe tbody tr th:only-of-type {\n",
       "        vertical-align: middle;\n",
       "    }\n",
       "\n",
       "    .dataframe tbody tr th {\n",
       "        vertical-align: top;\n",
       "    }\n",
       "\n",
       "    .dataframe thead th {\n",
       "        text-align: right;\n",
       "    }\n",
       "</style>\n",
       "<table border=\"1\" class=\"dataframe\">\n",
       "  <thead>\n",
       "    <tr style=\"text-align: right;\">\n",
       "      <th></th>\n",
       "      <th>line</th>\n",
       "      <th>word</th>\n",
       "    </tr>\n",
       "  </thead>\n",
       "  <tbody>\n",
       "    <tr>\n",
       "      <th>0</th>\n",
       "      <td>0</td>\n",
       "      <td>emma</td>\n",
       "    </tr>\n",
       "    <tr>\n",
       "      <th>0</th>\n",
       "      <td>0</td>\n",
       "      <td>jane</td>\n",
       "    </tr>\n",
       "    <tr>\n",
       "      <th>0</th>\n",
       "      <td>0</td>\n",
       "      <td>austen</td>\n",
       "    </tr>\n",
       "    <tr>\n",
       "      <th>0</th>\n",
       "      <td>0</td>\n",
       "      <td>1816</td>\n",
       "    </tr>\n",
       "    <tr>\n",
       "      <th>0</th>\n",
       "      <td>0</td>\n",
       "      <td>volume</td>\n",
       "    </tr>\n",
       "    <tr>\n",
       "      <th>...</th>\n",
       "      <td>...</td>\n",
       "      <td>...</td>\n",
       "    </tr>\n",
       "    <tr>\n",
       "      <th>8881</th>\n",
       "      <td>8881</td>\n",
       "      <td>answered</td>\n",
       "    </tr>\n",
       "    <tr>\n",
       "      <th>8881</th>\n",
       "      <td>8881</td>\n",
       "      <td>perfect</td>\n",
       "    </tr>\n",
       "    <tr>\n",
       "      <th>8881</th>\n",
       "      <td>8881</td>\n",
       "      <td>happiness</td>\n",
       "    </tr>\n",
       "    <tr>\n",
       "      <th>8881</th>\n",
       "      <td>8881</td>\n",
       "      <td>union</td>\n",
       "    </tr>\n",
       "    <tr>\n",
       "      <th>8882</th>\n",
       "      <td>8882</td>\n",
       "      <td>finis</td>\n",
       "    </tr>\n",
       "  </tbody>\n",
       "</table>\n",
       "<p>73156 rows × 2 columns</p>\n",
       "</div>"
      ],
      "text/plain": [
       "      line       word\n",
       "0        0       emma\n",
       "0        0       jane\n",
       "0        0     austen\n",
       "0        0       1816\n",
       "0        0     volume\n",
       "...    ...        ...\n",
       "8881  8881   answered\n",
       "8881  8881    perfect\n",
       "8881  8881  happiness\n",
       "8881  8881      union\n",
       "8882  8882      finis\n",
       "\n",
       "[73156 rows x 2 columns]"
      ]
     },
     "execution_count": 11,
     "metadata": {},
     "output_type": "execute_result"
    }
   ],
   "source": [
    "emma_table = emma_table[~emma_table['word'].isin(stopwords)]\n",
    "\n",
    "emma_table"
   ]
  },
  {
   "cell_type": "markdown",
   "id": "defined-feature",
   "metadata": {},
   "source": [
    "Calculate frequencies"
   ]
  },
  {
   "cell_type": "code",
   "execution_count": 12,
   "id": "unknown-while",
   "metadata": {},
   "outputs": [
    {
     "ename": "NameError",
     "evalue": "name 'new_table2' is not defined",
     "output_type": "error",
     "traceback": [
      "\u001b[0;31m---------------------------------------------------------------------------\u001b[0m",
      "\u001b[0;31mNameError\u001b[0m                                 Traceback (most recent call last)",
      "\u001b[0;32m<ipython-input-12-fac8a61086c2>\u001b[0m in \u001b[0;36m<module>\u001b[0;34m\u001b[0m\n\u001b[0;32m----> 1\u001b[0;31m \u001b[0mwords\u001b[0m \u001b[0;34m=\u001b[0m \u001b[0mnew_table2\u001b[0m\u001b[0;34m[\u001b[0m\u001b[0;34m'word'\u001b[0m\u001b[0;34m]\u001b[0m\u001b[0;34m.\u001b[0m\u001b[0mvalues\u001b[0m\u001b[0;34m\u001b[0m\u001b[0;34m\u001b[0m\u001b[0m\n\u001b[0m\u001b[1;32m      2\u001b[0m \u001b[0mFreqDist\u001b[0m\u001b[0;34m(\u001b[0m\u001b[0mwords\u001b[0m\u001b[0;34m)\u001b[0m\u001b[0;34m.\u001b[0m\u001b[0mmost_common\u001b[0m\u001b[0;34m(\u001b[0m\u001b[0;36m20\u001b[0m\u001b[0;34m)\u001b[0m\u001b[0;34m\u001b[0m\u001b[0;34m\u001b[0m\u001b[0m\n",
      "\u001b[0;31mNameError\u001b[0m: name 'new_table2' is not defined"
     ]
    }
   ],
   "source": [
    "words = new_table2['word'].values\n",
    "FreqDist(words).most_common(20)"
   ]
  },
  {
   "cell_type": "markdown",
   "id": "smart-checklist",
   "metadata": {},
   "source": [
    "## Sentiment analysis Austen\n",
    "\n",
    "We can perform a sentiment analysis on these texts with NLTK.\n",
    "\n",
    "NLTK has a built-in sentiment analyzer: VADER (Valence Aware Dictionary and sEntiment Reasoner)."
   ]
  },
  {
   "cell_type": "code",
   "execution_count": 196,
   "id": "national-challenge",
   "metadata": {},
   "outputs": [
    {
     "data": {
      "text/plain": [
       "{'neg': 0.081, 'neu': 0.745, 'pos': 0.174, 'compound': 1.0}"
      ]
     },
     "execution_count": 196,
     "metadata": {},
     "output_type": "execute_result"
    }
   ],
   "source": [
    "from nltk.sentiment import SentimentIntensityAnalyzer\n",
    "sia = SentimentIntensityAnalyzer()\n",
    "sia.polarity_scores(str(emma_new))"
   ]
  },
  {
   "cell_type": "markdown",
   "id": "tender-attraction",
   "metadata": {},
   "source": [
    "We can check for each sentence whether it is positive or negative"
   ]
  },
  {
   "cell_type": "code",
   "execution_count": 197,
   "id": "geological-bailey",
   "metadata": {},
   "outputs": [
    {
     "name": "stdout",
     "output_type": "stream",
     "text": [
      "{'pos': 0, 'neg': 0, 'neu': 0}\n"
     ]
    }
   ],
   "source": [
    "# from:  https://www.codeproject.com/Articles/5269445/Using-Pre-trained-VADER-Models-for-NLTK-Sentiment\n",
    "scores = {'pos': 0, 'neg': 0, 'neu': 0}\n",
    "for sent in emma_new:\n",
    "    score = sia.polarity_scores(sent)\n",
    "    if score['pos'] > 0.5:\n",
    "        result['pos'] += 1\n",
    "    elif score['neg'] > 0.5:\n",
    "        result['neg'] += 1\n",
    "    elif score['neu'] > 0.5:\n",
    "        result['neu'] += 1\n",
    "print(scores)"
   ]
  },
  {
   "cell_type": "markdown",
   "id": "considerable-governor",
   "metadata": {},
   "source": [
    "As we can see most sentences in Emma are neutral"
   ]
  }
 ],
 "metadata": {
  "kernelspec": {
   "display_name": "Python 3",
   "language": "python",
   "name": "python3"
  },
  "language_info": {
   "codemirror_mode": {
    "name": "ipython",
    "version": 3
   },
   "file_extension": ".py",
   "mimetype": "text/x-python",
   "name": "python",
   "nbconvert_exporter": "python",
   "pygments_lexer": "ipython3",
   "version": "3.9.2"
  }
 },
 "nbformat": 4,
 "nbformat_minor": 5
}