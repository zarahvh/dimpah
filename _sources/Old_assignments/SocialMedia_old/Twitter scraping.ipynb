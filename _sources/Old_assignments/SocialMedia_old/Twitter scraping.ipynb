{
 "cells": [
  {
   "cell_type": "code",
   "execution_count": 1,
   "id": "civil-beatles",
   "metadata": {},
   "outputs": [],
   "source": [
    "import requests\n",
    "import datetime\n",
    "from ipynb.fs.full.keys import *\n",
    "\n",
    "import tweepy\n",
    "\n",
    "consumer_key = twit_key\n",
    "consumer_secret = twit_secr\n",
    "access_token = twit_token\n",
    "\n",
    "auth = tweepy.OAuthHandler(consumer_key, consumer_secret)\n",
    "api = tweepy.API(auth, wait_on_rate_limit=True, wait_on_rate_limit_notify=True, compression=True)\n",
    "\n",
    "\n",
    "\n",
    "# get tweets from certain dates?\n",
    "startDate = datetime.datetime(2021, 5, 24, 0, 0, 0)\n",
    "endDate =   datetime.datetime(2021, 5, 24, 0, 0, 0)\n"
   ]
  },
  {
   "cell_type": "code",
   "execution_count": 9,
   "id": "adaptive-preference",
   "metadata": {},
   "outputs": [
    {
     "data": {
      "text/plain": [
       "200"
      ]
     },
     "execution_count": 9,
     "metadata": {},
     "output_type": "execute_result"
    }
   ],
   "source": [
    "len(tweets)"
   ]
  },
  {
   "cell_type": "code",
   "execution_count": 14,
   "id": "happy-pregnancy",
   "metadata": {},
   "outputs": [],
   "source": [
    "ttweets = []\n",
    "for tweet in tweets:\n",
    "    if tweet.created_at < endDate and tweet.created_at > startDate:\n",
    "        ttweets.append(tweet)"
   ]
  },
  {
   "cell_type": "code",
   "execution_count": 15,
   "id": "suffering-collective",
   "metadata": {},
   "outputs": [
    {
     "data": {
      "text/plain": [
       "0"
      ]
     },
     "execution_count": 15,
     "metadata": {},
     "output_type": "execute_result"
    }
   ],
   "source": []
  },
  {
   "cell_type": "code",
   "execution_count": 21,
   "id": "neither-forum",
   "metadata": {},
   "outputs": [
    {
     "data": {
      "text/plain": [
       "0"
      ]
     },
     "execution_count": 21,
     "metadata": {},
     "output_type": "execute_result"
    }
   ],
   "source": [
    "# get user\n",
    "snow = api.get_user(screen_name = 'Snowden')\n",
    "snow_id = snow.id\n",
    "tweets = api.user_timeline('Snowden', since=startDate, until=endDate, count=500)\n",
    "first_tweet = tweets[0]\n",
    "\n",
    "ttweets = []\n",
    "for tweet in tweets:\n",
    "    if tweet.created_at < endDate and tweet.created_at > startDate:\n",
    "        ttweets.append(tweet)\n",
    "\n",
    "len(ttweets)"
   ]
  },
  {
   "cell_type": "code",
   "execution_count": 20,
   "id": "varied-bumper",
   "metadata": {},
   "outputs": [
    {
     "name": "stdout",
     "output_type": "stream",
     "text": [
      "Status(_api=<tweepy.api.API object at 0x1049f0880>, _json={'created_at': 'Thu Jul 29 05:03:00 +0000 2021', 'id': 1420610789094744064, 'id_str': '1420610789094744064', 'text': 'https://t.co/pjtcY93GR3', 'truncated': False, 'entities': {'hashtags': [], 'symbols': [], 'user_mentions': [], 'urls': [], 'media': [{'id': 1420571567071928322, 'id_str': '1420571567071928322', 'indices': [0, 23], 'media_url': 'http://pbs.twimg.com/media/E7biUFFXoAIxU55.jpg', 'media_url_https': 'https://pbs.twimg.com/media/E7biUFFXoAIxU55.jpg', 'url': 'https://t.co/pjtcY93GR3', 'display_url': 'pic.twitter.com/pjtcY93GR3', 'expanded_url': 'https://twitter.com/Snowden/status/1420610789094744064/photo/1', 'type': 'photo', 'sizes': {'thumb': {'w': 150, 'h': 150, 'resize': 'crop'}, 'medium': {'w': 549, 'h': 540, 'resize': 'fit'}, 'large': {'w': 549, 'h': 540, 'resize': 'fit'}, 'small': {'w': 549, 'h': 540, 'resize': 'fit'}}}]}, 'extended_entities': {'media': [{'id': 1420571567071928322, 'id_str': '1420571567071928322', 'indices': [0, 23], 'media_url': 'http://pbs.twimg.com/media/E7biUFFXoAIxU55.jpg', 'media_url_https': 'https://pbs.twimg.com/media/E7biUFFXoAIxU55.jpg', 'url': 'https://t.co/pjtcY93GR3', 'display_url': 'pic.twitter.com/pjtcY93GR3', 'expanded_url': 'https://twitter.com/Snowden/status/1420610789094744064/photo/1', 'type': 'photo', 'sizes': {'thumb': {'w': 150, 'h': 150, 'resize': 'crop'}, 'medium': {'w': 549, 'h': 540, 'resize': 'fit'}, 'large': {'w': 549, 'h': 540, 'resize': 'fit'}, 'small': {'w': 549, 'h': 540, 'resize': 'fit'}}}]}, 'source': '<a href=\"https://mobile.twitter.com\" rel=\"nofollow\">Twitter Web App</a>', 'in_reply_to_status_id': None, 'in_reply_to_status_id_str': None, 'in_reply_to_user_id': None, 'in_reply_to_user_id_str': None, 'in_reply_to_screen_name': None, 'user': {'id': 2916305152, 'id_str': '2916305152', 'name': 'Edward Snowden', 'screen_name': 'Snowden', 'location': '', 'description': 'I used to work for the government. Now I work for the public. President at @FreedomofPress.', 'url': 'https://t.co/kPBEESUmlH', 'entities': {'url': {'urls': [{'url': 'https://t.co/kPBEESUmlH', 'expanded_url': 'https://edwardsnowden.substack.com', 'display_url': 'edwardsnowden.substack.com', 'indices': [0, 23]}]}, 'description': {'urls': []}}, 'protected': False, 'followers_count': 4752597, 'friends_count': 1, 'listed_count': 22028, 'created_at': 'Thu Dec 11 21:24:28 +0000 2014', 'favourites_count': 527, 'utc_offset': None, 'time_zone': None, 'geo_enabled': False, 'verified': True, 'statuses_count': 5720, 'lang': None, 'contributors_enabled': False, 'is_translator': False, 'is_translation_enabled': False, 'profile_background_color': 'C0DEED', 'profile_background_image_url': 'http://abs.twimg.com/images/themes/theme1/bg.png', 'profile_background_image_url_https': 'https://abs.twimg.com/images/themes/theme1/bg.png', 'profile_background_tile': False, 'profile_image_url': 'http://pbs.twimg.com/profile_images/648888480974508032/66_cUYfj_normal.jpg', 'profile_image_url_https': 'https://pbs.twimg.com/profile_images/648888480974508032/66_cUYfj_normal.jpg', 'profile_banner_url': 'https://pbs.twimg.com/profile_banners/2916305152/1443542022', 'profile_link_color': '1DA1F2', 'profile_sidebar_border_color': 'C0DEED', 'profile_sidebar_fill_color': 'DDEEF6', 'profile_text_color': '333333', 'profile_use_background_image': True, 'has_extended_profile': False, 'default_profile': True, 'default_profile_image': False, 'following': None, 'follow_request_sent': None, 'notifications': None, 'translator_type': 'regular', 'withheld_in_countries': []}, 'geo': None, 'coordinates': None, 'place': None, 'contributors': None, 'is_quote_status': False, 'retweet_count': 1018, 'favorite_count': 13944, 'favorited': False, 'retweeted': False, 'possibly_sensitive': False, 'lang': 'und'}, created_at=datetime.datetime(2021, 7, 29, 5, 3), id=1420610789094744064, id_str='1420610789094744064', text='https://t.co/pjtcY93GR3', truncated=False, entities={'hashtags': [], 'symbols': [], 'user_mentions': [], 'urls': [], 'media': [{'id': 1420571567071928322, 'id_str': '1420571567071928322', 'indices': [0, 23], 'media_url': 'http://pbs.twimg.com/media/E7biUFFXoAIxU55.jpg', 'media_url_https': 'https://pbs.twimg.com/media/E7biUFFXoAIxU55.jpg', 'url': 'https://t.co/pjtcY93GR3', 'display_url': 'pic.twitter.com/pjtcY93GR3', 'expanded_url': 'https://twitter.com/Snowden/status/1420610789094744064/photo/1', 'type': 'photo', 'sizes': {'thumb': {'w': 150, 'h': 150, 'resize': 'crop'}, 'medium': {'w': 549, 'h': 540, 'resize': 'fit'}, 'large': {'w': 549, 'h': 540, 'resize': 'fit'}, 'small': {'w': 549, 'h': 540, 'resize': 'fit'}}}]}, extended_entities={'media': [{'id': 1420571567071928322, 'id_str': '1420571567071928322', 'indices': [0, 23], 'media_url': 'http://pbs.twimg.com/media/E7biUFFXoAIxU55.jpg', 'media_url_https': 'https://pbs.twimg.com/media/E7biUFFXoAIxU55.jpg', 'url': 'https://t.co/pjtcY93GR3', 'display_url': 'pic.twitter.com/pjtcY93GR3', 'expanded_url': 'https://twitter.com/Snowden/status/1420610789094744064/photo/1', 'type': 'photo', 'sizes': {'thumb': {'w': 150, 'h': 150, 'resize': 'crop'}, 'medium': {'w': 549, 'h': 540, 'resize': 'fit'}, 'large': {'w': 549, 'h': 540, 'resize': 'fit'}, 'small': {'w': 549, 'h': 540, 'resize': 'fit'}}}]}, source='Twitter Web App', source_url='https://mobile.twitter.com', in_reply_to_status_id=None, in_reply_to_status_id_str=None, in_reply_to_user_id=None, in_reply_to_user_id_str=None, in_reply_to_screen_name=None, author=User(_api=<tweepy.api.API object at 0x1049f0880>, _json={'id': 2916305152, 'id_str': '2916305152', 'name': 'Edward Snowden', 'screen_name': 'Snowden', 'location': '', 'description': 'I used to work for the government. Now I work for the public. President at @FreedomofPress.', 'url': 'https://t.co/kPBEESUmlH', 'entities': {'url': {'urls': [{'url': 'https://t.co/kPBEESUmlH', 'expanded_url': 'https://edwardsnowden.substack.com', 'display_url': 'edwardsnowden.substack.com', 'indices': [0, 23]}]}, 'description': {'urls': []}}, 'protected': False, 'followers_count': 4752597, 'friends_count': 1, 'listed_count': 22028, 'created_at': 'Thu Dec 11 21:24:28 +0000 2014', 'favourites_count': 527, 'utc_offset': None, 'time_zone': None, 'geo_enabled': False, 'verified': True, 'statuses_count': 5720, 'lang': None, 'contributors_enabled': False, 'is_translator': False, 'is_translation_enabled': False, 'profile_background_color': 'C0DEED', 'profile_background_image_url': 'http://abs.twimg.com/images/themes/theme1/bg.png', 'profile_background_image_url_https': 'https://abs.twimg.com/images/themes/theme1/bg.png', 'profile_background_tile': False, 'profile_image_url': 'http://pbs.twimg.com/profile_images/648888480974508032/66_cUYfj_normal.jpg', 'profile_image_url_https': 'https://pbs.twimg.com/profile_images/648888480974508032/66_cUYfj_normal.jpg', 'profile_banner_url': 'https://pbs.twimg.com/profile_banners/2916305152/1443542022', 'profile_link_color': '1DA1F2', 'profile_sidebar_border_color': 'C0DEED', 'profile_sidebar_fill_color': 'DDEEF6', 'profile_text_color': '333333', 'profile_use_background_image': True, 'has_extended_profile': False, 'default_profile': True, 'default_profile_image': False, 'following': None, 'follow_request_sent': None, 'notifications': None, 'translator_type': 'regular', 'withheld_in_countries': []}, id=2916305152, id_str='2916305152', name='Edward Snowden', screen_name='Snowden', location='', description='I used to work for the government. Now I work for the public. President at @FreedomofPress.', url='https://t.co/kPBEESUmlH', entities={'url': {'urls': [{'url': 'https://t.co/kPBEESUmlH', 'expanded_url': 'https://edwardsnowden.substack.com', 'display_url': 'edwardsnowden.substack.com', 'indices': [0, 23]}]}, 'description': {'urls': []}}, protected=False, followers_count=4752597, friends_count=1, listed_count=22028, created_at=datetime.datetime(2014, 12, 11, 21, 24, 28), favourites_count=527, utc_offset=None, time_zone=None, geo_enabled=False, verified=True, statuses_count=5720, lang=None, contributors_enabled=False, is_translator=False, is_translation_enabled=False, profile_background_color='C0DEED', profile_background_image_url='http://abs.twimg.com/images/themes/theme1/bg.png', profile_background_image_url_https='https://abs.twimg.com/images/themes/theme1/bg.png', profile_background_tile=False, profile_image_url='http://pbs.twimg.com/profile_images/648888480974508032/66_cUYfj_normal.jpg', profile_image_url_https='https://pbs.twimg.com/profile_images/648888480974508032/66_cUYfj_normal.jpg', profile_banner_url='https://pbs.twimg.com/profile_banners/2916305152/1443542022', profile_link_color='1DA1F2', profile_sidebar_border_color='C0DEED', profile_sidebar_fill_color='DDEEF6', profile_text_color='333333', profile_use_background_image=True, has_extended_profile=False, default_profile=True, default_profile_image=False, following=False, follow_request_sent=None, notifications=None, translator_type='regular', withheld_in_countries=[]), user=User(_api=<tweepy.api.API object at 0x1049f0880>, _json={'id': 2916305152, 'id_str': '2916305152', 'name': 'Edward Snowden', 'screen_name': 'Snowden', 'location': '', 'description': 'I used to work for the government. Now I work for the public. President at @FreedomofPress.', 'url': 'https://t.co/kPBEESUmlH', 'entities': {'url': {'urls': [{'url': 'https://t.co/kPBEESUmlH', 'expanded_url': 'https://edwardsnowden.substack.com', 'display_url': 'edwardsnowden.substack.com', 'indices': [0, 23]}]}, 'description': {'urls': []}}, 'protected': False, 'followers_count': 4752597, 'friends_count': 1, 'listed_count': 22028, 'created_at': 'Thu Dec 11 21:24:28 +0000 2014', 'favourites_count': 527, 'utc_offset': None, 'time_zone': None, 'geo_enabled': False, 'verified': True, 'statuses_count': 5720, 'lang': None, 'contributors_enabled': False, 'is_translator': False, 'is_translation_enabled': False, 'profile_background_color': 'C0DEED', 'profile_background_image_url': 'http://abs.twimg.com/images/themes/theme1/bg.png', 'profile_background_image_url_https': 'https://abs.twimg.com/images/themes/theme1/bg.png', 'profile_background_tile': False, 'profile_image_url': 'http://pbs.twimg.com/profile_images/648888480974508032/66_cUYfj_normal.jpg', 'profile_image_url_https': 'https://pbs.twimg.com/profile_images/648888480974508032/66_cUYfj_normal.jpg', 'profile_banner_url': 'https://pbs.twimg.com/profile_banners/2916305152/1443542022', 'profile_link_color': '1DA1F2', 'profile_sidebar_border_color': 'C0DEED', 'profile_sidebar_fill_color': 'DDEEF6', 'profile_text_color': '333333', 'profile_use_background_image': True, 'has_extended_profile': False, 'default_profile': True, 'default_profile_image': False, 'following': None, 'follow_request_sent': None, 'notifications': None, 'translator_type': 'regular', 'withheld_in_countries': []}, id=2916305152, id_str='2916305152', name='Edward Snowden', screen_name='Snowden', location='', description='I used to work for the government. Now I work for the public. President at @FreedomofPress.', url='https://t.co/kPBEESUmlH', entities={'url': {'urls': [{'url': 'https://t.co/kPBEESUmlH', 'expanded_url': 'https://edwardsnowden.substack.com', 'display_url': 'edwardsnowden.substack.com', 'indices': [0, 23]}]}, 'description': {'urls': []}}, protected=False, followers_count=4752597, friends_count=1, listed_count=22028, created_at=datetime.datetime(2014, 12, 11, 21, 24, 28), favourites_count=527, utc_offset=None, time_zone=None, geo_enabled=False, verified=True, statuses_count=5720, lang=None, contributors_enabled=False, is_translator=False, is_translation_enabled=False, profile_background_color='C0DEED', profile_background_image_url='http://abs.twimg.com/images/themes/theme1/bg.png', profile_background_image_url_https='https://abs.twimg.com/images/themes/theme1/bg.png', profile_background_tile=False, profile_image_url='http://pbs.twimg.com/profile_images/648888480974508032/66_cUYfj_normal.jpg', profile_image_url_https='https://pbs.twimg.com/profile_images/648888480974508032/66_cUYfj_normal.jpg', profile_banner_url='https://pbs.twimg.com/profile_banners/2916305152/1443542022', profile_link_color='1DA1F2', profile_sidebar_border_color='C0DEED', profile_sidebar_fill_color='DDEEF6', profile_text_color='333333', profile_use_background_image=True, has_extended_profile=False, default_profile=True, default_profile_image=False, following=False, follow_request_sent=None, notifications=None, translator_type='regular', withheld_in_countries=[]), geo=None, coordinates=None, place=None, contributors=None, is_quote_status=False, retweet_count=1018, favorite_count=13944, favorited=False, retweeted=False, possibly_sensitive=False, lang='und')\n"
     ]
    }
   ],
   "source": [
    "print(first_tweet)"
   ]
  },
  {
   "cell_type": "code",
   "execution_count": null,
   "id": "anticipated-iceland",
   "metadata": {},
   "outputs": [],
   "source": []
  }
 ],
 "metadata": {
  "kernelspec": {
   "display_name": "Python 3",
   "language": "python",
   "name": "python3"
  },
  "language_info": {
   "codemirror_mode": {
    "name": "ipython",
    "version": 3
   },
   "file_extension": ".py",
   "mimetype": "text/x-python",
   "name": "python",
   "nbconvert_exporter": "python",
   "pygments_lexer": "ipython3",
   "version": "3.9.2"
  }
 },
 "nbformat": 4,
 "nbformat_minor": 5
}
