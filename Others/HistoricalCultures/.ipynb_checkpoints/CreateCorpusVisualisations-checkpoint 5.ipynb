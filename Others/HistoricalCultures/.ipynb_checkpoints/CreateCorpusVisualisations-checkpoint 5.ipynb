{
 "cells": [
  {
   "cell_type": "markdown",
   "id": "hidden-saskatchewan",
   "metadata": {},
   "source": [
    "# Create corpus and Visualise\n",
    "\n",
    "## Create Corpus\n",
    "\n",
    "In the this exercise you will build your own corpus. It is easy.\n",
    "\n",
    "Please, create a folder on your computer to download 5-10 of the top Gutenberg books from https://www.gutenberg.org/browse/scores/top \n",
    "\n",
    "You need to download the Plain-Text versions (ASCII).\n",
    "\n",
    "Set my_folder to the directory you used to download the books. Do you remember the relative and absolute paths and how to set your working directory?"
   ]
  },
  {
   "cell_type": "code",
   "execution_count": 1,
   "id": "theoretical-dining",
   "metadata": {},
   "outputs": [],
   "source": [
    "Wonderland = open(\"MyCorpus/11-0.txt\", \"r\")\n",
    "Pride = open(\"MyCorpus/1342-0.txt\", \"r\")\n",
    "Tale = open(\"MyCorpus/98-0.txt\", \"r\")\n",
    "Yellow = open(\"MyCorpus/pg1952.txt\", \"r\")\n",
    "\n",
    "Wonderland = Wonderland.read()\n",
    "Pride = Pride.read()\n",
    "Tale = Tale.read()\n",
    "Yellow = Yellow.read()"
   ]
  },
  {
   "cell_type": "code",
   "execution_count": null,
   "id": "welsh-peninsula",
   "metadata": {},
   "outputs": [],
   "source": [
    "import nltk\n",
    "from nltk.tokenize import word_tokenize\n",
    "from nltk.corpus import stopwords\n",
    "\n",
    "stopwords = list(stopwords.words('english'))\n",
    "\n",
    "\n",
    "\n",
    "def Corpuser(corpus):\n",
    "    corpus = word_tokenize(corpus)\n",
    "    corpus = [word.replace(\" \", \"\") for word in corpus]\n",
    "    corpus = [word.lower() for word in corpus if word.isalpha()]\n",
    "\n",
    "    corpus = [word for word in corpus if word not in stopwords]\n",
    "    \n",
    "    return corpus"
   ]
  }
 ],
 "metadata": {
  "kernelspec": {
   "display_name": "Python 3",
   "language": "python",
   "name": "python3"
  },
  "language_info": {
   "codemirror_mode": {
    "name": "ipython",
    "version": 3
   },
   "file_extension": ".py",
   "mimetype": "text/x-python",
   "name": "python",
   "nbconvert_exporter": "python",
   "pygments_lexer": "ipython3",
   "version": "3.9.2"
  }
 },
 "nbformat": 4,
 "nbformat_minor": 5
}
