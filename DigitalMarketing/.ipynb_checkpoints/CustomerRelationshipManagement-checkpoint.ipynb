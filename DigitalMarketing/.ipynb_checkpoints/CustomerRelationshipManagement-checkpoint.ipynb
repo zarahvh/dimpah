{
 "cells": [
  {
   "cell_type": "markdown",
   "id": "cross-refund",
   "metadata": {},
   "source": [
    "# Customer Relationship Management\n",
    "\n",
    "## Survival Analysis\n",
    "\n",
    "Survival analysis corresponds to approaches  to investigate the time it takes for an event of interest to occur. It's one of the oldest analytics fields going back to the 17th century. \n",
    "\n",
    "Survival analysis is used in a variety of field such as:\n",
    "\n",
    "- Cancer studies for patients survival time analyses.\n",
    "- Sociology for event-history analysis\n",
    "- Digital marketing to answer questions such as after ordering for the first time in an online shop, when do customers place their second order?"
   ]
  },
  {
   "cell_type": "markdown",
   "id": "postal-enhancement",
   "metadata": {},
   "source": [
    "### Use Case: Online Shop\n",
    "\n",
    "Our example is data about customers in an online shop. dataNextOrder contains: boughtAgain with a value 0 for customers with only one order and 1 for customers with a second order already. If a person has ordered a second time, you will see the number of days between the first and second order in the variable daysSinceFirstPurch. For customers without a second order, daysSinceFirstPurch contains the time since their first order. The data also contains information about whether a voucher was used, the gender and whether the item was returned.\n",
    "\n",
    "Let's check it out:"
   ]
  },
  {
   "cell_type": "code",
   "execution_count": 3,
   "id": "standing-delight",
   "metadata": {},
   "outputs": [
    {
     "data": {
      "text/html": [
       "<div>\n",
       "<style scoped>\n",
       "    .dataframe tbody tr th:only-of-type {\n",
       "        vertical-align: middle;\n",
       "    }\n",
       "\n",
       "    .dataframe tbody tr th {\n",
       "        vertical-align: top;\n",
       "    }\n",
       "\n",
       "    .dataframe thead th {\n",
       "        text-align: right;\n",
       "    }\n",
       "</style>\n",
       "<table border=\"1\" class=\"dataframe\">\n",
       "  <thead>\n",
       "    <tr style=\"text-align: right;\">\n",
       "      <th></th>\n",
       "      <th>daysSinceFirstPurch</th>\n",
       "      <th>shoppingCartValue</th>\n",
       "      <th>gender</th>\n",
       "      <th>voucher</th>\n",
       "      <th>returned</th>\n",
       "      <th>boughtAgain</th>\n",
       "    </tr>\n",
       "  </thead>\n",
       "  <tbody>\n",
       "    <tr>\n",
       "      <th>0</th>\n",
       "      <td>37</td>\n",
       "      <td>33.44</td>\n",
       "      <td>male</td>\n",
       "      <td>0</td>\n",
       "      <td>0</td>\n",
       "      <td>0</td>\n",
       "    </tr>\n",
       "    <tr>\n",
       "      <th>1</th>\n",
       "      <td>63</td>\n",
       "      <td>31.71</td>\n",
       "      <td>male</td>\n",
       "      <td>1</td>\n",
       "      <td>0</td>\n",
       "      <td>1</td>\n",
       "    </tr>\n",
       "    <tr>\n",
       "      <th>2</th>\n",
       "      <td>48</td>\n",
       "      <td>27.31</td>\n",
       "      <td>female</td>\n",
       "      <td>0</td>\n",
       "      <td>0</td>\n",
       "      <td>0</td>\n",
       "    </tr>\n",
       "    <tr>\n",
       "      <th>3</th>\n",
       "      <td>17</td>\n",
       "      <td>41.07</td>\n",
       "      <td>male</td>\n",
       "      <td>0</td>\n",
       "      <td>0</td>\n",
       "      <td>1</td>\n",
       "    </tr>\n",
       "    <tr>\n",
       "      <th>4</th>\n",
       "      <td>53</td>\n",
       "      <td>65.56</td>\n",
       "      <td>female</td>\n",
       "      <td>0</td>\n",
       "      <td>0</td>\n",
       "      <td>0</td>\n",
       "    </tr>\n",
       "  </tbody>\n",
       "</table>\n",
       "</div>"
      ],
      "text/plain": [
       "   daysSinceFirstPurch  shoppingCartValue  gender  voucher  returned  \\\n",
       "0                   37              33.44    male        0         0   \n",
       "1                   63              31.71    male        1         0   \n",
       "2                   48              27.31  female        0         0   \n",
       "3                   17              41.07    male        0         0   \n",
       "4                   53              65.56  female        0         0   \n",
       "\n",
       "   boughtAgain  \n",
       "0            0  \n",
       "1            1  \n",
       "2            0  \n",
       "3            1  \n",
       "4            0  "
      ]
     },
     "execution_count": 3,
     "metadata": {},
     "output_type": "execute_result"
    }
   ],
   "source": [
    "import matplotlib.pyplot as plt\n",
    "import pandas as pd\n",
    "\n",
    "dataNextOrder = pd.read_csv(\"dataNextOrder.csv\")\n",
    "dataNextOrder.head()"
   ]
  },
  {
   "cell_type": "code",
   "execution_count": 6,
   "id": "prompt-timing",
   "metadata": {},
   "outputs": [
    {
     "data": {
      "text/plain": [
       "<AxesSubplot:ylabel='Frequency'>"
      ]
     },
     "execution_count": 6,
     "metadata": {},
     "output_type": "execute_result"
    },
    {
     "data": {
      "image/png": "[encoded data removed]",
      "text/plain": [
       "<Figure size 432x288 with 1 Axes>"
      ]
     },
     "metadata": {
      "needs_background": "light"
     },
     "output_type": "display_data"
    }
   ],
   "source": [
    "dataNextOrder['daysSinceFirstPurch'].plot.hist()"
   ]
  },
  {
   "cell_type": "code",
   "execution_count": 17,
   "id": "dated-funeral",
   "metadata": {},
   "outputs": [
    {
     "data": {
      "image/png": "[encoded data removed]",
      "text/plain": [
       "<Figure size 432x288 with 1 Axes>"
      ]
     },
     "metadata": {
      "needs_background": "light"
     },
     "output_type": "display_data"
    },
    {
     "data": {
      "image/png": "[encoded data removed]",
      "text/plain": [
       "<Figure size 432x288 with 1 Axes>"
      ]
     },
     "metadata": {
      "needs_background": "light"
     },
     "output_type": "display_data"
    }
   ],
   "source": [
    "boughtagain = dataNextOrder.loc[dataNextOrder['boughtAgain'] == 1]\n",
    "notboughtagain = dataNextOrder.loc[dataNextOrder['boughtAgain'] == 0]\n",
    "\n",
    "boughtagain['daysSinceFirstPurch'].plot.hist(title='Bought again: Yes')\n",
    "plt.show()\n",
    "notboughtagain['daysSinceFirstPurch'].plot.hist(title='Bought again: No')\n",
    "plt.show()"
   ]
  },
  {
   "cell_type": "markdown",
   "id": "worse-front",
   "metadata": {},
   "source": [
    "You can see that from about <50 days, the shop should be concerned whether a costumer returns/survives.\n",
    "\n",
    "### Survival Models\n",
    "\n",
    "In survival analysis, each observation has one of two states: either an event occured, or it didn't occur. But you don't know if it occurs tomorrow or in three years.\n",
    "\n",
    "### Analysis \n",
    "\n",
    "We are going to apply the very basic technique called Kaplan-Meier Analysis. Kaplan-Meier analysis is used to analyze how a given population evolves with time. This technique is mostly applied to survival data and product quality data. \n",
    "\n",
    "The Kaplan-Meier method is a descriptive methods of survival analysis, and allows you to quickly obtain a population survival curve and essential statistics such as the median survival time. In our case 41 days.\n",
    "\n"
   ]
  },
  {
   "cell_type": "code",
   "execution_count": 20,
   "id": "varying-privilege",
   "metadata": {},
   "outputs": [
    {
     "data": {
      "text/plain": [
       "<AxesSubplot:xlabel='timeline'>"
      ]
     },
     "execution_count": 20,
     "metadata": {},
     "output_type": "execute_result"
    },
    {
     "data": {
      "image/png": "[encoded data removed]",
      "text/plain": [
       "<Figure size 432x288 with 1 Axes>"
      ]
     },
     "metadata": {
      "needs_background": "light"
     },
     "output_type": "display_data"
    }
   ],
   "source": [
    "from lifelines import KaplanMeierFitter\n",
    "\n",
    "kmf = KaplanMeierFitter() \n",
    "\n",
    "kmf.fit(dataNextOrder['daysSinceFirstPurch'], dataNextOrder['boughtAgain'],label='Kaplan Meier Estimate')\n",
    "\n",
    "## Create an estimate\n",
    "kmf.plot(ci_show=False)"
   ]
  },
  {
   "cell_type": "markdown",
   "id": "appointed-desperate",
   "metadata": {},
   "source": [
    "We can clearly see between 40-50 days the chance for a further purchase is halved. As you can see we haven't taken any of the other variables into consideration. we can also easily check whether, e.g., vouchers have an influence on the next purchase - as one might expect."
   ]
  },
  {
   "cell_type": "code",
   "execution_count": 25,
   "id": "binary-queens",
   "metadata": {},
   "outputs": [
    {
     "data": {
      "text/plain": [
       "<AxesSubplot:xlabel='timeline'>"
      ]
     },
     "execution_count": 25,
     "metadata": {},
     "output_type": "execute_result"
    },
    {
     "data": {
      "image/png": "[encoded data removed]",
      "text/plain": [
       "<Figure size 432x288 with 1 Axes>"
      ]
     },
     "metadata": {
      "needs_background": "light"
     },
     "output_type": "display_data"
    }
   ],
   "source": [
    "groups = dataNextOrder['voucher']   \n",
    "\n",
    "novoucher = (groups == 0)      \n",
    "voucher = (groups == 1)\n",
    "\n",
    "kmf.fit(dataNextOrder['daysSinceFirstPurch'][novoucher], dataNextOrder['boughtAgain'][novoucher], label='No Voucher')\n",
    "vplot = kmf.plot()\n",
    "\n",
    "## fit the model for 2nd cohort\n",
    "kmf.fit(dataNextOrder['daysSinceFirstPurch'][voucher], dataNextOrder['boughtAgain'][voucher], label='Voucher')\n",
    "kmf.plot(ax=vplot)"
   ]
  },
  {
   "cell_type": "markdown",
   "id": "aware-defendant",
   "metadata": {},
   "source": [
    "Maybe surprisingly, customers using a voucher are taking longer fo second order. What are they waiting for?"
   ]
  }
 ],
 "metadata": {
  "kernelspec": {
   "display_name": "Python 3",
   "language": "python",
   "name": "python3"
  },
  "language_info": {
   "codemirror_mode": {
    "name": "ipython",
    "version": 3
   },
   "file_extension": ".py",
   "mimetype": "text/x-python",
   "name": "python",
   "nbconvert_exporter": "python",
   "pygments_lexer": "ipython3",
   "version": "3.9.2"
  }
 },
 "nbformat": 4,
 "nbformat_minor": 5
}
