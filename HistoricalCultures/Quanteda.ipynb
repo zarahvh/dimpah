{
 "cells": [
  {
   "cell_type": "code",
   "execution_count": null,
   "id": "honest-mouse",
   "metadata": {},
   "outputs": [],
   "source": [
    "# quanteda in python --> NLTK?\n",
    "# data_char_ukimmig2010 corpus where? it exists in quanteda\n",
    "# --> maybe try a built in corpus in NLTK\n",
    "# https://www.nltk.org/book/ch02.html"
   ]
  }
 ],
 "metadata": {
  "kernelspec": {
   "display_name": "Python 3",
   "language": "python",
   "name": "python3"
  },
  "language_info": {
   "codemirror_mode": {
    "name": "ipython",
    "version": 3
   },
   "file_extension": ".py",
   "mimetype": "text/x-python",
   "name": "python",
   "nbconvert_exporter": "python",
   "pygments_lexer": "ipython3",
   "version": "3.9.2"
  }
 },
 "nbformat": 4,
 "nbformat_minor": 5
}
